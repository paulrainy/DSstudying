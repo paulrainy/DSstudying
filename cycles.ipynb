{
 "cells": [
  {
   "cell_type": "markdown",
   "source": [
    "# Ex 2.2\n",
    "Напишите программу, которая находит произведение элементов списка num_list. В качестве начального значения произведения задайте 1.\n",
    "Далее в цикле перебирайте элементы списка num_list и умножайте значение произведения на элемент списка.\n",
    "Результирующее произведение занесите в переменную p.\n",
    "Примеры работы программы:\n",
    "```python\n",
    "num_list = [98, 24, 23, 12, 3]\n",
    "## p = 1947456\n",
    "\n",
    "num_list = [1, 10, 0.5, 21, 0.13]\n",
    "## p = 13.65\n",
    "```\n",
    "Примечание: Обратите внимание, что для отправки кода на проверку переменную num_list объявлять не нужно.\n",
    "Не забудьте удалить строку с её объявлением перед отправкой кода на тестирование."
   ],
   "metadata": {
    "collapsed": false
   },
   "id": "1a116f51f539dfb1"
  },
  {
   "cell_type": "code",
   "outputs": [
    {
     "name": "stdout",
     "output_type": "stream",
     "text": [
      "1947456\n"
     ]
    }
   ],
   "source": [
    "num_list = [98, 24, 23, 12, 3]\n",
    "p = 1\n",
    "for num in num_list:\n",
    "    p *= num\n",
    "print(p)"
   ],
   "metadata": {
    "collapsed": false,
    "ExecuteTime": {
     "end_time": "2024-03-18T13:31:50.386888Z",
     "start_time": "2024-03-18T13:31:50.375270Z"
    }
   },
   "id": "56e7969910917ec7",
   "execution_count": 1
  },
  {
   "cell_type": "markdown",
   "source": [
    "# Ex 2.4\n",
    "В математике факториал числа n — это произведение чисел от 1 до n включительно. Это записывается как:\n",
    "n! = 1 · 2 · 3 · ... · (n-1) · n\n",
    "Например:\n",
    "3! = 1 · 2 · 3 = 6\n",
    "5! = 1 · 2 · 3 · 4 · 5 = 120\n",
    "Факториал часто применяется в высшей математике, например в комбинаторике, теории вероятностей и дифференциальном исчислении.\n",
    "В переменной n хранится натуральное число. Напишите программу для вычисления факториала числа n. Результат запишите в переменную p.\n",
    "Пример работы программы:\n",
    "```python\n",
    "n = 3\n",
    "## p = 6\n",
    "n = 5\n",
    "## p = 120\n",
    "n = 10\n",
    "## p = 3628800\n",
    "```\n",
    "Примечание: Обратите внимание, что для отправки кода на проверку переменную n объявлять не нужно. \n",
    "Не забудьте удалить строку с её объявлением перед отправкой кода на тестирование."
   ],
   "metadata": {
    "collapsed": false
   },
   "id": "953640486ec28067"
  },
  {
   "cell_type": "code",
   "outputs": [
    {
     "name": "stdout",
     "output_type": "stream",
     "text": [
      "479001600\n"
     ]
    }
   ],
   "source": [
    "n = 12\n",
    "p = 1\n",
    "for i in range(1, n + 1, 1):\n",
    "    p *= i\n",
    "print(p)"
   ],
   "metadata": {
    "collapsed": false,
    "ExecuteTime": {
     "end_time": "2024-03-18T13:43:52.425977Z",
     "start_time": "2024-03-18T13:43:52.418856Z"
    }
   },
   "id": "720b9a6f6db97a1c",
   "execution_count": 6
  },
  {
   "cell_type": "markdown",
   "source": [
    "# Ex 2.5\n",
    "Напишите программу, которая будет печатать «лесенку» из символов '*' в зависимости от значения переменной n. \n",
    "Число n может быть любым натуральным числом (1, 2, 3…) и задаётся внешней программой при тестировании.\n",
    "Примеры работы программы:\n",
    "```\n",
    "n = 3\n",
    "*\n",
    "**\n",
    "***\n",
    "\n",
    "n = 4\n",
    "*\n",
    "**\n",
    "***\n",
    "****\n",
    "```\n",
    "Примечание: Обратите внимание, что для отправки кода на проверку переменную n объявлять не нужно.\n",
    "Не забудьте удалить строку с её объявлением перед отправкой кода на тестирование."
   ],
   "metadata": {
    "collapsed": false
   },
   "id": "2c9890cb6a52783e"
  },
  {
   "cell_type": "code",
   "outputs": [
    {
     "name": "stdout",
     "output_type": "stream",
     "text": [
      "*\n",
      "**\n",
      "***\n",
      "****\n"
     ]
    }
   ],
   "source": [
    "n = 4\n",
    "for i in range(1, n + 1, 1):\n",
    "    print('*' * i)"
   ],
   "metadata": {
    "collapsed": false,
    "ExecuteTime": {
     "end_time": "2024-03-18T13:46:10.570195Z",
     "start_time": "2024-03-18T13:46:10.563793Z"
    }
   },
   "id": "c9ea293d64471ef2",
   "execution_count": 7
  },
  {
   "cell_type": "markdown",
   "source": [
    "# Ex 2.6\n",
    "Что будет содержать список my_list после запуска кода ниже?"
   ],
   "metadata": {
    "collapsed": false
   },
   "id": "10157036c9215685"
  },
  {
   "cell_type": "code",
   "outputs": [
    {
     "name": "stdout",
     "output_type": "stream",
     "text": [
      "[0, 1, 4, 9, 16, 25, 36, 49, 64, 81]\n"
     ]
    }
   ],
   "source": [
    "my_list = []\n",
    "for number in range(0, 10):\n",
    "    my_list.append(number**2)\n",
    "print(my_list)"
   ],
   "metadata": {
    "collapsed": false,
    "ExecuteTime": {
     "end_time": "2024-03-18T13:47:17.593649Z",
     "start_time": "2024-03-18T13:47:17.589425Z"
    }
   },
   "id": "c35671cecca2c7a4",
   "execution_count": 10
  },
  {
   "cell_type": "markdown",
   "source": [
    "# Ex 2.9\n",
    "Вам задан список num_list, состоящий из чисел (int и float) например:\n",
    "```python\n",
    "num_list = [1, 10, 3, -5]\n",
    "```\n",
    "Отсортируйте его с помощью метода sort() для списков,\n",
    "а затем последовательно выведите на экран элементы этого списка с помощью цикла for в следующем формате: \"element {i}: {elem}\",\n",
    "где i - индекс элемента в списке, elem - элемент.\n",
    "Пример работы программы:\n",
    "```python\n",
    "num_list = [1, 10, 3, -5]\n",
    "## element 0: -5\n",
    "## element 1: 1\n",
    "## element 2: 3\n",
    "## element 3: 10\n",
    "```\n",
    "Примечание: Обратите внимание, что для отправки кода на проверку переменную num_list объявлять не нужно.\n",
    "Не забудьте удалить строку кода с ее объявлением перед тем как отправить код на тестирование."
   ],
   "metadata": {
    "collapsed": false
   },
   "id": "b6df91c433235ab0"
  },
  {
   "cell_type": "code",
   "outputs": [
    {
     "name": "stdout",
     "output_type": "stream",
     "text": [
      "element 0: -5\n",
      "element 1: 1\n",
      "element 2: 3\n",
      "element 3: 10\n"
     ]
    }
   ],
   "source": [
    "num_list = [1, 10, 3, -5]\n",
    "num_list.sort()\n",
    "i = 0\n",
    "for i in range(len(num_list)):\n",
    "    print(f\"element {i}: {num_list[i]}\")"
   ],
   "metadata": {
    "collapsed": false,
    "ExecuteTime": {
     "end_time": "2024-03-18T14:21:53.953866Z",
     "start_time": "2024-03-18T14:21:53.949726Z"
    }
   },
   "id": "54d4b236cf570dc6",
   "execution_count": 14
  },
  {
   "cell_type": "markdown",
   "source": [
    "# Ex 2.10\n",
    "Дан список num_list, состоящий из целых чисел (int). Например:\n",
    "```python\n",
    "num_list = list(range(0, 100, 3)) \n",
    "```\n",
    "С помощью цикла for посчитайте количество чётных элементов в списке. Результат запишите в переменную count_even.\n",
    "Примеры работы программы:\n",
    "```python\n",
    "num_list = list(range(0, 100, 3)) \n",
    "## count_even = 17\n",
    "\n",
    "num_list = [10, 4, 4, 21, 2, 0, -10]\n",
    "## count_even = 6\n",
    "\n",
    "num_list = list(range(0, 81, 5)) \n",
    "## count_even = 9\n",
    "```\n",
    "Примечание: Обратите внимание, что для отправки кода на проверку переменную num_list объявлять не нужно.\n",
    "Не забудьте удалить строку с её объявлением перед отправкой кода на тестирование."
   ],
   "metadata": {
    "collapsed": false
   },
   "id": "669043a9b35e562d"
  },
  {
   "cell_type": "code",
   "outputs": [
    {
     "name": "stdout",
     "output_type": "stream",
     "text": [
      "[0, 3, 6, 9, 12, 15, 18, 21, 24, 27, 30, 33, 36, 39, 42, 45, 48, 51, 54, 57, 60, 63, 66, 69, 72, 75, 78, 81, 84, 87, 90, 93, 96, 99]\n",
      "17\n"
     ]
    }
   ],
   "source": [
    "num_list = list(range(0, 100, 3))\n",
    "print(num_list)\n",
    "count_even = 0\n",
    "for i in num_list:\n",
    "    if i % 2 ==0:\n",
    "        count_even += 1\n",
    "print(count_even)"
   ],
   "metadata": {
    "collapsed": false,
    "ExecuteTime": {
     "end_time": "2024-03-18T14:29:30.189427Z",
     "start_time": "2024-03-18T14:29:30.185459Z"
    }
   },
   "id": "8741d17298edb066",
   "execution_count": 16
  },
  {
   "cell_type": "markdown",
   "source": [
    "# Ex 2.11\n",
    "Дан список mixture_list, элементами которого могут являться любые типы данных Python. Например:\n",
    "```python\n",
    "mixture_list = [True, 1, -10, 'hello', False, 'string_1', 123, 2.5, [1, 2], 'another'] \n",
    "```\n",
    "С помощью цикла for посчитайте количество элементов типа str в списке. Результат запишите в переменную count_str.\n",
    "Примеры работы программы:\n",
    "```python\n",
    "mixture_list = [True, 1, -10, 'hello', False, 'string_1', 123, 2.5, [1, 2], 'another'] \n",
    "## count_str = 3\n",
    "\n",
    "mixture_list = ['My', 'Simple', -10, True, 'False', 'string_1', False, 2.5, [1, 2], 'True'] \n",
    "## count_str = 5\n",
    "```\n",
    "Примечание: Обратите внимание, что для отправки кода на проверку переменную mixture_list объявлять не нужно.\n",
    "Не забудьте удалить строку с её объявлением перед отправкой кода на тестирование."
   ],
   "metadata": {
    "collapsed": false
   },
   "id": "6dfae93ba203b719"
  },
  {
   "cell_type": "code",
   "outputs": [
    {
     "name": "stdout",
     "output_type": "stream",
     "text": [
      "[True, 1, -10, 'hello', False, 'string_1', 123, 2.5, [1, 2], 'another']\n",
      "10\n"
     ]
    }
   ],
   "source": [
    "mixture_list = [True, 1, -10, 'hello', False, 'string_1', 123, 2.5, [1, 2], 'another']\n",
    "print(mixture_list)\n",
    "\n",
    "count_str = 0\n",
    "for i in mixture_list:\n",
    "    \n",
    "print(count_str)"
   ],
   "metadata": {
    "collapsed": false,
    "ExecuteTime": {
     "end_time": "2024-03-18T14:34:42.708848Z",
     "start_time": "2024-03-18T14:34:42.704466Z"
    }
   },
   "id": "16416dfeab564c6f",
   "execution_count": 19
  },
  {
   "cell_type": "markdown",
   "source": [
    "# Ex 2.12\n",
    "Мы генерируем текст с помощью нейронной сети.\n",
    "В списке word_list в виде строк задана сгенерированная нейронной сетью последовательность слов. Например:\n",
    "```python\n",
    "word_list = [\"My\", \"name\", \"is\", \"Sergei\", \"EOS\", \"I'm\", \"from\", \"Moscow\", \"EOS\"] \n",
    "```\n",
    "Напишите программу для объединения строк из списка word_list в предложения.\n",
    "Гарантируется, что конец каждого предложения обозначается специальной последовательностью символов — \"EOS\" (End Of Sentence).\n",
    "Вместо этого символа в предложении ставится точка — \".\". Для простоты условимся, что другие знаки препинания\n",
    "(запятые, восклицательные знаки и т. д.) нейронная сеть генерировать не умеет.\n",
    "Для решения задачи воспользуйтесь циклом for. Результирующий текст запишите в переменную text.\n",
    "Примеры работы программы:\n",
    "```python\n",
    "word_list = [\"My\", \"name\", \"is\", \"Sergei\", \"EOS\", \"I'm\", \"from\", \"Moscow\", \"EOS\"]\n",
    "## text = \"My name is Sergei. I'm from Moscow.\"\n",
    "\n",
    "word_list = [\"Человек\", \"он\", \"умный\", \"EOS\", \"Но\", \"чтоб\", \"умно\", \"поступать\", \"одного\", \"ума\", \"мало\", \"EOS\"]\n",
    "## \"Человек он умный. Но чтоб умно поступать одного ума мало.\"\n",
    "```\n",
    "Примечание: При составлении строки обратите внимание на то, как добавляется символ точки в конец предложения:\n",
    "пробел ставится только после точки, перед точкой пробела нет. Например, из строк \"My name is Sergei. I'm from Moscow.\"\n",
    "и \"My name is Sergei . I'm from Moscow .\" правильным будет первый вариант.\n",
    "Подумайте, как реализовать это в коде. В решении задачи вам помочь метод strip(), который удаляет лишние пробелы с левой и правой стороны от строки.\n",
    "Например:\n",
    "```python\n",
    "string = \"     I'm from Moscow.   \"\n",
    "string = string.strip()\n",
    "## string = \"I'm from Moscow.\"\n",
    "```\n",
    "Примечание: Обратите внимание, что для отправки кода на проверку переменную word_list объявлять не нужно.\n",
    "Не забудьте удалить строку с её объявлением перед отправкой кода на тестирование."
   ],
   "metadata": {
    "collapsed": false
   },
   "id": "dfe77108648c30e5"
  },
  {
   "cell_type": "code",
   "outputs": [],
   "source": [],
   "metadata": {
    "collapsed": false
   },
   "id": "ece84c86cd64b85a"
  }
 ],
 "metadata": {
  "kernelspec": {
   "display_name": "Python 3",
   "language": "python",
   "name": "python3"
  },
  "language_info": {
   "codemirror_mode": {
    "name": "ipython",
    "version": 2
   },
   "file_extension": ".py",
   "mimetype": "text/x-python",
   "name": "python",
   "nbconvert_exporter": "python",
   "pygments_lexer": "ipython2",
   "version": "2.7.6"
  }
 },
 "nbformat": 4,
 "nbformat_minor": 5
}
