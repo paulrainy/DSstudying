{
 "cells": [
  {
   "cell_type": "markdown",
   "metadata": {},
   "source": [
    "Formatting strings"
   ]
  },
  {
   "cell_type": "code",
   "execution_count": 1,
   "metadata": {},
   "outputs": [
    {
     "name": "stdout",
     "output_type": "stream",
     "text": [
      "The Test2 currency rate on the date Test1 is 86.73\n",
      "The Test2 currency rate on the date Test1 is 86.73\n",
      "The Test2 currency rate on the date Test1 is 86.73\n",
      "The Test2 currency rate on the date Test1 is 86.730\n"
     ]
    }
   ],
   "source": [
    "cur_date = input('Enter date: ')\n",
    "currency = input('Enter currency: ')\n",
    "rate = 86.73\n",
    "print('The', currency, 'currency rate on the date', cur_date,'is', rate)\n",
    "print('The {} currency rate on the date {} is {}'.format(currency, cur_date, rate))\n",
    "print('The {0} currency rate on the date {2} is {1}'.format(currency, rate, cur_date))\n",
    "print('The {} currency rate on the date {} is {:.3f}'.format(currency, cur_date, rate))"
   ]
  },
  {
   "cell_type": "markdown",
   "metadata": {},
   "source": [
    "Ex 8.7"
   ]
  },
  {
   "cell_type": "code",
   "execution_count": 7,
   "metadata": {},
   "outputs": [
    {
     "data": {
      "text/plain": [
       "'Hello Andrew!\\nOur store is happy to inform you that we have a personal offer for you. \\nWe give you a coupon for a 15% discount on your favorite products. \\nYou can learn more about the offer following the link attached below.\\n'"
      ]
     },
     "execution_count": 7,
     "metadata": {},
     "output_type": "execute_result"
    }
   ],
   "source": [
    "script = '''Hello {}!\n",
    "Our store is happy to inform you that we have a personal offer for you. \n",
    "We give you a coupon for a {}% discount on your favorite products. \n",
    "You can learn more about the offer following the link attached below.\n",
    "'''\n",
    "clientName = 'Andrew'\n",
    "discount = 15\n",
    "script.format(clientName, discount)"
   ]
  },
  {
   "cell_type": "markdown",
   "metadata": {},
   "source": [
    "Ex 8.8"
   ]
  },
  {
   "cell_type": "code",
   "execution_count": 8,
   "metadata": {},
   "outputs": [
    {
     "name": "stdout",
     "output_type": "stream",
     "text": [
      "Model - linear regression, MAE - 42.18\n"
     ]
    }
   ],
   "source": [
    "mean_absolute_error = 42.1838\n",
    "model = 'linear regression'\n",
    "print('Model - {}, MAE - {:.2f}'.format(model, mean_absolute_error))"
   ]
  },
  {
   "cell_type": "markdown",
   "metadata": {},
   "source": [
    "F-string"
   ]
  },
  {
   "cell_type": "code",
   "execution_count": 5,
   "metadata": {
    "ExecuteTime": {
     "end_time": "2023-10-04T11:25:25.648615253Z",
     "start_time": "2023-10-04T11:25:22.708373086Z"
    }
   },
   "outputs": [
    {
     "name": "stdout",
     "output_type": "stream",
     "text": [
      "The 1 currency rate on the date 1\\ is 86.73\n",
      "The 1 currency rate on the date 1\\ is 104.07600000000001\n",
      "The 1 currency rate on the date 1\\ is 104.076\n"
     ]
    }
   ],
   "source": [
    "cur_date = input('Enter date: ')\n",
    "currency = input('Enter currency: ')\n",
    "rate = 86.73\n",
    "print(f'The {currency} currency rate on the date {cur_date} is {rate}')\n",
    "print(f'The {currency} currency rate on the date {cur_date} is {rate*1.2}')\n",
    "print(f'The {currency} currency rate on the date {cur_date} is {rate*1.2:.3f}')"
   ]
  },
  {
   "cell_type": "markdown",
   "metadata": {},
   "source": [
    "Ex 8.10"
   ]
  },
  {
   "cell_type": "code",
   "execution_count": 10,
   "metadata": {
    "ExecuteTime": {
     "end_time": "2023-10-04T11:34:11.761975756Z",
     "start_time": "2023-10-04T11:34:09.862785392Z"
    }
   },
   "outputs": [
    {
     "name": "stdout",
     "output_type": "stream",
     "text": [
      "Hello, 1! Yesterday you fulfilled the norm by 2.0%\n",
      "Hello, 1! Yesterday you fulfilled the norm by 2%\n",
      "Hello, 1! Yesterday you fulfilled the norm by 2%\n",
      "Hello, 1! Yesterday you fulfilled the norm by 2.0%\n"
     ]
    }
   ],
   "source": [
    "userName: str = input(\"input ur name:\")\n",
    "userPercent = int(input(\"input %\"))\n",
    "\n",
    "#working own variant\n",
    "print(f\"Hello, {userName}! Yesterday you fulfilled the norm by {userPercent:.1f}%\")\n",
    "\n",
    "#1 var from skillfactory\n",
    "#print(\"Hello, {0}! Yesterday you fulfilled the norm by {1:.1f}%\".format(userName, userPercent))\n",
    "\n",
    "#2 var from skillfactory\n",
    "print(\"Hello, {}! Yesterday you fulfilled the norm by {}%\".format(userName, userPercent))\n",
    "\n",
    "#3 var from skillfactory\n",
    "#print(\"Hello, {1}! Yesterday you fulfilled the norm by {0}%\".format(userName, userPercent))\n",
    "#actually wrong shit\n",
    "\n",
    "#4 var from skillfactory\n",
    "print(f\"Hello, {userName}! Yesterday you fulfilled the norm by {userPercent}%\")\n",
    "\n",
    "#5 var from skillfactory\n",
    "print(f\"Hello, {userName}! Yesterday you fulfilled the norm by {userPercent:.1f}%\")\n",
    "#:.1f isn't working I don't know why\n",
    "#python thought userPercent is a str"
   ]
  },
  {
   "cell_type": "markdown",
   "source": [
    "Ex 8.11 "
   ],
   "metadata": {
    "collapsed": false
   }
  },
  {
   "cell_type": "code",
   "execution_count": 13,
   "outputs": [
    {
     "name": "stdout",
     "output_type": "stream",
     "text": [
      "Hello, 1! Today is 1. Have a nice day!\n"
     ]
    }
   ],
   "source": [
    "print(\"Hello, {}! Today is {}. Have a nice day!\".format(input(\"Input your name:\"), input(\"Input a day of the week:\")))"
   ],
   "metadata": {
    "collapsed": false,
    "ExecuteTime": {
     "end_time": "2023-10-04T12:51:17.156344874Z",
     "start_time": "2023-10-04T12:51:14.484324811Z"
    }
   }
  },
  {
   "cell_type": "markdown",
   "source": [
    "Str to int"
   ],
   "metadata": {
    "collapsed": false
   }
  },
  {
   "cell_type": "code",
   "execution_count": 14,
   "outputs": [
    {
     "name": "stdout",
     "output_type": "stream",
     "text": [
      "11\n",
      "144.03\n",
      "['12942021', '2491']\n"
     ]
    }
   ],
   "source": [
    "a = int(input())\n",
    "print(a + 10)\n",
    "\n",
    "b = float('125.13')\n",
    "c = 18.9\n",
    "print(b + c)\n",
    "\n",
    "d = 12942021.24910\n",
    "dString = str(d)\n",
    "print(dString.split('.'))"
   ],
   "metadata": {
    "collapsed": false,
    "ExecuteTime": {
     "end_time": "2023-10-04T12:59:33.727916521Z",
     "start_time": "2023-10-04T12:59:30.427413508Z"
    }
   }
  },
  {
   "cell_type": "markdown",
   "source": [
    "Str to int 2"
   ],
   "metadata": {
    "collapsed": false
   }
  },
  {
   "cell_type": "code",
   "execution_count": 1,
   "outputs": [
    {
     "name": "stdout",
     "output_type": "stream",
     "text": [
      "['Refrigerator', 'service', 'life:', '9', 'years', '3', 'months']\n",
      "9 3\n",
      "111\n"
     ]
    }
   ],
   "source": [
    "advertisement = 'Refrigerator service life: 9 years 3 months'\n",
    "advertisementSplit = advertisement.split()\n",
    "print(advertisementSplit)\n",
    "\n",
    "year = advertisementSplit[3]\n",
    "month = advertisementSplit[5]\n",
    "print(year, month)\n",
    "\n",
    "serviceLife = int(year) * 12 + int(month)\n",
    "print(serviceLife)"
   ],
   "metadata": {
    "collapsed": false,
    "ExecuteTime": {
     "end_time": "2023-10-05T12:28:58.565681538Z",
     "start_time": "2023-10-05T12:28:58.558705854Z"
    }
   }
  },
  {
   "cell_type": "markdown",
   "source": [
    "Ex 8.12"
   ],
   "metadata": {
    "collapsed": false
   }
  },
  {
   "cell_type": "code",
   "execution_count": 2,
   "outputs": [
    {
     "name": "stdout",
     "output_type": "stream",
     "text": [
      "138.12\n"
     ]
    }
   ],
   "source": [
    "number = \"138.12\"\n",
    "print(float(number))"
   ],
   "metadata": {
    "collapsed": false,
    "ExecuteTime": {
     "end_time": "2023-10-05T12:40:35.939373537Z",
     "start_time": "2023-10-05T12:40:35.890241481Z"
    }
   }
  },
  {
   "cell_type": "markdown",
   "source": [
    "Ex 10.1, 10.2, 10.3"
   ],
   "metadata": {
    "collapsed": false
   }
  },
  {
   "cell_type": "code",
   "execution_count": 1,
   "outputs": [
    {
     "name": "stdout",
     "output_type": "stream",
     "text": [
      "100\n",
      "1 2 3\n",
      "10.5\n"
     ]
    }
   ],
   "source": [
    "#10.1\n",
    "x = 100\n",
    "print(x)\n",
    "#right way to init field\n",
    "\n",
    "#10.2\n",
    "route66, home_address, Age = 1, 2, 3\n",
    "print(route66, home_address, Age)\n",
    "#right names for fields\n",
    "\n",
    "#10.3\n",
    "a = 3\n",
    "b = 3.5 \n",
    "c = 4\n",
    "number = a + b + c\n",
    "print(number)\n",
    "#float type"
   ],
   "metadata": {
    "collapsed": false,
    "ExecuteTime": {
     "end_time": "2023-10-06T08:40:54.409398338Z",
     "start_time": "2023-10-06T08:40:54.399905991Z"
    }
   }
  },
  {
   "cell_type": "markdown",
   "source": [
    "Ex 10.4"
   ],
   "metadata": {
    "collapsed": false
   }
  },
  {
   "cell_type": "code",
   "execution_count": 2,
   "outputs": [
    {
     "name": "stdout",
     "output_type": "stream",
     "text": [
      "86.5\n"
     ]
    }
   ],
   "source": [
    "tax = 13.5\n",
    "salary = float(input())\n",
    "print(salary * (1 - tax / 100))"
   ],
   "metadata": {
    "collapsed": false,
    "ExecuteTime": {
     "end_time": "2023-10-06T08:43:53.889089109Z",
     "start_time": "2023-10-06T08:43:50.151461133Z"
    }
   }
  },
  {
   "cell_type": "markdown",
   "source": [
    "Ex 10.5"
   ],
   "metadata": {
    "collapsed": false
   }
  },
  {
   "cell_type": "code",
   "execution_count": 4,
   "outputs": [
    {
     "name": "stdout",
     "output_type": "stream",
     "text": [
      "['test', '>test']\n"
     ]
    }
   ],
   "source": [
    "description = input()\n",
    "description = description.lower()\n",
    "resultDescription = description.split()\n",
    "print(resultDescription)"
   ],
   "metadata": {
    "collapsed": false,
    "ExecuteTime": {
     "end_time": "2023-10-06T08:58:19.678771279Z",
     "start_time": "2023-10-06T08:58:14.559634558Z"
    }
   }
  },
  {
   "cell_type": "markdown",
   "source": [
    "Ex 10.6"
   ],
   "metadata": {
    "collapsed": false
   }
  },
  {
   "cell_type": "code",
   "execution_count": 7,
   "outputs": [
    {
     "name": "stdout",
     "output_type": "stream",
     "text": [
      "29.0\n"
     ]
    }
   ],
   "source": [
    "salary = \"29000 rub.\"\n",
    "salaryNum = float(salary.split()[0]) / 1000\n",
    "print(salaryNum)"
   ],
   "metadata": {
    "collapsed": false,
    "ExecuteTime": {
     "end_time": "2023-10-06T10:28:54.147610022Z",
     "start_time": "2023-10-06T10:28:54.114493632Z"
    }
   }
  },
  {
   "cell_type": "markdown",
   "source": [
    "Ex 10.7"
   ],
   "metadata": {
    "collapsed": false
   }
  },
  {
   "cell_type": "code",
   "execution_count": 12,
   "outputs": [
    {
     "name": "stdout",
     "output_type": "stream",
     "text": [
      "Years: 16.0, months: 10.0\n"
     ]
    }
   ],
   "source": [
    "experience = \"Work experience 202 months\"\n",
    "experienceFullMonth = experience.split()[2]\n",
    "if float(experienceFullMonth) >= 12 :\n",
    "    experienceYear = float(experienceFullMonth) // 12\n",
    "    experienceMonth = float(experienceFullMonth) % 12\n",
    "    print(\"Years: {}, months: {}\".format(experienceYear, experienceMonth))\n",
    "else :\n",
    "    print(experienceFullMonth)"
   ],
   "metadata": {
    "collapsed": false,
    "ExecuteTime": {
     "end_time": "2023-10-06T10:51:36.875200422Z",
     "start_time": "2023-10-06T10:51:36.830046064Z"
    }
   }
  },
  {
   "cell_type": "markdown",
   "source": [
    "Ex 10.8"
   ],
   "metadata": {
    "collapsed": false
   }
  },
  {
   "cell_type": "code",
   "execution_count": 16,
   "outputs": [
    {
     "name": "stdout",
     "output_type": "stream",
     "text": [
      "['Male', '39 years old', 'born on November 27', '1979']\n",
      "['39', 'years', 'old']\n",
      "Male 39 1979\n"
     ]
    }
   ],
   "source": [
    "description = \"Male , 39 years old , born on November 27 , 1979\"\n",
    "descriptionSplit = description.split(\" , \")\n",
    "print(descriptionSplit)\n",
    "if descriptionSplit[0] == 'Male' or descriptionSplit[0] == 'Woman' :\n",
    "    gender = descriptionSplit[0]\n",
    "else :\n",
    "    print('Error')\n",
    "ageDirty = descriptionSplit[1].split()\n",
    "print(ageDirty)\n",
    "if ageDirty[0].isdigit() :\n",
    "    age = ageDirty[0]\n",
    "else :\n",
    "    print('Error')\n",
    "if descriptionSplit[3].isdigit() :\n",
    "    yearBirth = descriptionSplit[3]\n",
    "else: \n",
    "    print('Error')\n",
    "print(gender, age, yearBirth)"
   ],
   "metadata": {
    "collapsed": false,
    "ExecuteTime": {
     "end_time": "2023-10-06T11:09:29.412000607Z",
     "start_time": "2023-10-06T11:09:29.357925848Z"
    }
   }
  },
  {
   "cell_type": "markdown",
   "source": [],
   "metadata": {
    "collapsed": false
   }
  }
 ],
 "metadata": {
  "kernelspec": {
   "display_name": "Python 3",
   "language": "python",
   "name": "python3"
  },
  "language_info": {
   "codemirror_mode": {
    "name": "ipython",
    "version": 3
   },
   "file_extension": ".py",
   "mimetype": "text/x-python",
   "name": "python",
   "nbconvert_exporter": "python",
   "pygments_lexer": "ipython3",
   "version": "3.11.5"
  },
  "orig_nbformat": 4
 },
 "nbformat": 4,
 "nbformat_minor": 2
}
