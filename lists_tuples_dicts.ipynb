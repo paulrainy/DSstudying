{
 "cells": [
  {
   "cell_type": "raw",
   "source": [
    "Ex 2.10\n",
    "Создайте список из элементов от -3 до 6 и, используя срез [::-1], инвертируйте список.\n",
    "Выведите полученный результат. В качестве ответа запишите результат вывода."
   ],
   "metadata": {
    "collapsed": false
   },
   "id": "c4e1bf47c1e5ef6f"
  },
  {
   "cell_type": "code",
   "execution_count": 2,
   "outputs": [
    {
     "name": "stdout",
     "output_type": "stream",
     "text": [
      "[-3, -2, -1, 0, 1, 2, 3, 4, 5, 6]\n",
      "[6, 5, 4, 3, 2, 1, 0, -1, -2, -3]\n"
     ]
    }
   ],
   "source": [
    "testList = list(range(-3, 7))\n",
    "print(testList)\n",
    "testReverse = testList[::-1]\n",
    "print(testReverse)"
   ],
   "metadata": {
    "collapsed": false,
    "ExecuteTime": {
     "end_time": "2023-12-05T10:43:36.877074247Z",
     "start_time": "2023-12-05T10:43:36.517747288Z"
    }
   },
   "id": "6e92b5cc945235ad"
  },
  {
   "cell_type": "markdown",
   "source": [
    "Ex 2.11\n",
    "С помощью функции .split() получите список из строки 'hello kitty' и возьмите два последних \n",
    "элемента. В качестве ответа введите результат вывода."
   ],
   "metadata": {
    "collapsed": false
   },
   "id": "297a692d379570c0"
  },
  {
   "cell_type": "code",
   "execution_count": 3,
   "outputs": [
    {
     "name": "stdout",
     "output_type": "stream",
     "text": [
      "['hello', 'kitty']\n"
     ]
    }
   ],
   "source": [
    "testString = \"hello kitty\"\n",
    "testSplit = list(testString.split())\n",
    "print(testSplit)"
   ],
   "metadata": {
    "collapsed": false,
    "ExecuteTime": {
     "end_time": "2023-12-05T10:43:37.215997913Z",
     "start_time": "2023-12-05T10:43:36.535599003Z"
    }
   },
   "id": "a31b0c02b8790397"
  },
  {
   "cell_type": "markdown",
   "source": [
    "Ex 2.12\n",
    "Создайте три переменные: a, b, c.\n",
    "Положите в них следующие строковые значения: 'order1', 'order2', 'order3'.\n",
    "Создайте пустой список orders, используя квадратные скобки.\n",
    "Последовательно положите все три созданные переменные в список."
   ],
   "metadata": {
    "collapsed": false
   },
   "id": "745a7c83695e0f90"
  },
  {
   "cell_type": "code",
   "execution_count": 4,
   "outputs": [
    {
     "name": "stdout",
     "output_type": "stream",
     "text": [
      "['order1', 'order2', 'order3']\n"
     ]
    }
   ],
   "source": [
    "a = 'order1'\n",
    "b = 'order2'\n",
    "c = 'order3'\n",
    "orders = []\n",
    "orders.append(a)\n",
    "orders.append(b)\n",
    "orders.append(c)\n",
    "print(orders)"
   ],
   "metadata": {
    "collapsed": false,
    "ExecuteTime": {
     "end_time": "2023-12-05T10:43:37.252435659Z",
     "start_time": "2023-12-05T10:43:36.572211741Z"
    }
   },
   "id": "d2eb6b0e57845777"
  },
  {
   "cell_type": "markdown",
   "source": [
    "Ex 2.13\n",
    "Создайте две переменные: book1, book2.\n",
    "Положите в них следующие строковые значения: 'my book', 'your book'.\n",
    "Создайте список books, используя квадратные скобки. В нём уже должно лежать значение 'all_books'.\n",
    "Последовательно положите две созданные переменные в список."
   ],
   "metadata": {
    "collapsed": false
   },
   "id": "2cbcdfa9733d6cbe"
  },
  {
   "cell_type": "code",
   "execution_count": 5,
   "outputs": [
    {
     "name": "stdout",
     "output_type": "stream",
     "text": [
      "['all_books', 'my book', 'your book']\n"
     ]
    }
   ],
   "source": [
    "book1 = \"my book\"\n",
    "book2 = \"your book\"\n",
    "books = ['all_books']\n",
    "books.append(book1)\n",
    "books.append(book2)\n",
    "print(books)"
   ],
   "metadata": {
    "collapsed": false,
    "ExecuteTime": {
     "end_time": "2023-12-05T10:43:37.276817245Z",
     "start_time": "2023-12-05T10:43:36.622973663Z"
    }
   },
   "id": "44ab10cf9002190d"
  },
  {
   "cell_type": "markdown",
   "source": [
    "Ex 2.14\n",
    "Создайте список letters из первых пяти букв английского алфавита. Выведите его. Затем \n",
    "примените к списку letters метод .clear(). Снова выведите результат. В качестве ответа \n",
    "запишите результат последнего вывода."
   ],
   "metadata": {
    "collapsed": false
   },
   "id": "e8965635f34ab50a"
  },
  {
   "cell_type": "code",
   "execution_count": 6,
   "outputs": [
    {
     "name": "stdout",
     "output_type": "stream",
     "text": [
      "['a', 'b', 'c', 'd', 'e']\n",
      "[]\n"
     ]
    }
   ],
   "source": [
    "lettersList = ['a', 'b', 'c', 'd', 'e']\n",
    "print(lettersList)\n",
    "lettersList.clear()\n",
    "print(lettersList)"
   ],
   "metadata": {
    "collapsed": false,
    "ExecuteTime": {
     "end_time": "2023-12-05T10:43:37.298288067Z",
     "start_time": "2023-12-05T10:43:36.646012167Z"
    }
   },
   "id": "b0f599eff36e4e71"
  },
  {
   "cell_type": "markdown",
   "source": [
    "Ex 2.15\n",
    "Создайте список numbers из десяти произвольных элементов, но числа 5 и 1 в нём должны \n",
    "повторяться 3 и 2 раза соответственно. Примените к полученному списку метод .count(). В \n",
    "качестве аргумента возьмите число 5. Выведите полученный результат. В качестве ответа \n",
    "запишите результат вывода."
   ],
   "metadata": {
    "collapsed": false
   },
   "id": "ea0ad64da35b3f09"
  },
  {
   "cell_type": "code",
   "execution_count": 7,
   "outputs": [
    {
     "name": "stdout",
     "output_type": "stream",
     "text": [
      "3\n"
     ]
    }
   ],
   "source": [
    "numbersList = [1, 2, 1, 3, 5, 6, 5, 4, 5, 7]\n",
    "print(numbersList.count(5))"
   ],
   "metadata": {
    "collapsed": false,
    "ExecuteTime": {
     "end_time": "2023-12-05T10:43:37.316831189Z",
     "start_time": "2023-12-05T10:43:36.677157767Z"
    }
   },
   "id": "1507af4caea671bf"
  },
  {
   "cell_type": "markdown",
   "source": [
    "Ex 2.16\n",
    "Создайте список my_books из пяти элементов: 'book1', 'book2', 'book3', 'book4', 'book5'. \n",
    "Затем используйте метод .copy() для копирования содержимого вашего списка в список \n",
    "tom_books. Выведите два полученных списка. В качестве ответа запишите результат вывода."
   ],
   "metadata": {
    "collapsed": false
   },
   "id": "11898a1394fe50a3"
  },
  {
   "cell_type": "code",
   "execution_count": 8,
   "outputs": [
    {
     "name": "stdout",
     "output_type": "stream",
     "text": [
      "['book1', 'book2', 'book3', 'book4', 'book5'] ['book1', 'book2', 'book3', 'book4', 'book5']\n"
     ]
    }
   ],
   "source": [
    "myBooks = ['book1', 'book2', 'book3', 'book4', 'book5']\n",
    "tomBooks = myBooks.copy()\n",
    "print(myBooks, tomBooks)"
   ],
   "metadata": {
    "collapsed": false,
    "ExecuteTime": {
     "end_time": "2023-12-05T10:43:37.325378158Z",
     "start_time": "2023-12-05T10:43:36.715951605Z"
    }
   },
   "id": "f6a7c281d8c4a7a9"
  },
  {
   "cell_type": "markdown",
   "source": [
    "Ex 2.17\n",
    "Создайте список my_orders из пяти элементов: 'order1', 'order2', 'order3', 'order4', \n",
    "'order5'. Затем используйте квадратные скобки и двоеточие внутри для копирования содержимого \n",
    "вашего списка в список anne_orders. Выведите два полученных списка. В качестве ответа \n",
    "запишите результат вывода."
   ],
   "metadata": {
    "collapsed": false
   },
   "id": "2c9ec86de835dc8d"
  },
  {
   "cell_type": "code",
   "execution_count": 9,
   "outputs": [
    {
     "name": "stdout",
     "output_type": "stream",
     "text": [
      "['order1', 'order2', 'order3', 'order4', 'order5'] ['order1', 'order2', 'order3', 'order4', 'order5']\n"
     ]
    }
   ],
   "source": [
    "myOrders = ['order1', 'order2', 'order3', 'order4', 'order5']\n",
    "anneOrders = myOrders[:]\n",
    "print(myOrders, anneOrders)"
   ],
   "metadata": {
    "collapsed": false,
    "ExecuteTime": {
     "end_time": "2023-12-05T10:43:37.340035043Z",
     "start_time": "2023-12-05T10:43:36.727598492Z"
    }
   },
   "id": "2fc526c523e1099d"
  },
  {
   "cell_type": "markdown",
   "source": [
    "Ex 2.18\n",
    "Создайте список all_things, в котором будет лежать три элемента: 'order1', 'order2', 'order3'.\n",
    "Затем создайте список only_books, в котором будет лежать два элемента: 'book1', 'book2'.\n",
    "Используя метод .extend(), обогатите переменную all_things."
   ],
   "metadata": {
    "collapsed": false
   },
   "id": "487eb628ada2feb0"
  },
  {
   "cell_type": "code",
   "execution_count": 10,
   "outputs": [
    {
     "name": "stdout",
     "output_type": "stream",
     "text": [
      "['order1', 'order2', 'order3', 'book1', 'book2']\n"
     ]
    }
   ],
   "source": [
    "allThings = ['order1', 'order2', 'order3']\n",
    "onlyBooks = ['book1', 'book2']\n",
    "allThings.extend(onlyBooks)\n",
    "print(allThings)"
   ],
   "metadata": {
    "collapsed": false,
    "ExecuteTime": {
     "end_time": "2023-12-05T10:43:37.358076632Z",
     "start_time": "2023-12-05T10:43:36.757421543Z"
    }
   },
   "id": "127190b79a557de6"
  },
  {
   "cell_type": "markdown",
   "source": [
    "Ex 2.19\n",
    "Создайте список nums с числами от 1 до 10. Примените к нему метод .reverse(). Выведите \n",
    "переменную nums. В качестве ответа введите результат вывода."
   ],
   "metadata": {
    "collapsed": false
   },
   "id": "1cb6dca9d0ca0f3"
  },
  {
   "cell_type": "code",
   "execution_count": 11,
   "outputs": [
    {
     "name": "stdout",
     "output_type": "stream",
     "text": [
      "[10, 9, 8, 7, 6, 5, 4, 3, 2, 1]\n"
     ]
    }
   ],
   "source": [
    "numsList = list(range(1, 11))\n",
    "numsList.reverse()\n",
    "print(numsList)"
   ],
   "metadata": {
    "collapsed": false,
    "ExecuteTime": {
     "end_time": "2023-12-05T10:43:37.385919542Z",
     "start_time": "2023-12-05T10:43:36.778780569Z"
    }
   },
   "id": "253728e9bf72501a"
  },
  {
   "cell_type": "markdown",
   "source": [
    "Ex 2.20\n",
    "Создайте список random_values = [3, 5, 0, -1, 2, 10, 15, -5]. Вызовите метод .sort() на этом \n",
    "списке. Выведите список random_values. В качестве ответа запишите результат вывода."
   ],
   "metadata": {
    "collapsed": false
   },
   "id": "cc19a883ae52b12b"
  },
  {
   "cell_type": "code",
   "execution_count": 12,
   "outputs": [
    {
     "name": "stdout",
     "output_type": "stream",
     "text": [
      "[-5, -1, 0, 2, 3, 5, 10, 15]\n"
     ]
    }
   ],
   "source": [
    "randomValues = [3, 5, 0, -1, 2, 10, 15, -5]\n",
    "randomValues.sort()\n",
    "print(randomValues)"
   ],
   "metadata": {
    "collapsed": false,
    "ExecuteTime": {
     "end_time": "2023-12-05T10:43:37.399719184Z",
     "start_time": "2023-12-05T10:43:36.812045892Z"
    }
   },
   "id": "7d8185c17a2e39f8"
  },
  {
   "cell_type": "markdown",
   "source": [
    "Ex 2.21\n",
    "Создайте список list1. Запишите в него последовательно:\n",
    "\n",
    "    число 5;\n",
    "    число 0.2;\n",
    "    строку 'hello there';\n",
    "    список [1,2,3,4];\n",
    "    строку 'bye'.\n",
    "\n",
    "Выведите результат. В качестве ответа запишите результат вывода."
   ],
   "metadata": {
    "collapsed": false
   },
   "id": "8b1338537a006da2"
  },
  {
   "cell_type": "code",
   "execution_count": 13,
   "outputs": [
    {
     "name": "stdout",
     "output_type": "stream",
     "text": [
      "[5, 0.2, 'hello there', [1, 2, 3, 4], 'bye']\n"
     ]
    }
   ],
   "source": [
    "listOne = [5, 0.2, \"hello there\", [1, 2, 3, 4], 'bye']\n",
    "print(listOne)"
   ],
   "metadata": {
    "collapsed": false,
    "ExecuteTime": {
     "end_time": "2023-12-05T10:43:37.419317804Z",
     "start_time": "2023-12-05T10:43:36.841831870Z"
    }
   },
   "id": "e56d6492461449a1"
  },
  {
   "cell_type": "markdown",
   "source": [
    "Ex 2.24\n",
    "Создайте пустой кортеж tpl, используя конструктор типов tuple(). Выведите полученный результат. \n",
    "В качестве ответа напишите результат вывода."
   ],
   "metadata": {
    "collapsed": false
   },
   "id": "fca1baa6fdc9d32c"
  },
  {
   "cell_type": "code",
   "execution_count": 14,
   "outputs": [
    {
     "name": "stdout",
     "output_type": "stream",
     "text": [
      "()\n"
     ]
    }
   ],
   "source": [
    "tplTuple = tuple()\n",
    "print(tplTuple)"
   ],
   "metadata": {
    "collapsed": false,
    "ExecuteTime": {
     "end_time": "2023-12-05T10:43:37.436824598Z",
     "start_time": "2023-12-05T10:43:36.869480335Z"
    }
   },
   "id": "f8a5c3d33ac75fe8"
  },
  {
   "cell_type": "markdown",
   "source": [
    "Ex 2.25\n",
    "Создайте кортеж tpl2 с одним числом, равным 255. Выведите результат. В качестве ответа запишите \n",
    "результат вывода."
   ],
   "metadata": {
    "collapsed": false
   },
   "id": "99e17117b191588f"
  },
  {
   "cell_type": "code",
   "execution_count": 15,
   "outputs": [
    {
     "name": "stdout",
     "output_type": "stream",
     "text": [
      "(255,)\n"
     ]
    }
   ],
   "source": [
    "tpl2Tuple = (255, )\n",
    "print(tpl2Tuple)"
   ],
   "metadata": {
    "collapsed": false,
    "ExecuteTime": {
     "end_time": "2023-12-05T10:43:37.437817479Z",
     "start_time": "2023-12-05T10:43:36.924515919Z"
    }
   },
   "id": "3bf59fa834756683"
  },
  {
   "cell_type": "markdown",
   "source": [
    "Ex 2.26\n",
    "Создайте кортеж tpl3 с тремя числами: 15, 22 и 0. Выведите результат. В качестве ответа запишите \n",
    "результат вывода."
   ],
   "metadata": {
    "collapsed": false
   },
   "id": "212c725a56f91cff"
  },
  {
   "cell_type": "code",
   "execution_count": 16,
   "outputs": [
    {
     "name": "stdout",
     "output_type": "stream",
     "text": [
      "(15, 22, 0)\n"
     ]
    }
   ],
   "source": [
    "tpl3Tuple = (15, 22, 0)\n",
    "print(tpl3Tuple)"
   ],
   "metadata": {
    "collapsed": false,
    "ExecuteTime": {
     "end_time": "2023-12-05T10:43:37.449347791Z",
     "start_time": "2023-12-05T10:43:36.925044420Z"
    }
   },
   "id": "f1839c5df8eb5e65"
  },
  {
   "cell_type": "markdown",
   "source": [
    "Ex 3.4\n",
    "Создайте пустой словарь empty_dict, используя конструктор типов. Выведите результат. В качестве \n",
    "ответа запишите результат вывода."
   ],
   "metadata": {
    "collapsed": false
   },
   "id": "29eb4c04768b3088"
  },
  {
   "cell_type": "code",
   "execution_count": 17,
   "outputs": [
    {
     "name": "stdout",
     "output_type": "stream",
     "text": [
      "{}\n"
     ]
    }
   ],
   "source": [
    "emptyDict = dict()\n",
    "print(emptyDict)"
   ],
   "metadata": {
    "collapsed": false,
    "ExecuteTime": {
     "end_time": "2023-12-05T10:43:37.450562947Z",
     "start_time": "2023-12-05T10:43:36.940356665Z"
    }
   },
   "id": "e2f0d06df8b7b684"
  },
  {
   "cell_type": "markdown",
   "source": [
    "Ex 3.5\n",
    "Создайте пустой словарь empty_dict1, используя конструктор типов, а затем второй словарь \n",
    "empty_dict2 с использованием фигурных скобок. С помощью функции print() выведите значения обеих \n",
    "переменных. Убедитесь, что результаты одинаковые."
   ],
   "metadata": {
    "collapsed": false
   },
   "id": "ad142f55db0cdb03"
  },
  {
   "cell_type": "code",
   "execution_count": 18,
   "outputs": [
    {
     "name": "stdout",
     "output_type": "stream",
     "text": [
      "{} {}\n"
     ]
    }
   ],
   "source": [
    "emptyDict1 = dict()\n",
    "emptyDict2 = {}\n",
    "print(emptyDict1, emptyDict2)"
   ],
   "metadata": {
    "collapsed": false,
    "ExecuteTime": {
     "end_time": "2023-12-05T10:43:37.451514574Z",
     "start_time": "2023-12-05T10:43:36.981540974Z"
    }
   },
   "id": "b8ef1ffce89a62d0"
  },
  {
   "cell_type": "markdown",
   "source": [
    "Ex 3.6\n",
    "Создайте словарь alphabet_dict, в котором в качестве ключей будут пять первых букв английского \n",
    "языка, а в качестве значений для этих ключей будут числа от 1 до 5. \n",
    "Верните значение для буквы d:"
   ],
   "metadata": {
    "collapsed": false
   },
   "id": "3a6b58518b5fca39"
  },
  {
   "cell_type": "code",
   "execution_count": 19,
   "outputs": [
    {
     "name": "stdout",
     "output_type": "stream",
     "text": [
      "{'a': 1, 'b': 2, 'c': 3, 'd': 4, 'e': 5}\n",
      "4\n"
     ]
    }
   ],
   "source": [
    "alphabetDict = {'a': 1, 'b': 2, 'c': 3, 'd': 4, 'e': 5}\n",
    "print(alphabetDict)\n",
    "print(alphabetDict['d'])"
   ],
   "metadata": {
    "collapsed": false,
    "ExecuteTime": {
     "end_time": "2023-12-05T10:43:37.452246036Z",
     "start_time": "2023-12-05T10:43:36.995550158Z"
    }
   },
   "id": "62bf362aa0d68c8c"
  },
  {
   "cell_type": "markdown",
   "source": [
    "Ex 3.7\n",
    "Создайте словарь place_and_money, в котором в качестве ключей будут числа от 1 до 3, а в \n",
    "качестве значений — числа 100, 50, 10. Выведите денежный приз для второго места:"
   ],
   "metadata": {
    "collapsed": false
   },
   "id": "64cb397c3056cc64"
  },
  {
   "cell_type": "code",
   "execution_count": 20,
   "outputs": [
    {
     "name": "stdout",
     "output_type": "stream",
     "text": [
      "50\n"
     ]
    }
   ],
   "source": [
    "placeAndMoney = {1: 100, 2: 50, 3: 10}\n",
    "print(placeAndMoney[2])"
   ],
   "metadata": {
    "collapsed": false,
    "ExecuteTime": {
     "end_time": "2023-12-05T10:43:37.452869015Z",
     "start_time": "2023-12-05T10:43:37.036757827Z"
    }
   },
   "id": "27a72b1bb693f377"
  },
  {
   "cell_type": "markdown",
   "source": [
    "Ex 3.8\n",
    "В словарь place_and_money = {1: 100, 2: 50, 3: 10} добавьте четвёртое место с призом, равным 5. \n",
    "Выведите получившийся словарь. В качестве ответа запишите результат вывода."
   ],
   "metadata": {
    "collapsed": false
   },
   "id": "9732f734430530b"
  },
  {
   "cell_type": "code",
   "execution_count": 21,
   "outputs": [
    {
     "name": "stdout",
     "output_type": "stream",
     "text": [
      "{1: 100, 2: 50, 3: 10, 4: 5}\n"
     ]
    }
   ],
   "source": [
    "placeAndMoney[4] = 5\n",
    "print(placeAndMoney)"
   ],
   "metadata": {
    "collapsed": false,
    "ExecuteTime": {
     "end_time": "2023-12-05T10:43:37.453461010Z",
     "start_time": "2023-12-05T10:43:37.048734511Z"
    }
   },
   "id": "7ec912c6d5ce7444"
  },
  {
   "cell_type": "markdown",
   "source": [
    "Ex 3.9\n",
    "В словаре place_and_money = {1: 100, 2: 50, 3: 10} измените призовое значение для третьего места\n",
    "с 10 на 25. Выведите получившийся словарь. В качестве ответа запишите результат вывода."
   ],
   "metadata": {
    "collapsed": false
   },
   "id": "2020bb2cc5799b9f"
  },
  {
   "cell_type": "code",
   "execution_count": 22,
   "outputs": [
    {
     "name": "stdout",
     "output_type": "stream",
     "text": [
      "{1: 100, 2: 50, 3: 25, 4: 5}\n"
     ]
    }
   ],
   "source": [
    "placeAndMoney[3] = 25\n",
    "print(placeAndMoney)"
   ],
   "metadata": {
    "collapsed": false,
    "ExecuteTime": {
     "end_time": "2023-12-05T10:43:37.453889984Z",
     "start_time": "2023-12-05T10:43:37.090595280Z"
    }
   },
   "id": "6a5f03c28e492107"
  },
  {
   "cell_type": "markdown",
   "source": [
    "Ex 3.10\n",
    "Создайте словарь place_and_money = {1: 100, 2: 50, 3: 10}. Очистите этот словарь. Выведите \n",
    "результат. В качестве ответа запишите результат вывода."
   ],
   "metadata": {
    "collapsed": false
   },
   "id": "bbc9b6c2aa75ad38"
  },
  {
   "cell_type": "code",
   "execution_count": 23,
   "outputs": [
    {
     "name": "stdout",
     "output_type": "stream",
     "text": [
      "{}\n"
     ]
    }
   ],
   "source": [
    "placeAndMoney.clear()\n",
    "print(placeAndMoney)"
   ],
   "metadata": {
    "collapsed": false,
    "ExecuteTime": {
     "end_time": "2023-12-05T10:43:37.456263182Z",
     "start_time": "2023-12-05T10:43:37.101281372Z"
    }
   },
   "id": "a3fd0f8e5aaa6376"
  },
  {
   "cell_type": "markdown",
   "source": [
    "Ex 3.11\n",
    "Создайте словарь place_and_money = {1: 100, 2: 50, 3: 10}. Воспользуйтесь методом .keys() и \n",
    "выведите результат. В качестве ответа запишите результат вывода."
   ],
   "metadata": {
    "collapsed": false
   },
   "id": "276d50d608d0e938"
  },
  {
   "cell_type": "code",
   "execution_count": 24,
   "outputs": [
    {
     "name": "stdout",
     "output_type": "stream",
     "text": [
      "dict_keys([1, 2, 3])\n",
      "[1, 2, 3]\n"
     ]
    }
   ],
   "source": [
    "placeAndMoney = {1: 100, 2: 50, 3: 10}\n",
    "print(placeAndMoney.keys())\n",
    "print(list(placeAndMoney.keys()))"
   ],
   "metadata": {
    "collapsed": false,
    "ExecuteTime": {
     "end_time": "2023-12-05T10:43:37.456781178Z",
     "start_time": "2023-12-05T10:43:37.145224115Z"
    }
   },
   "id": "d7e8370c01d04186"
  },
  {
   "cell_type": "markdown",
   "source": [
    "Ex 3.12\n",
    "Создайте словарь name_to_age = {'Anne': 22, 'Anton': 27, 'Phillip': 30}. Воспользуйтесь \n",
    "методом .keys() и выведите результат. В качестве ответа запишите результат вывода."
   ],
   "metadata": {
    "collapsed": false
   },
   "id": "3d4dca2b8a814d16"
  },
  {
   "cell_type": "code",
   "execution_count": 25,
   "outputs": [
    {
     "name": "stdout",
     "output_type": "stream",
     "text": [
      "dict_keys(['Anne', 'Anton', 'Phillip'])\n"
     ]
    }
   ],
   "source": [
    "nameToAge = {'Anne': 22, 'Anton': 27, 'Phillip': 30}\n",
    "print(nameToAge.keys())"
   ],
   "metadata": {
    "collapsed": false,
    "ExecuteTime": {
     "end_time": "2023-12-05T10:43:37.459044358Z",
     "start_time": "2023-12-05T10:43:37.171989846Z"
    }
   },
   "id": "56c76f1157eb2e22"
  },
  {
   "cell_type": "markdown",
   "source": [
    "Ex 3.13\n",
    "Создайте словарь name_to_age = {'Anne': 22, 'Anton': 27, 'Phillip': 30}. Воспользуйтесь \n",
    "методом .values() и выведите результат. В качестве ответа запишите результат вывода."
   ],
   "metadata": {
    "collapsed": false
   },
   "id": "550b5eb7cfb800fb"
  },
  {
   "cell_type": "code",
   "execution_count": 26,
   "outputs": [
    {
     "name": "stdout",
     "output_type": "stream",
     "text": [
      "dict_values([22, 27, 30])\n"
     ]
    }
   ],
   "source": [
    "print(nameToAge.values())"
   ],
   "metadata": {
    "collapsed": false,
    "ExecuteTime": {
     "end_time": "2023-12-05T10:43:37.859437595Z",
     "start_time": "2023-12-05T10:43:37.213398406Z"
    }
   },
   "id": "40a5121580a13e78"
  },
  {
   "cell_type": "markdown",
   "source": [
    "Ex 3.14\n",
    "Создайте словарь place_and_money = {1: 100, 2: 50, 3: 10}. Воспользуйтесь методом .values() и \n",
    "выведите результат. В качестве ответа запишите результат вывода."
   ],
   "metadata": {
    "collapsed": false
   },
   "id": "7e24ec3b4947a607"
  },
  {
   "cell_type": "code",
   "execution_count": 27,
   "outputs": [
    {
     "name": "stdout",
     "output_type": "stream",
     "text": [
      "dict_values([100, 50, 10])\n"
     ]
    }
   ],
   "source": [
    "print(placeAndMoney.values())"
   ],
   "metadata": {
    "collapsed": false,
    "ExecuteTime": {
     "end_time": "2023-12-05T10:43:37.915402713Z",
     "start_time": "2023-12-05T10:43:37.229295113Z"
    }
   },
   "id": "28da1d4520c799b5"
  },
  {
   "cell_type": "markdown",
   "source": [
    "Ex 3.15\n",
    "Создайте словарь place_and_money = {1: 100, 2: 50, 3: 10}. Попробуйте вывести приз для 20 места \n",
    "через метод .get(). В качестве значения по умолчанию поставьте число 0. В качестве ответа \n",
    "запишите результат вывода."
   ],
   "metadata": {
    "collapsed": false
   },
   "id": "35cdc663fb0ea40c"
  },
  {
   "cell_type": "code",
   "execution_count": 28,
   "outputs": [
    {
     "name": "stdout",
     "output_type": "stream",
     "text": [
      "0\n"
     ]
    }
   ],
   "source": [
    "print(placeAndMoney.get(20, 0))"
   ],
   "metadata": {
    "collapsed": false,
    "ExecuteTime": {
     "end_time": "2023-12-05T10:43:37.944244023Z",
     "start_time": "2023-12-05T10:43:37.270434563Z"
    }
   },
   "id": "641c1e799d4ef701"
  },
  {
   "cell_type": "markdown",
   "source": [
    "Ex 3.16\n",
    "Создайте словарь name_to_age = {'Anne': 22, 'Anton': 27, 'Phillip': 30}. Попробуйте вывести возраст для персонажа по имени 'Danny'. Если такого имени не будет в словаре, выведите -1. В качестве ответа запишите результат вывода."
   ],
   "metadata": {
    "collapsed": false
   },
   "id": "8408a2b16d1b6998"
  },
  {
   "cell_type": "code",
   "execution_count": 29,
   "outputs": [
    {
     "name": "stdout",
     "output_type": "stream",
     "text": [
      "-1\n"
     ]
    }
   ],
   "source": [
    "print(nameToAge.get(\"Danny\", -1))"
   ],
   "metadata": {
    "collapsed": false,
    "ExecuteTime": {
     "end_time": "2023-12-05T10:43:37.962856861Z",
     "start_time": "2023-12-05T10:43:37.289040456Z"
    }
   },
   "id": "d60e375cf1df149e"
  },
  {
   "cell_type": "markdown",
   "source": [
    "Ex 3.17\n",
    "Создайте словарь place_and_money = {1: 100, 2: 50, 3: 10}. Затем добавьте в него следующие \n",
    "места и значения: четвёртое место с призом 5, пятое место с призом 1. Используйте \n",
    "метод update(). Выведите результат. В качестве ответа запишите результат вывода."
   ],
   "metadata": {
    "collapsed": false
   },
   "id": "65fa8f24d3a7696f"
  },
  {
   "cell_type": "code",
   "execution_count": 30,
   "outputs": [
    {
     "name": "stdout",
     "output_type": "stream",
     "text": [
      "{1: 100, 2: 50, 3: 10}\n",
      "{1: 100, 2: 50, 3: 10, 4: 5, 5: 1}\n"
     ]
    }
   ],
   "source": [
    "print(placeAndMoney)\n",
    "placeAndMoney.update({4: 5, 5: 1})\n",
    "print(placeAndMoney)"
   ],
   "metadata": {
    "collapsed": false,
    "ExecuteTime": {
     "end_time": "2023-12-05T10:43:37.963303153Z",
     "start_time": "2023-12-05T10:43:37.329651391Z"
    }
   },
   "id": "9dbf4b0b34842e76"
  },
  {
   "cell_type": "markdown",
   "source": [
    "Ex 3.18\n",
    "Создайте словарь name_to_age = {'Anne': 22, 'Anton': 27, 'Phillip': 30}. Измените у \n",
    "Анны возраст на 23, а у Филиппа — на 29. Используйте метод update(). Выведите результат. \n",
    "В качестве ответа запишите результат вывода."
   ],
   "metadata": {
    "collapsed": false
   },
   "id": "e0a6a9bcd7d95286"
  },
  {
   "cell_type": "code",
   "execution_count": 31,
   "outputs": [
    {
     "name": "stdout",
     "output_type": "stream",
     "text": [
      "{'Anne': 22, 'Anton': 27, 'Phillip': 30}\n",
      "{'Anne': 23, 'Anton': 27, 'Phillip': 29}\n"
     ]
    }
   ],
   "source": [
    "print(nameToAge)\n",
    "nameToAge.update({'Anne': 23, 'Phillip': 29})\n",
    "print(nameToAge)"
   ],
   "metadata": {
    "collapsed": false,
    "ExecuteTime": {
     "end_time": "2023-12-05T10:43:37.968040290Z",
     "start_time": "2023-12-05T10:43:37.340654763Z"
    }
   },
   "id": "24a69e3187feeedc"
  },
  {
   "cell_type": "markdown",
   "source": [
    "Ex 3.19\n",
    "Создайте словарь place_and_money = {1: 100, 2: 50, 3: 10}. Используя метод .pop(), удалите \n",
    "элемент словаря со значением приза за третье место. Результат работы метода запишите в \n",
    "переменную result и выведите её на экран. В качестве ответа запишите результат вывода."
   ],
   "metadata": {
    "collapsed": false
   },
   "id": "8bfa4cee78e10770"
  },
  {
   "cell_type": "code",
   "execution_count": 32,
   "outputs": [
    {
     "name": "stdout",
     "output_type": "stream",
     "text": [
      "10\n"
     ]
    }
   ],
   "source": [
    "placeAndMoney = {1: 100, 2: 50, 3: 10}\n",
    "popResult = placeAndMoney.pop(3)\n",
    "print(popResult)"
   ],
   "metadata": {
    "collapsed": false,
    "ExecuteTime": {
     "end_time": "2023-12-05T10:43:37.979890306Z",
     "start_time": "2023-12-05T10:43:37.368462850Z"
    }
   },
   "id": "14ab9bfff5b07b77"
  },
  {
   "cell_type": "markdown",
   "source": [
    "Ex 3.20\n",
    "Создайте словарь name_to_age = {'Anne': 22, 'Anton': 27, 'Phillip': 30}. С помощью \n",
    "метода .pop() удалите из словаря данные для Антона. Результат запишите в переменную \n",
    "result и выведите её на экран. В качестве ответа запишите результат вывода."
   ],
   "metadata": {
    "collapsed": false
   },
   "id": "18259887808e08ed"
  },
  {
   "cell_type": "code",
   "execution_count": 33,
   "outputs": [
    {
     "name": "stdout",
     "output_type": "stream",
     "text": [
      "27\n"
     ]
    }
   ],
   "source": [
    "nameToAge = {'Anne': 22, 'Anton': 27, 'Phillip': 30}\n",
    "popResult = nameToAge.pop('Anton')\n",
    "print(popResult)"
   ],
   "metadata": {
    "collapsed": false,
    "ExecuteTime": {
     "end_time": "2023-12-05T10:43:37.986588319Z",
     "start_time": "2023-12-05T10:43:37.409388534Z"
    }
   },
   "id": "1b26c89129b13cc"
  },
  {
   "cell_type": "markdown",
   "source": [
    "Ex 3.21\n",
    "Создайте словарь place_and_money = {1: 100, 2: 50, 3: 10}. Через метод .setdefault() \n",
    "установите значение, равное 1, для десятого места. Выведите получившийся объект \n",
    "place_and_money. В качестве ответа запишите результат вывода."
   ],
   "metadata": {
    "collapsed": false
   },
   "id": "7ff529a26d7ed82b"
  },
  {
   "cell_type": "code",
   "execution_count": 36,
   "outputs": [
    {
     "name": "stdout",
     "output_type": "stream",
     "text": [
      "{1: 100, 2: 50, 3: 10, 10: 1}\n"
     ]
    }
   ],
   "source": [
    "placeAndMoney = {1: 100, 2: 50, 3: 10}\n",
    "placeAndMoney.setdefault(10, 1)\n",
    "print(placeAndMoney)"
   ],
   "metadata": {
    "collapsed": false,
    "ExecuteTime": {
     "end_time": "2023-12-05T10:45:07.964847815Z",
     "start_time": "2023-12-05T10:45:07.917238504Z"
    }
   },
   "id": "db527e76e8b995ce"
  },
  {
   "cell_type": "markdown",
   "source": [
    "Ex 3.22\n",
    "Создайте словарь name_to_age = {'Anne': 22, 'Anton': 27, 'Phillip': 30}. Через метод .setdefault\n",
    "() обновите возраст у Анны с 22 до 32. Выведите результат — он не должен измениться. В качестве \n",
    "ответа запишите результат вывода."
   ],
   "metadata": {
    "collapsed": false
   },
   "id": "b452e68ee425e6f3"
  },
  {
   "cell_type": "code",
   "execution_count": 37,
   "outputs": [
    {
     "name": "stdout",
     "output_type": "stream",
     "text": [
      "{'Anne': 22, 'Anton': 27, 'Phillip': 30}\n"
     ]
    }
   ],
   "source": [
    "nameToAge = {'Anne': 22, 'Anton': 27, 'Phillip': 30}\n",
    "nameToAge.setdefault('Anne', 32)\n",
    "print(nameToAge)"
   ],
   "metadata": {
    "collapsed": false,
    "ExecuteTime": {
     "end_time": "2023-12-05T10:48:38.994718983Z",
     "start_time": "2023-12-05T10:48:38.938018318Z"
    }
   },
   "id": "2a217169393fefc6"
  },
  {
   "cell_type": "markdown",
   "source": [
    "Ex 3.23\n",
    "Создайте пустой словарь test_dict. Затем вставьте в него в качестве ключа число 5, а в качестве \n",
    "значения — список [3,4,5]. Затем в тот же словарь в качестве ключа добавьте кортеж (3,4,5), а \n",
    "его значением укажите строку 'strong man'. Выведите результат. В качестве ответа запишите \n",
    "результат вывода."
   ],
   "metadata": {
    "collapsed": false
   },
   "id": "1183ae26282207dc"
  },
  {
   "cell_type": "code",
   "execution_count": 38,
   "outputs": [
    {
     "name": "stdout",
     "output_type": "stream",
     "text": [
      "{5: [3, 4, 5], (3, 4, 5): 'strong man'}\n"
     ]
    }
   ],
   "source": [
    "testDict = {}\n",
    "testDict.update({5: [3, 4, 5]})\n",
    "testDict.update({(3, 4, 5): \"strong man\"})\n",
    "print(testDict)"
   ],
   "metadata": {
    "collapsed": false,
    "ExecuteTime": {
     "end_time": "2023-12-05T10:52:42.786822442Z",
     "start_time": "2023-12-05T10:52:42.709946122Z"
    }
   },
   "id": "938f25b16e0fee4a"
  },
  {
   "cell_type": "markdown",
   "source": [
    "Ex 3.24\n",
    "Создайте пустой словарь test_dict2. По ключу 'name' поставьте строку 'Sancho'. В качестве \n",
    "значения для ключа 'surname' поставьте 'Panso'. А для ключа 'info' добавьте словарь {'age': 35, \n",
    "'country': 'Mexico'}. Выведите результат. В качестве ответа запишите результат вывода."
   ],
   "metadata": {
    "collapsed": false
   },
   "id": "7936abaeec52d43b"
  },
  {
   "cell_type": "code",
   "execution_count": 39,
   "outputs": [
    {
     "name": "stdout",
     "output_type": "stream",
     "text": [
      "{'name': 'Sancho', 'surname': 'Panso', 'info': {'age': 35, 'country': 'Mexico'}}\n"
     ]
    }
   ],
   "source": [
    "testDictTwo = {}\n",
    "testDictTwo.update({'name': 'Sancho', 'surname': 'Panso'})\n",
    "testDictTwo.update({'info': {'age': 35, 'country': 'Mexico'}})\n",
    "print(testDictTwo)"
   ],
   "metadata": {
    "collapsed": false,
    "ExecuteTime": {
     "end_time": "2023-12-05T10:56:19.936789389Z",
     "start_time": "2023-12-05T10:56:19.855737425Z"
    }
   },
   "id": "210b6a590c3b07a4"
  },
  {
   "cell_type": "markdown",
   "source": [
    "Ex 3.25\n",
    "Создайте пустой словарь test_dict3. По ключу 'info' добавьте список [10, 15, 27]. А ключу \n",
    "'about' поставьте словарь {'game': 'football', 'period': 5}. Затем измените значение по ключу \n",
    "'about' на 'dont know'. Выведите результат. В качестве ответа запишите результат вывода."
   ],
   "metadata": {
    "collapsed": false
   },
   "id": "238f8d0f98bdc34c"
  },
  {
   "cell_type": "code",
   "execution_count": 42,
   "outputs": [
    {
     "name": "stdout",
     "output_type": "stream",
     "text": [
      "{'info': [10, 15, 27], 'about': {'game': 'football', 'period': 5}}\n",
      "{'info': [10, 15, 27], 'about': 'dont know'}\n"
     ]
    }
   ],
   "source": [
    "testDictThree = {}\n",
    "testDictThree.update({'info': [10, 15, 27], 'about': {'game': 'football', 'period': 5}})\n",
    "print(testDictThree)\n",
    "testDictThree.update({'about': \"dont know\"})\n",
    "print(testDictThree)"
   ],
   "metadata": {
    "collapsed": false,
    "ExecuteTime": {
     "end_time": "2023-12-05T11:17:05.310738956Z",
     "start_time": "2023-12-05T11:17:05.238192531Z"
    }
   },
   "id": "c8a0a429d9b5502"
  }
 ],
 "metadata": {
  "kernelspec": {
   "display_name": "Python 3",
   "language": "python",
   "name": "python3"
  },
  "language_info": {
   "codemirror_mode": {
    "name": "ipython",
    "version": 2
   },
   "file_extension": ".py",
   "mimetype": "text/x-python",
   "name": "python",
   "nbconvert_exporter": "python",
   "pygments_lexer": "ipython2",
   "version": "2.7.6"
  }
 },
 "nbformat": 4,
 "nbformat_minor": 5
}
