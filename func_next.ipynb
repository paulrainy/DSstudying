{
 "cells": [
  {
   "cell_type": "markdown",
   "source": [
    "# Ex 2.1"
   ],
   "metadata": {
    "collapsed": false
   },
   "id": "7943a2859ba6ddde"
  },
  {
   "cell_type": "markdown",
   "source": [
    "# Ex 2.2"
   ],
   "metadata": {
    "collapsed": false
   },
   "id": "cd8f77290d6b989a"
  },
  {
   "cell_type": "markdown",
   "source": [
    "# Ex 2.3"
   ],
   "metadata": {
    "collapsed": false
   },
   "id": "fe90ea8c8f466729"
  },
  {
   "cell_type": "markdown",
   "source": [
    "# Ex 2.4"
   ],
   "metadata": {
    "collapsed": false
   },
   "id": "158b833df494335f"
  },
  {
   "cell_type": "markdown",
   "source": [
    "# Ex 2.5"
   ],
   "metadata": {
    "collapsed": false
   },
   "id": "7f377488946e5356"
  },
  {
   "cell_type": "markdown",
   "source": [
    "# Ex 2.6"
   ],
   "metadata": {
    "collapsed": false
   },
   "id": "eacdfb314994441e"
  },
  {
   "cell_type": "markdown",
   "source": [
    "# Ex 2.7"
   ],
   "metadata": {
    "collapsed": false
   },
   "id": "fb6c9f42cd844fac"
  },
  {
   "cell_type": "markdown",
   "source": [
    "# Ex 2.8"
   ],
   "metadata": {
    "collapsed": false
   },
   "id": "e5e2758c9ab31c4f"
  },
  {
   "cell_type": "markdown",
   "source": [
    "# Ex 2.9"
   ],
   "metadata": {
    "collapsed": false
   },
   "id": "9104dd632b3ec901"
  }
 ],
 "metadata": {
  "kernelspec": {
   "display_name": "Python 3",
   "language": "python",
   "name": "python3"
  },
  "language_info": {
   "codemirror_mode": {
    "name": "ipython",
    "version": 2
   },
   "file_extension": ".py",
   "mimetype": "text/x-python",
   "name": "python",
   "nbconvert_exporter": "python",
   "pygments_lexer": "ipython2",
   "version": "2.7.6"
  }
 },
 "nbformat": 4,
 "nbformat_minor": 5
}
