{
 "cells": [
  {
   "cell_type": "markdown",
   "source": [
    "# Ex 2.1\n",
    "Что будет выведено в результате выполнения следующего кода?"
   ],
   "metadata": {
    "collapsed": false
   },
   "id": "7943a2859ba6ddde"
  },
  {
   "cell_type": "code",
   "outputs": [
    {
     "ename": "NameError",
     "evalue": "name 'printer' is not defined",
     "output_type": "error",
     "traceback": [
      "\u001B[0;31m---------------------------------------------------------------------------\u001B[0m",
      "\u001B[0;31mNameError\u001B[0m                                 Traceback (most recent call last)",
      "Cell \u001B[0;32mIn[1], line 4\u001B[0m\n\u001B[1;32m      2\u001B[0m     \u001B[38;5;28;01mdef\u001B[39;00m \u001B[38;5;21mprinter\u001B[39m():\n\u001B[1;32m      3\u001B[0m         \u001B[38;5;28mprint\u001B[39m(msg)\n\u001B[0;32m----> 4\u001B[0m \u001B[43mprinter\u001B[49m(\u001B[38;5;124m'\u001B[39m\u001B[38;5;124mHello\u001B[39m\u001B[38;5;124m'\u001B[39m)\n",
      "\u001B[0;31mNameError\u001B[0m: name 'printer' is not defined"
     ]
    }
   ],
   "source": [
    "def print_msg(msg):\n",
    "    def printer():\n",
    "        print(msg)\n",
    "printer('Hello')"
   ],
   "metadata": {
    "collapsed": false,
    "ExecuteTime": {
     "end_time": "2024-04-10T11:52:09.692827Z",
     "start_time": "2024-04-10T11:52:09.461262Z"
    }
   },
   "id": "e35a6b2952a7da3a",
   "execution_count": 1
  },
  {
   "cell_type": "markdown",
   "source": [
    "# Ex 2.2\n",
    "Перед вами код функции min_of_cubes(), которая содержит функцию cube(). Ознакомьтесь с синтаксисом функции и ответьте на несколько вопросов."
   ],
   "metadata": {
    "collapsed": false
   },
   "id": "cd8f77290d6b989a"
  },
  {
   "cell_type": "code",
   "outputs": [
    {
     "name": "stdout",
     "output_type": "stream",
     "text": [
      "27\n"
     ]
    }
   ],
   "source": [
    "def min_of_cubes(x, y):\n",
    "    def cube(a):\n",
    "        result = a**3\n",
    "        return result\n",
    "\n",
    "    return min(cube(x), cube(y))\n",
    "\n",
    "print(min_of_cubes(3, 5))"
   ],
   "metadata": {
    "collapsed": false,
    "ExecuteTime": {
     "end_time": "2024-04-10T11:52:49.135964Z",
     "start_time": "2024-04-10T11:52:49.132280Z"
    }
   },
   "id": "572c8972dfbb04f4",
   "execution_count": 3
  },
  {
   "cell_type": "markdown",
   "source": [
    "# Ex 2.3\n",
    "На первом этапе напишите функцию get_count_unique_symbols(), которая:\n",
    "- принимает на вход строку s,\n",
    "- приводит её к нижнему регистру,\n",
    "- убирает из неё все пробелы,\n",
    "- возвращает количество уникальных символов в строке.\n",
    "\n",
    "Примеры вызова функции:\n",
    "```python\n",
    "get_count_unique_symbols('Это простая строка')\n",
    "## 9\n",
    "get_count_unique_symbols('This is a simple string')\n",
    "## 12\n",
    "```"
   ],
   "metadata": {
    "collapsed": false
   },
   "id": "fe90ea8c8f466729"
  },
  {
   "cell_type": "markdown",
   "source": [
    "# Ex 2.4\n",
    "На втором этапе напишите функцию get_min_string(), которая:\n",
    "- принимает на вход две строки s1 и s2,\n",
    "- возвращает ту, в которой количество уникальных символов меньше.\n",
    "\n",
    "Чтобы определить количество уникальных символов, воспользуйтесь функцией get_count_unique_symbols(), которую вы написали в предыдущем задании.\n",
    "Поместите ее определение и вызов внутрь функции get_min_string().\n",
    "У вас должна получиться такая конструкция:\n",
    "```python\n",
    "def get_min_string(s1, s2):\n",
    "    def get_count_unique_symbols(s):\n",
    "        # Код внутренней функции\n",
    "    # Применяем вложенную функцию к каждой из строк\n",
    "    s1_len = get_count_unique_symbols(s1)\n",
    "    s2_len = get_count_unique_symbols(s2)\n",
    "    # код внешней функции\n",
    "```\n",
    "Функция get_min_string() должна возвращать:\n",
    "- строку s1, если количество уникальных символов в ней меньше, чем в s2;\n",
    "- строку s2, если количество уникальных символов в ней меньше, чем в s1;\n",
    "- кортеж из строк s1 и s2 при равенстве количества уникальных символов.\n",
    "\n",
    "Примеры вызова функций:\n",
    "```python\n",
    "print(get_min_string(s1='Это простая строка', s2='This is a simple string'))\n",
    "## Это простая строка\n",
    "print(get_min_string(s1='Отличная фраза', s2='Great phrase'))\n",
    "## Great phrase\n",
    "print(get_min_string(s1='школа', s2='school'))\n",
    "## ('школа', 'school')\n",
    "```"
   ],
   "metadata": {
    "collapsed": false
   },
   "id": "158b833df494335f"
  },
  {
   "cell_type": "markdown",
   "source": [
    "# Ex 2.9\n",
    "Мы пишем приложение для рисования графических фигур. Пока мы можем рисовать только окружности и эллипсы.\n",
    "Чтобы закрашивать фигуры, которые мы рисуем, необходимо рассчитывать площадь этих фигур. Для расчета площади воспользуемся простейшими формулами.\n",
    "Площадь окружности вычисляется по формуле:\n",
    "S = πr², где r — радиус окружности.\n",
    "\n",
    "![](./resources/pic_1131.png)\n",
    "\n",
    "Площадь эллипса вычисляется по формуле:\n",
    "S = πab, где a и b — длины полуосей эллипса.\n",
    "При разработке приложения мы принимаем, что π = 3,1416.\n",
    "Обратите внимание! Это число является константой — его значение не меняется на всём протяжении выполнения программы.\n",
    "Напишите функции calculate_area_circle() и calculate_area_ellipse().\n",
    "Первая функция должна принимать один аргумент r — радиус окружности, вторая функция должна принимать два аргумента a и b — длины полуосей эллипса.\n",
    "Каждая из функций должна возвращать площадь соответствующей фигуры, округленную до третьего знака после запятой.\n",
    "Обе функции должны использовать внутри себя локальные переменные с одним и тем же именем area (площади фигур) и глобальную переменную pi, объявленную вне этих функций.\n",
    "Примеры вызова функций:\n",
    "```python\n",
    "pi = 3.1416\n",
    "print(calculate_area_circle(r=5))\n",
    "## 78.54\n",
    "print(calculate_area_ellipse(a=3, b=2.5))\n",
    "## 23.562\n",
    "\n",
    "pi = 3.14\n",
    "print(calculate_area_circle(r=5))\n",
    "## 78.5\n",
    "print(calculate_area_ellipse(a=3, b=2.5))\n",
    "## 23.55\n",
    "```\n",
    "Примечание: Обратите внимание, что для отправки кода на проверку переменную pi объявлять не нужно.\n",
    "Не забудьте удалить строку кода с её объявлением перед тем, как отправить код на тестирование."
   ],
   "metadata": {
    "collapsed": false
   },
   "id": "9104dd632b3ec901"
  },
  {
   "cell_type": "code",
   "outputs": [],
   "source": [],
   "metadata": {
    "collapsed": false
   },
   "id": "c66e5430a95f500b"
  }
 ],
 "metadata": {
  "kernelspec": {
   "display_name": "Python 3",
   "language": "python",
   "name": "python3"
  },
  "language_info": {
   "codemirror_mode": {
    "name": "ipython",
    "version": 2
   },
   "file_extension": ".py",
   "mimetype": "text/x-python",
   "name": "python",
   "nbconvert_exporter": "python",
   "pygments_lexer": "ipython2",
   "version": "2.7.6"
  }
 },
 "nbformat": 4,
 "nbformat_minor": 5
}
