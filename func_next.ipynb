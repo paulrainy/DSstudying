{
 "cells": [
  {
   "cell_type": "markdown",
   "source": [
    "# Ex 2.1\n",
    "Что будет выведено в результате выполнения следующего кода?"
   ],
   "metadata": {
    "collapsed": false
   },
   "id": "7943a2859ba6ddde"
  },
  {
   "cell_type": "code",
   "outputs": [
    {
     "ename": "NameError",
     "evalue": "name 'printer' is not defined",
     "output_type": "error",
     "traceback": [
      "\u001B[0;31m---------------------------------------------------------------------------\u001B[0m",
      "\u001B[0;31mNameError\u001B[0m                                 Traceback (most recent call last)",
      "Cell \u001B[0;32mIn[1], line 4\u001B[0m\n\u001B[1;32m      2\u001B[0m     \u001B[38;5;28;01mdef\u001B[39;00m \u001B[38;5;21mprinter\u001B[39m():\n\u001B[1;32m      3\u001B[0m         \u001B[38;5;28mprint\u001B[39m(msg)\n\u001B[0;32m----> 4\u001B[0m \u001B[43mprinter\u001B[49m(\u001B[38;5;124m'\u001B[39m\u001B[38;5;124mHello\u001B[39m\u001B[38;5;124m'\u001B[39m)\n",
      "\u001B[0;31mNameError\u001B[0m: name 'printer' is not defined"
     ]
    }
   ],
   "source": [
    "def print_msg(msg):\n",
    "    def printer():\n",
    "        print(msg)\n",
    "printer('Hello')"
   ],
   "metadata": {
    "collapsed": false,
    "ExecuteTime": {
     "end_time": "2024-04-10T11:52:09.692827Z",
     "start_time": "2024-04-10T11:52:09.461262Z"
    }
   },
   "id": "e35a6b2952a7da3a",
   "execution_count": 1
  },
  {
   "cell_type": "markdown",
   "source": [
    "# Ex 2.2\n",
    "Перед вами код функции min_of_cubes(), которая содержит функцию cube(). Ознакомьтесь с синтаксисом функции и ответьте на несколько вопросов."
   ],
   "metadata": {
    "collapsed": false
   },
   "id": "cd8f77290d6b989a"
  },
  {
   "cell_type": "code",
   "outputs": [
    {
     "name": "stdout",
     "output_type": "stream",
     "text": [
      "27\n"
     ]
    }
   ],
   "source": [
    "def min_of_cubes(x, y):\n",
    "    def cube(a):\n",
    "        result = a**3\n",
    "        return result\n",
    "\n",
    "    return min(cube(x), cube(y))\n",
    "\n",
    "print(min_of_cubes(3, 5))"
   ],
   "metadata": {
    "collapsed": false,
    "ExecuteTime": {
     "end_time": "2024-04-10T11:52:49.135964Z",
     "start_time": "2024-04-10T11:52:49.132280Z"
    }
   },
   "id": "572c8972dfbb04f4",
   "execution_count": 3
  },
  {
   "cell_type": "markdown",
   "source": [
    "# Ex 2.3\n",
    "На первом этапе напишите функцию get_count_unique_symbols(), которая:\n",
    "- принимает на вход строку s,\n",
    "- приводит её к нижнему регистру,\n",
    "- убирает из неё все пробелы,\n",
    "- возвращает количество уникальных символов в строке.\n",
    "\n",
    "Примеры вызова функции:\n",
    "```python\n",
    "get_count_unique_symbols('Это простая строка')\n",
    "## 9\n",
    "get_count_unique_symbols('This is a simple string')\n",
    "## 12\n",
    "```"
   ],
   "metadata": {
    "collapsed": false
   },
   "id": "fe90ea8c8f466729"
  },
  {
   "cell_type": "code",
   "outputs": [
    {
     "name": "stdout",
     "output_type": "stream",
     "text": [
      "12\n"
     ]
    }
   ],
   "source": [
    "def get_count_unique_symbols(s):\n",
    "    letter_list = []\n",
    "    s = s.lower()\n",
    "    s = s.replace(' ', '')\n",
    "    for letter in s:\n",
    "        if letter in letter_list:\n",
    "            continue\n",
    "        else:\n",
    "            letter_list.append(letter)\n",
    "    \n",
    "    return len(letter_list)\n",
    "\n",
    "print(get_count_unique_symbols('This is a simple string'))    "
   ],
   "metadata": {
    "collapsed": false,
    "ExecuteTime": {
     "end_time": "2024-04-12T07:35:02.610256Z",
     "start_time": "2024-04-12T07:35:02.605655Z"
    }
   },
   "id": "e12e929309dd42ec",
   "execution_count": 2
  },
  {
   "cell_type": "markdown",
   "source": [
    "# Ex 2.4\n",
    "На втором этапе напишите функцию get_min_string(), которая:\n",
    "- принимает на вход две строки s1 и s2,\n",
    "- возвращает ту, в которой количество уникальных символов меньше.\n",
    "\n",
    "Чтобы определить количество уникальных символов, воспользуйтесь функцией get_count_unique_symbols(), которую вы написали в предыдущем задании.\n",
    "Поместите ее определение и вызов внутрь функции get_min_string().\n",
    "У вас должна получиться такая конструкция:\n",
    "```python\n",
    "def get_min_string(s1, s2):\n",
    "    def get_count_unique_symbols(s):\n",
    "        # Код внутренней функции\n",
    "    # Применяем вложенную функцию к каждой из строк\n",
    "    s1_len = get_count_unique_symbols(s1)\n",
    "    s2_len = get_count_unique_symbols(s2)\n",
    "    # код внешней функции\n",
    "```\n",
    "Функция get_min_string() должна возвращать:\n",
    "- строку s1, если количество уникальных символов в ней меньше, чем в s2;\n",
    "- строку s2, если количество уникальных символов в ней меньше, чем в s1;\n",
    "- кортеж из строк s1 и s2 при равенстве количества уникальных символов.\n",
    "\n",
    "Примеры вызова функций:\n",
    "```python\n",
    "print(get_min_string(s1='Это простая строка', s2='This is a simple string'))\n",
    "## Это простая строка\n",
    "print(get_min_string(s1='Отличная фраза', s2='Great phrase'))\n",
    "## Great phrase\n",
    "print(get_min_string(s1='школа', s2='school'))\n",
    "## ('школа', 'school')\n",
    "```"
   ],
   "metadata": {
    "collapsed": false
   },
   "id": "158b833df494335f"
  },
  {
   "cell_type": "code",
   "outputs": [
    {
     "name": "stdout",
     "output_type": "stream",
     "text": [
      "('школа', 'school')\n"
     ]
    }
   ],
   "source": [
    "def get_min_string(s1, s2):\n",
    "    def get_count_unique_symbols_inner(s):\n",
    "        letter_list = []\n",
    "        s = s.lower()\n",
    "        s = s.replace(' ', '')\n",
    "        for letter in s:\n",
    "            if letter in letter_list:\n",
    "                continue\n",
    "            else:\n",
    "                letter_list.append(letter)\n",
    "\n",
    "        return len(letter_list)\n",
    "    \n",
    "    s1_len = get_count_unique_symbols_inner(s1)\n",
    "    s2_len = get_count_unique_symbols_inner(s2)\n",
    "    if s1_len < s2_len:\n",
    "        return s1\n",
    "    elif s1_len > s2_len: \n",
    "        return s2\n",
    "    else:\n",
    "        return (s1, s2)\n",
    "\n",
    "print(get_min_string(s1='школа', s2='school'))   "
   ],
   "metadata": {
    "collapsed": false,
    "ExecuteTime": {
     "end_time": "2024-04-12T07:45:15.594249Z",
     "start_time": "2024-04-12T07:45:15.582287Z"
    }
   },
   "id": "dae26e42a09760c9",
   "execution_count": 5
  },
  {
   "cell_type": "markdown",
   "source": [
    "# Ex 2.9\n",
    "Мы пишем приложение для рисования графических фигур. Пока мы можем рисовать только окружности \n",
    "и эллипсы.\n",
    "Чтобы закрашивать фигуры, которые мы рисуем, необходимо рассчитывать площадь этих фигур. \n",
    "Для расчета площади воспользуемся простейшими формулами.\n",
    "Площадь окружности вычисляется по формуле:\n",
    "S = πr², где r — радиус окружности.\n",
    "\n",
    "![](./resources/pic_1131.png)\n",
    "\n",
    "Площадь эллипса вычисляется по формуле:\n",
    "S = πab, где a и b — длины полуосей эллипса.\n",
    "При разработке приложения мы принимаем, что π = 3,1416.\n",
    "Обратите внимание! Это число является константой — его значение не меняется на всём протяжении выполнения программы.\n",
    "Напишите функции calculate_area_circle() и calculate_area_ellipse().\n",
    "Первая функция должна принимать один аргумент r — радиус окружности, вторая функция должна принимать два аргумента a и b — длины полуосей эллипса.\n",
    "Каждая из функций должна возвращать площадь соответствующей фигуры, округленную до третьего знака после запятой.\n",
    "Обе функции должны использовать внутри себя локальные переменные с одним и тем же именем area (площади фигур) и глобальную переменную pi, объявленную вне этих функций.\n",
    "Примеры вызова функций:\n",
    "```python\n",
    "pi = 3.1416\n",
    "print(calculate_area_circle(r=5))\n",
    "## 78.54\n",
    "print(calculate_area_ellipse(a=3, b=2.5))\n",
    "## 23.562\n",
    "\n",
    "pi = 3.14\n",
    "print(calculate_area_circle(r=5))\n",
    "## 78.5\n",
    "print(calculate_area_ellipse(a=3, b=2.5))\n",
    "## 23.55\n",
    "```\n",
    "Примечание: Обратите внимание, что для отправки кода на проверку переменную pi объявлять не нужно.\n",
    "Не забудьте удалить строку кода с её объявлением перед тем, как отправить код на тестирование."
   ],
   "metadata": {
    "collapsed": false
   },
   "id": "9104dd632b3ec901"
  },
  {
   "cell_type": "code",
   "outputs": [
    {
     "name": "stdout",
     "output_type": "stream",
     "text": [
      "78.53999999999999\n",
      "23.561999999999998\n"
     ]
    }
   ],
   "source": [
    "pi = 3.1416\n",
    "calculate_area_circle = lambda r: (r ** 2) * pi\n",
    "calculate_area_ellipse = lambda a, b: pi * a * b\n",
    "print(calculate_area_circle(5))\n",
    "print(calculate_area_ellipse(3, 2.5))"
   ],
   "metadata": {
    "collapsed": false,
    "ExecuteTime": {
     "end_time": "2024-04-12T13:15:24.469464Z",
     "start_time": "2024-04-12T13:15:24.464494Z"
    }
   },
   "id": "c66e5430a95f500b",
   "execution_count": 6
  },
  {
   "cell_type": "markdown",
   "source": [
    "# Ex 3.1\n",
    "Рассмотрите следующий фрагмент кода:"
   ],
   "metadata": {
    "collapsed": false
   },
   "id": "887c1540a08dd9e7"
  },
  {
   "cell_type": "code",
   "outputs": [],
   "source": [
    "c = -2\n",
    "\n",
    "def outer1(a, b):\n",
    "    c = 2\n",
    "    d = a + b + c\n",
    "    return d\n",
    "\n",
    "def outer2(a, b):\n",
    "    global c\n",
    "    d = a + b + c\n",
    "    return d\n",
    "\n",
    "print(outer1(a=5, b=3))\n",
    "print(outer2(a=5, b=3))"
   ],
   "metadata": {
    "collapsed": false
   },
   "id": "7b42008acb3fb9d0"
  },
  {
   "cell_type": "markdown",
   "source": [
    "# Ex 3.2\n",
    "Вам необходимо написать программу, которая будет вычислять сумму, оставшуюся на счёте у пользователя банковской карты.\n",
    "Посмотрите на код ниже и внесите в него исправление так, чтобы он работал верно.\n",
    "```python\n",
    "    def cash(less_money):\n",
    "        money -= less_money\n",
    "        return money\n",
    "    money = 200000\n",
    "    print(cash(1000))\n",
    "```\n",
    "Не добавляйте аргументы в функцию cash, помимо less_money.\n",
    "Примеры вызова функции:\n",
    "```python\n",
    "    money = 200000\n",
    "    print(cash(1000))\n",
    "    ## 199000\n",
    "\n",
    "    money = 30240\n",
    "    print(cash(240))\n",
    "    ## 30000\n",
    "```\n",
    "Примечание: Обратите внимание, что для отправки кода на проверку переменную money объявлять не нужно.\n",
    "Не забудьте удалить строку кода с её объявлением, перед тем как отправить код на тестирование. Вызывать функцию cash() также не нужно."
   ],
   "metadata": {
    "collapsed": false
   },
   "id": "88cd751637d699e6"
  },
  {
   "cell_type": "markdown",
   "source": [
    "# Ex 3.3\n",
    "Вы написали программу, которая позволяет конвертировать рубли в выбранную валюту.\n",
    "При написании программы вы использовали global, но позже узнали, что не стоит так часто его использовать.\n",
    "Перепишите следующий код, не используя global.\n",
    "```python\n",
    "# Словарь с курсами валют (по отношению к рублю)\n",
    "currencies = {'USD': 74, 'EUR': 88, 'GBP': 98 , 'CHF': 82}\n",
    "# Общее количество денег на счету, которое нужно конвертировать\n",
    "money = 100000\n",
    "# Функция для конвертации валюты, аргумент - наименование валюты\n",
    "def convert(currency):\n",
    "    # Объявляем, что money - глобальная переменная\n",
    "    global money\n",
    "    # Производим конвертацию - делим количество денег на счету на соответствующий курс\n",
    "    money = money / currencies[currency]\n",
    "\n",
    "# Вызываем функцию для конвертации валюты\n",
    "print(convert('USD'))\n",
    "```\n",
    "Перепишите функцию convert() так, чтобы словарь с курсами валют и количество денег на счету\n",
    "были её первым и вторым аргументом, а валюта, в которую необходимо произвести конвертацию, — третьим.\n",
    "Примеры вызова функции:\n",
    "```python\n",
    "currencies = {'USD': 74, 'EUR': 88, 'GBP': 98 , 'CHF': 82}\n",
    "money = 100000\n",
    "```\n",
    "```python\n",
    "convert_money = convert(currencies, money, 'USD')  \n",
    "print(convert_money)  \n",
    "## 1351.3513513513512  \n",
    "```\n",
    "```python\n",
    "convert_money = convert(currencies, money, 'EUR')  \n",
    "print(convert_money)  \n",
    "\n",
    "## 1136.3636363636363\n",
    "```\n",
    "Примечание: Обратите внимание, что для отправки кода на проверку переменные currencies и money объявлять не нужно.\n",
    "Не забудьте удалить строку кода с их объявлением, перед тем как отправить код на тестирование. Вызывать функцию convert() также не нужно."
   ],
   "metadata": {
    "collapsed": false
   },
   "id": "4ba3695d5fbde2de"
  },
  {
   "cell_type": "markdown",
   "source": [
    "# Ex 3.5\n",
    "Мы реализуем функцию count_occurrences(), у которой есть два параметра s — строка и symbols — список из символов.\n",
    "Функция вычисляет, сколько раз символ symbol встречается в строке s.\n",
    "Перед подсчётом количества символов строка s проходит предобработку: из неё удаляются пробелы, а символы приводятся к нижнему регистру.\n",
    "```python\n",
    "# Функция для вычисления количества символов (symbol) в строке s\n",
    "def count_occurrences(s, symbol):\n",
    "    # Внутренняя функция для предобработки строки s\n",
    "    def preprocessing_s():\n",
    "        # Удаляем пробелы из строки\n",
    "        s = s.replace(' ', '')\n",
    "        # Приводим строку к нижнему регистру\n",
    "        s = s.lower()\n",
    "    # Вызываем функцию для предобработки аргумента s\n",
    "    preprocessing_s()\n",
    "    # Считаем количество символов symbol в строке s и возвращаем результат\n",
    "    return s.count(symbol)\n",
    "```\n",
    "Сейчас при попытке вызвать функцию: count_occurrences('This is simple string', symbol='t') вызывается исключение UnboundLocalError.\n",
    "Исправьте код таким образом, чтобы он отрабатывал без ошибки.\n",
    "Пример вызова функции:\n",
    "```python\n",
    "count_occurrences('This is simple string', symbol='t')\n",
    "## 2\n",
    "``` \n",
    "Примечание: Обратите внимание, что для отправки кода на проверку вызывать функцию count_occurrences() не нужно."
   ],
   "metadata": {
    "collapsed": false
   },
   "id": "e8e3b9acf93fef82"
  },
  {
   "cell_type": "markdown",
   "source": [
    "# Ex 3.7\n",
    "Нам необходимо проанализировать, какая из рекламных кампаний оказалась наиболее успешной.\n",
    "Данные хранятся в словаре advertising_campaigns, где ключ — это рекламный канал, а значение — список,\n",
    "в котором задано суммарное количество вновь нажавших на кнопку рекламного баннера в 2021 и 2022 годах.\n",
    "```python\n",
    "advertising_campaigns = {'ютуб': [212, 248], 'вк': [514, 342], 'радио': [339, 125]}\n",
    "```\n",
    "Для каждого рекламного канала нужно получить максимальное количество откликнувшихся за 2021 и 2022 годы.\n",
    "Для этого мы создали пустой словарь advertising_campaigns_max и написали цикл for, в котором:\n",
    "- проходимся по ключам исходного словаря;\n",
    "- вычисляем максимумы в списках, соответствующих этим ключам;\n",
    "- добавляем эти значения в новый словарь.\n",
    "\n",
    "```python\n",
    "# Создаём новый пустой словарь  \n",
    "advertising_campaigns_max = {}  \n",
    "# Создаём цикл по ключам исходного словаря  \n",
    "for key in advertising_campaigns:  \n",
    "    # Вычисляем максимум в списке, лежащем по ключу key  \n",
    "    max = max(advertising_campaigns[key])  \n",
    "    # Добавляем максимум в новый словарь  \n",
    "    advertising_campaigns_max[key] = max\n",
    "```\n",
    "Но что-то пошло не так, и код падает с ошибкой:\n",
    "```python\n",
    "TypeError: 'int' object is not callable\n",
    "```\n",
    "Выясните, в чём дело, и исправьте код. В результате выполнения кода у вас должен получиться словарь advertising_campaigns_max следующего вида:\n",
    "```python\n",
    "{'ютуб': 248, 'вк': 514, 'радио': 339}\n",
    "```\n",
    "Примечание: Обратите внимание, что для отправки кода на проверку переменную advertising_campaigns объявлять не нужно.\n",
    "Не забудьте удалить строку кода с её объявлением перед тем, как отправить код на тестирование."
   ],
   "metadata": {
    "collapsed": false
   },
   "id": "b5c8d4e3c1c5f7d7"
  }
 ],
 "metadata": {
  "kernelspec": {
   "display_name": "Python 3",
   "language": "python",
   "name": "python3"
  },
  "language_info": {
   "codemirror_mode": {
    "name": "ipython",
    "version": 2
   },
   "file_extension": ".py",
   "mimetype": "text/x-python",
   "name": "python",
   "nbconvert_exporter": "python",
   "pygments_lexer": "ipython2",
   "version": "2.7.6"
  }
 },
 "nbformat": 4,
 "nbformat_minor": 5
}
