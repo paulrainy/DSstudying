{
 "cells": [
  {
   "cell_type": "markdown",
   "source": [
    "# Ex 2.1\n",
    "Что будет выведено в результате выполнения следующего кода?"
   ],
   "metadata": {
    "collapsed": false
   },
   "id": "7943a2859ba6ddde"
  },
  {
   "cell_type": "code",
   "outputs": [
    {
     "ename": "NameError",
     "evalue": "name 'printer' is not defined",
     "output_type": "error",
     "traceback": [
      "\u001B[0;31m---------------------------------------------------------------------------\u001B[0m",
      "\u001B[0;31mNameError\u001B[0m                                 Traceback (most recent call last)",
      "Cell \u001B[0;32mIn[1], line 4\u001B[0m\n\u001B[1;32m      2\u001B[0m     \u001B[38;5;28;01mdef\u001B[39;00m \u001B[38;5;21mprinter\u001B[39m():\n\u001B[1;32m      3\u001B[0m         \u001B[38;5;28mprint\u001B[39m(msg)\n\u001B[0;32m----> 4\u001B[0m \u001B[43mprinter\u001B[49m(\u001B[38;5;124m'\u001B[39m\u001B[38;5;124mHello\u001B[39m\u001B[38;5;124m'\u001B[39m)\n",
      "\u001B[0;31mNameError\u001B[0m: name 'printer' is not defined"
     ]
    }
   ],
   "source": [
    "def print_msg(msg):\n",
    "    def printer():\n",
    "        print(msg)\n",
    "printer('Hello')"
   ],
   "metadata": {
    "collapsed": false,
    "ExecuteTime": {
     "end_time": "2024-04-10T11:52:09.692827Z",
     "start_time": "2024-04-10T11:52:09.461262Z"
    }
   },
   "id": "e35a6b2952a7da3a",
   "execution_count": 1
  },
  {
   "cell_type": "markdown",
   "source": [
    "# Ex 2.2\n",
    "Перед вами код функции min_of_cubes(), которая содержит функцию cube(). Ознакомьтесь с синтаксисом функции и ответьте на несколько вопросов."
   ],
   "metadata": {
    "collapsed": false
   },
   "id": "cd8f77290d6b989a"
  },
  {
   "cell_type": "code",
   "outputs": [
    {
     "name": "stdout",
     "output_type": "stream",
     "text": [
      "27\n"
     ]
    }
   ],
   "source": [
    "def min_of_cubes(x, y):\n",
    "    def cube(a):\n",
    "        result = a**3\n",
    "        return result\n",
    "\n",
    "    return min(cube(x), cube(y))\n",
    "\n",
    "print(min_of_cubes(3, 5))"
   ],
   "metadata": {
    "collapsed": false,
    "ExecuteTime": {
     "end_time": "2024-04-10T11:52:49.135964Z",
     "start_time": "2024-04-10T11:52:49.132280Z"
    }
   },
   "id": "572c8972dfbb04f4",
   "execution_count": 3
  },
  {
   "cell_type": "markdown",
   "source": [
    "# Ex 2.3\n",
    "На первом этапе напишите функцию get_count_unique_symbols(), которая:\n",
    "- принимает на вход строку s,\n",
    "- приводит её к нижнему регистру,\n",
    "- убирает из неё все пробелы,\n",
    "- возвращает количество уникальных символов в строке.\n",
    "\n",
    "Примеры вызова функции:\n",
    "```python\n",
    "get_count_unique_symbols('Это простая строка')\n",
    "## 9\n",
    "get_count_unique_symbols('This is a simple string')\n",
    "## 12\n",
    "```"
   ],
   "metadata": {
    "collapsed": false
   },
   "id": "fe90ea8c8f466729"
  },
  {
   "cell_type": "code",
   "outputs": [
    {
     "name": "stdout",
     "output_type": "stream",
     "text": [
      "12\n"
     ]
    }
   ],
   "source": [
    "def get_count_unique_symbols(s):\n",
    "    letter_list = []\n",
    "    s = s.lower()\n",
    "    s = s.replace(' ', '')\n",
    "    for letter in s:\n",
    "        if letter in letter_list:\n",
    "            continue\n",
    "        else:\n",
    "            letter_list.append(letter)\n",
    "    \n",
    "    return len(letter_list)\n",
    "\n",
    "print(get_count_unique_symbols('This is a simple string'))    "
   ],
   "metadata": {
    "collapsed": false,
    "ExecuteTime": {
     "end_time": "2024-04-12T07:35:02.610256Z",
     "start_time": "2024-04-12T07:35:02.605655Z"
    }
   },
   "id": "e12e929309dd42ec",
   "execution_count": 2
  },
  {
   "cell_type": "markdown",
   "source": [
    "# Ex 2.4\n",
    "На втором этапе напишите функцию get_min_string(), которая:\n",
    "- принимает на вход две строки s1 и s2,\n",
    "- возвращает ту, в которой количество уникальных символов меньше.\n",
    "\n",
    "Чтобы определить количество уникальных символов, воспользуйтесь функцией get_count_unique_symbols(), которую вы написали в предыдущем задании.\n",
    "Поместите ее определение и вызов внутрь функции get_min_string().\n",
    "У вас должна получиться такая конструкция:\n",
    "```python\n",
    "def get_min_string(s1, s2):\n",
    "    def get_count_unique_symbols(s):\n",
    "        # Код внутренней функции\n",
    "    # Применяем вложенную функцию к каждой из строк\n",
    "    s1_len = get_count_unique_symbols(s1)\n",
    "    s2_len = get_count_unique_symbols(s2)\n",
    "    # код внешней функции\n",
    "```\n",
    "Функция get_min_string() должна возвращать:\n",
    "- строку s1, если количество уникальных символов в ней меньше, чем в s2;\n",
    "- строку s2, если количество уникальных символов в ней меньше, чем в s1;\n",
    "- кортеж из строк s1 и s2 при равенстве количества уникальных символов.\n",
    "\n",
    "Примеры вызова функций:\n",
    "```python\n",
    "print(get_min_string(s1='Это простая строка', s2='This is a simple string'))\n",
    "## Это простая строка\n",
    "print(get_min_string(s1='Отличная фраза', s2='Great phrase'))\n",
    "## Great phrase\n",
    "print(get_min_string(s1='школа', s2='school'))\n",
    "## ('школа', 'school')\n",
    "```"
   ],
   "metadata": {
    "collapsed": false
   },
   "id": "158b833df494335f"
  },
  {
   "cell_type": "code",
   "outputs": [
    {
     "name": "stdout",
     "output_type": "stream",
     "text": [
      "('школа', 'school')\n"
     ]
    }
   ],
   "source": [
    "def get_min_string(s1, s2):\n",
    "    def get_count_unique_symbols_inner(s):\n",
    "        letter_list = []\n",
    "        s = s.lower()\n",
    "        s = s.replace(' ', '')\n",
    "        for letter in s:\n",
    "            if letter in letter_list:\n",
    "                continue\n",
    "            else:\n",
    "                letter_list.append(letter)\n",
    "\n",
    "        return len(letter_list)\n",
    "    \n",
    "    s1_len = get_count_unique_symbols_inner(s1)\n",
    "    s2_len = get_count_unique_symbols_inner(s2)\n",
    "    if s1_len < s2_len:\n",
    "        return s1\n",
    "    elif s1_len > s2_len: \n",
    "        return s2\n",
    "    else:\n",
    "        return (s1, s2)\n",
    "\n",
    "print(get_min_string(s1='школа', s2='school'))   "
   ],
   "metadata": {
    "collapsed": false,
    "ExecuteTime": {
     "end_time": "2024-04-12T07:45:15.594249Z",
     "start_time": "2024-04-12T07:45:15.582287Z"
    }
   },
   "id": "dae26e42a09760c9",
   "execution_count": 5
  },
  {
   "cell_type": "markdown",
   "source": [
    "# Ex 2.9\n",
    "Мы пишем приложение для рисования графических фигур. Пока мы можем рисовать только окружности \n",
    "и эллипсы.\n",
    "Чтобы закрашивать фигуры, которые мы рисуем, необходимо рассчитывать площадь этих фигур. \n",
    "Для расчета площади воспользуемся простейшими формулами.\n",
    "Площадь окружности вычисляется по формуле:\n",
    "S = πr², где r — радиус окружности.\n",
    "\n",
    "![](./resources/pic_1131.png)\n",
    "\n",
    "Площадь эллипса вычисляется по формуле:\n",
    "S = πab, где a и b — длины полуосей эллипса.\n",
    "При разработке приложения мы принимаем, что π = 3,1416.\n",
    "Обратите внимание! Это число является константой — его значение не меняется на всём протяжении выполнения программы.\n",
    "Напишите функции calculate_area_circle() и calculate_area_ellipse().\n",
    "Первая функция должна принимать один аргумент r — радиус окружности, вторая функция должна принимать два аргумента a и b — длины полуосей эллипса.\n",
    "Каждая из функций должна возвращать площадь соответствующей фигуры, округленную до третьего знака после запятой.\n",
    "Обе функции должны использовать внутри себя локальные переменные с одним и тем же именем area (площади фигур) и глобальную переменную pi, объявленную вне этих функций.\n",
    "Примеры вызова функций:\n",
    "```python\n",
    "pi = 3.1416\n",
    "print(calculate_area_circle(r=5))\n",
    "## 78.54\n",
    "print(calculate_area_ellipse(a=3, b=2.5))\n",
    "## 23.562\n",
    "\n",
    "pi = 3.14\n",
    "print(calculate_area_circle(r=5))\n",
    "## 78.5\n",
    "print(calculate_area_ellipse(a=3, b=2.5))\n",
    "## 23.55\n",
    "```\n",
    "Примечание: Обратите внимание, что для отправки кода на проверку переменную pi объявлять не нужно.\n",
    "Не забудьте удалить строку кода с её объявлением перед тем, как отправить код на тестирование."
   ],
   "metadata": {
    "collapsed": false
   },
   "id": "9104dd632b3ec901"
  },
  {
   "cell_type": "code",
   "outputs": [
    {
     "name": "stdout",
     "output_type": "stream",
     "text": [
      "78.53999999999999\n",
      "23.561999999999998\n"
     ]
    }
   ],
   "source": [
    "pi = 3.1416\n",
    "calculate_area_circle = lambda r: (r ** 2) * pi\n",
    "calculate_area_ellipse = lambda a, b: pi * a * b\n",
    "print(calculate_area_circle(5))\n",
    "print(calculate_area_ellipse(3, 2.5))"
   ],
   "metadata": {
    "collapsed": false,
    "ExecuteTime": {
     "end_time": "2024-04-12T13:15:24.469464Z",
     "start_time": "2024-04-12T13:15:24.464494Z"
    }
   },
   "id": "c66e5430a95f500b",
   "execution_count": 6
  },
  {
   "cell_type": "markdown",
   "source": [
    "# Ex 3.1\n",
    "Рассмотрите следующий фрагмент кода:"
   ],
   "metadata": {
    "collapsed": false
   },
   "id": "887c1540a08dd9e7"
  },
  {
   "cell_type": "code",
   "source": [
    "c = -2\n",
    "\n",
    "def outer1(a, b):\n",
    "    c = 2\n",
    "    d = a + b + c\n",
    "    return d\n",
    "\n",
    "def outer2(a, b):\n",
    "    global c\n",
    "    d = a + b + c\n",
    "    return d\n",
    "\n",
    "print(outer1(a=5, b=3))\n",
    "print(outer2(a=5, b=3))"
   ],
   "metadata": {
    "collapsed": false,
    "ExecuteTime": {
     "end_time": "2024-05-14T13:30:04.304869Z",
     "start_time": "2024-05-14T13:30:04.297456Z"
    }
   },
   "id": "7b42008acb3fb9d0",
   "outputs": [
    {
     "name": "stdout",
     "output_type": "stream",
     "text": [
      "10\n",
      "6\n"
     ]
    }
   ],
   "execution_count": 1
  },
  {
   "cell_type": "markdown",
   "source": [
    "# Ex 3.2\n",
    "Вам необходимо написать программу, которая будет вычислять сумму, оставшуюся на счёте у пользователя банковской карты.\n",
    "Посмотрите на код ниже и внесите в него исправление так, чтобы он работал верно.\n",
    "```python\n",
    "def cash(less_money):\n",
    "    money -= less_money\n",
    "    return money\n",
    "money = 200000\n",
    "print(cash(1000))\n",
    "```\n",
    "Не добавляйте аргументы в функцию cash, помимо less_money.\n",
    "Примеры вызова функции:\n",
    "```python\n",
    "money = 200000\n",
    "print(cash(1000))\n",
    "## 199000\n",
    "\n",
    "money = 30240\n",
    "print(cash(240))\n",
    "## 30000\n",
    "```\n",
    "Примечание: Обратите внимание, что для отправки кода на проверку переменную money объявлять не нужно.\n",
    "Не забудьте удалить строку кода с её объявлением, перед тем как отправить код на тестирование. Вызывать функцию cash() также не нужно."
   ],
   "metadata": {
    "collapsed": false
   },
   "id": "88cd751637d699e6"
  },
  {
   "metadata": {
    "ExecuteTime": {
     "end_time": "2024-05-14T13:32:41.531050Z",
     "start_time": "2024-05-14T13:32:41.526402Z"
    }
   },
   "cell_type": "code",
   "source": [
    "def cash(less_money):\n",
    "    global money\n",
    "    money -= less_money\n",
    "    return money\n",
    "\n",
    "money = 200000\n",
    "print(cash(1000))\n",
    "\n",
    "money = 30240\n",
    "print(cash(240))"
   ],
   "id": "2289e9d98154f94d",
   "outputs": [
    {
     "name": "stdout",
     "output_type": "stream",
     "text": [
      "199000\n",
      "30000\n"
     ]
    }
   ],
   "execution_count": 2
  },
  {
   "cell_type": "markdown",
   "source": [
    "# Ex 3.3\n",
    "Вы написали программу, которая позволяет конвертировать рубли в выбранную валюту.\n",
    "При написании программы вы использовали global, но позже узнали, что не стоит так часто его использовать.\n",
    "Перепишите следующий код, не используя global.\n",
    "```python\n",
    "# Словарь с курсами валют (по отношению к рублю)\n",
    "currencies = {'USD': 74, 'EUR': 88, 'GBP': 98 , 'CHF': 82}\n",
    "# Общее количество денег на счету, которое нужно конвертировать\n",
    "money = 100000\n",
    "# Функция для конвертации валюты, аргумент - наименование валюты\n",
    "def convert(currency):\n",
    "    # Объявляем, что money - глобальная переменная\n",
    "    global money\n",
    "    # Производим конвертацию - делим количество денег на счету на соответствующий курс\n",
    "    money = money / currencies[currency]\n",
    "\n",
    "# Вызываем функцию для конвертации валюты\n",
    "print(convert('USD'))\n",
    "```\n",
    "Перепишите функцию convert() так, чтобы словарь с курсами валют и количество денег на счету\n",
    "были её первым и вторым аргументом, а валюта, в которую необходимо произвести конвертацию, — третьим.\n",
    "Примеры вызова функции:\n",
    "```python\n",
    "currencies = {'USD': 74, 'EUR': 88, 'GBP': 98 , 'CHF': 82}\n",
    "money = 100000\n",
    "```\n",
    "```python\n",
    "convert_money = convert(currencies, money, 'USD')  \n",
    "print(convert_money)  \n",
    "## 1351.3513513513512  \n",
    "```\n",
    "```python\n",
    "convert_money = convert(currencies, money, 'EUR')  \n",
    "print(convert_money)  \n",
    "\n",
    "## 1136.3636363636363\n",
    "```\n",
    "Примечание: Обратите внимание, что для отправки кода на проверку переменные currencies и money объявлять не нужно.\n",
    "Не забудьте удалить строку кода с их объявлением, перед тем как отправить код на тестирование. Вызывать функцию convert() также не нужно."
   ],
   "metadata": {
    "collapsed": false
   },
   "id": "4ba3695d5fbde2de"
  },
  {
   "metadata": {
    "ExecuteTime": {
     "end_time": "2024-05-14T13:46:33.763688Z",
     "start_time": "2024-05-14T13:46:33.759968Z"
    }
   },
   "cell_type": "code",
   "source": [
    "currencies = {'USD': 74, 'EUR': 88, 'GBP': 98 , 'CHF': 82}\n",
    "\n",
    "money = 100000\n",
    "\n",
    "def convert(currencies, money, currency):\n",
    "    return money / currencies[currency]\n",
    "\n",
    "\n",
    "convert_money = convert(currencies, money, 'USD')  \n",
    "print(convert_money)\n",
    "\n",
    "convert_money = convert(currencies, money, 'EUR')  \n",
    "print(convert_money)"
   ],
   "id": "9e4c3d1d2b69e179",
   "outputs": [
    {
     "name": "stdout",
     "output_type": "stream",
     "text": [
      "1351.3513513513512\n",
      "1136.3636363636363\n"
     ]
    }
   ],
   "execution_count": 3
  },
  {
   "cell_type": "markdown",
   "source": [
    "# Ex 3.5\n",
    "Мы реализуем функцию count_occurrences(), у которой есть два параметра s — строка и symbols — список из символов.\n",
    "Функция вычисляет, сколько раз символ symbol встречается в строке s.\n",
    "Перед подсчётом количества символов строка s проходит предобработку: из неё удаляются пробелы, а символы приводятся к нижнему регистру.\n",
    "```python\n",
    "# Функция для вычисления количества символов (symbol) в строке s\n",
    "def count_occurrences(s, symbol):\n",
    "    # Внутренняя функция для предобработки строки s\n",
    "    def preprocessing_s():\n",
    "        # Удаляем пробелы из строки\n",
    "        s = s.replace(' ', '')\n",
    "        # Приводим строку к нижнему регистру\n",
    "        s = s.lower()\n",
    "    # Вызываем функцию для предобработки аргумента s\n",
    "    preprocessing_s()\n",
    "    # Считаем количество символов symbol в строке s и возвращаем результат\n",
    "    return s.count(symbol)\n",
    "```\n",
    "Сейчас при попытке вызвать функцию: count_occurrences('This is simple string', symbol='t') вызывается исключение UnboundLocalError.\n",
    "Исправьте код таким образом, чтобы он отрабатывал без ошибки.\n",
    "Пример вызова функции:\n",
    "```python\n",
    "count_occurrences('This is simple string', symbol='t')\n",
    "## 2\n",
    "``` \n",
    "Примечание: Обратите внимание, что для отправки кода на проверку вызывать функцию count_occurrences() не нужно."
   ],
   "metadata": {
    "collapsed": false
   },
   "id": "e8e3b9acf93fef82"
  },
  {
   "metadata": {
    "ExecuteTime": {
     "end_time": "2024-05-15T08:42:23.828815Z",
     "start_time": "2024-05-15T08:42:23.824021Z"
    }
   },
   "cell_type": "code",
   "source": [
    "def count_occurrences(s, symbol):\n",
    "    def preprocessing_s(p_string):\n",
    "        p_string = p_string.replace(' ', '')\n",
    "        return p_string.lower()\n",
    "    \n",
    "    s = preprocessing_s(s)\n",
    "    return s.count(symbol)\n",
    "\n",
    "count_occurrences('This is simple string', symbol='t')"
   ],
   "id": "27ded6cb7af658fa",
   "outputs": [
    {
     "data": {
      "text/plain": [
       "2"
      ]
     },
     "execution_count": 4,
     "metadata": {},
     "output_type": "execute_result"
    }
   ],
   "execution_count": 4
  },
  {
   "cell_type": "markdown",
   "source": [
    "# Ex 3.7\n",
    "Нам необходимо проанализировать, какая из рекламных кампаний оказалась наиболее успешной.\n",
    "Данные хранятся в словаре advertising_campaigns, где ключ — это рекламный канал, а значение — список,\n",
    "в котором задано суммарное количество вновь нажавших на кнопку рекламного баннера в 2021 и 2022 годах.\n",
    "```python\n",
    "advertising_campaigns = {'ютуб': [212, 248], 'вк': [514, 342], 'радио': [339, 125]}\n",
    "```\n",
    "Для каждого рекламного канала нужно получить максимальное количество откликнувшихся за 2021 и 2022 годы.\n",
    "Для этого мы создали пустой словарь advertising_campaigns_max и написали цикл for, в котором:\n",
    "- проходимся по ключам исходного словаря;\n",
    "- вычисляем максимумы в списках, соответствующих этим ключам;\n",
    "- добавляем эти значения в новый словарь.\n",
    "\n",
    "```python\n",
    "# Создаём новый пустой словарь  \n",
    "advertising_campaigns_max = {}  \n",
    "# Создаём цикл по ключам исходного словаря  \n",
    "for key in advertising_campaigns:  \n",
    "    # Вычисляем максимум в списке, лежащем по ключу key  \n",
    "    max = max(advertising_campaigns[key])  \n",
    "    # Добавляем максимум в новый словарь  \n",
    "    advertising_campaigns_max[key] = max\n",
    "```\n",
    "Но что-то пошло не так, и код падает с ошибкой:\n",
    "```python\n",
    "TypeError: 'int' object is not callable\n",
    "```\n",
    "Выясните, в чём дело, и исправьте код. В результате выполнения кода у вас должен получиться словарь advertising_campaigns_max следующего вида:\n",
    "```python\n",
    "{'ютуб': 248, 'вк': 514, 'радио': 339}\n",
    "```\n",
    "Примечание: Обратите внимание, что для отправки кода на проверку переменную advertising_campaigns объявлять не нужно.\n",
    "Не забудьте удалить строку кода с её объявлением перед тем, как отправить код на тестирование."
   ],
   "metadata": {
    "collapsed": false
   },
   "id": "b5c8d4e3c1c5f7d7"
  },
  {
   "metadata": {
    "ExecuteTime": {
     "end_time": "2024-05-29T12:40:28.376783Z",
     "start_time": "2024-05-29T12:40:28.372569Z"
    }
   },
   "cell_type": "code",
   "source": [
    "advertising_campaigns = {'ютуб': [212, 248], 'вк': [514, 342], 'радио': [339, 125]}\n",
    "advertising_campaigns_max = {}\n",
    "\n",
    "def get_max_value(dic, k):\n",
    "    max_value = 0\n",
    "    for val in dic[k]:\n",
    "        if val > max_value:\n",
    "            max_value = val\n",
    "    \n",
    "    return max_value\n",
    "            \n",
    "for key in advertising_campaigns:\n",
    "    advertising_campaigns_max[key] = get_max_value(advertising_campaigns, key)\n",
    "    \n",
    "print(advertising_campaigns_max)"
   ],
   "id": "71ef9ec5ae45c3c6",
   "outputs": [
    {
     "name": "stdout",
     "output_type": "stream",
     "text": [
      "{'ютуб': 248, 'вк': 514, 'радио': 339}\n"
     ]
    }
   ],
   "execution_count": 18
  },
  {
   "metadata": {},
   "cell_type": "markdown",
   "source": [
    "# Ex 4.3\n",
    "Напишите функцию is_leap(year), которая принимает на вход год и возвращает True, если год високосный, иначе — False.\n",
    "Как определить, является ли год високосным:\n",
    "годы, номера которых кратны 400 - високосные;\n",
    "остальные годы, кратные 100 - невисокосные (то есть 1700, 1800, 1900, 2100, 2200, 2300 годы — невисокосные);\n",
    "остальные годы, которых кратны 4 - високосные (например, 1964, 2004, 2008);\n",
    "оставшиеся годы - не високосные (например, 1789, 2013, 2014).\n",
    "\n",
    "Пример работы функции:\n",
    "```python\n",
    "print(is_leap(2000))\n",
    "# True\n",
    "print(is_leap(1900))\n",
    "# False\n",
    "print(is_leap(2020))\n",
    "# True\n",
    "print(is_leap(1700))\n",
    "# False\n",
    "```"
   ],
   "id": "279b1b70bcd6e374"
  },
  {
   "metadata": {
    "ExecuteTime": {
     "end_time": "2024-05-30T07:49:57.463988Z",
     "start_time": "2024-05-30T07:49:57.454927Z"
    }
   },
   "cell_type": "code",
   "source": [
    "def is_leap(year):\n",
    "    if year % 400 == 0:\n",
    "        return True\n",
    "    else:\n",
    "        if year % 100 == 0:\n",
    "            return False\n",
    "        elif year % 4 == 0:\n",
    "            return True\n",
    "        else:\n",
    "            return False\n",
    "        \n",
    "print(is_leap(2000))\n",
    "# True\n",
    "print(is_leap(1900))\n",
    "# False\n",
    "print(is_leap(2020))\n",
    "# True\n",
    "print(is_leap(1700))\n",
    "# False"
   ],
   "id": "3930a45f3ad1c636",
   "outputs": [
    {
     "name": "stdout",
     "output_type": "stream",
     "text": [
      "True\n",
      "False\n",
      "True\n",
      "False\n"
     ]
    }
   ],
   "execution_count": 1
  },
  {
   "metadata": {},
   "cell_type": "markdown",
   "source": [
    "# Ex 4.4\n",
    "Сделайте функцию is_leap() из предыдущего задания внутренней функцией функции check_date().\n",
    "Модифицируйте код функции check_date() так, чтобы она корректно обрабатывала високосные года.\n",
    "Пример работы функции:\n",
    "```python\n",
    "print(check_date(18, 9, 1999))\n",
    "# True\n",
    "print(check_date(29, 2, 2000))\n",
    "# True\n",
    "print(check_date(29, 2, 2021))\n",
    "# False\n",
    "print(check_date(13, 13, 2021))\n",
    "# False\n",
    "print(check_date(13.5, 12, 2021))\n",
    "# False\n",
    "```"
   ],
   "id": "9f449cb2c734471e"
  },
  {
   "metadata": {
    "ExecuteTime": {
     "end_time": "2024-05-30T08:57:04.057933Z",
     "start_time": "2024-05-30T08:57:04.052228Z"
    }
   },
   "cell_type": "code",
   "source": [
    "def check_date(day, month, year):\n",
    "    def is_leap_inner(y):\n",
    "        if y % 400 == 0:\n",
    "            return True\n",
    "        else:\n",
    "            if y % 100 == 0:\n",
    "                return False\n",
    "            elif y % 4 == 0:\n",
    "                return True\n",
    "            else:\n",
    "                return False\n",
    "    \n",
    "    output = is_leap_inner(year)\n",
    "    return output\n",
    "\n",
    "print(check_date(18, 9, 1999))\n",
    "# True\n",
    "print(check_date(29, 2, 2000))\n",
    "# True\n",
    "print(check_date(29, 2, 2021))\n",
    "# False\n",
    "print(check_date(13, 13, 2021))\n",
    "# False\n",
    "print(check_date(13.5, 12, 2021))\n",
    "# False"
   ],
   "id": "9c642b6473934484",
   "outputs": [
    {
     "name": "stdout",
     "output_type": "stream",
     "text": [
      "False\n",
      "True\n",
      "False\n",
      "False\n",
      "False\n"
     ]
    }
   ],
   "execution_count": 3
  },
  {
   "metadata": {},
   "cell_type": "markdown",
   "source": [
    "# Ex 4.5\n",
    "Нам остался финальный штрих — добавить проверку даты на корректность в функцию для регистрации!\n",
    "Модифицируйте функцию register() так, чтобы она выбрасывала исключение ValueError(\"Invalid Date!\"), если введённая пользователем дата является некорректной.\n",
    "Для этого вам пригодится функция check_date() из предыдущего задания — вы можете добавить её в функцию register() или сделать независимой, на ваш вкус.\n",
    "Главное — не забудьте добавить её объявление при отправке кода на проверку.\n",
    "Пример вызова функции:\n",
    "```python\n",
    "reg = register('Petrova', 'Maria', '13.03.2003', 'Ivanovna')\n",
    "reg = register('Ivanov', 'Sergej', '24.09.1995', registry=reg)\n",
    "reg = register('Smith', 'John', '13.02.2003', registry=reg)\n",
    "print(reg)\n",
    "## [('Petrova', 'Maria', 'Ivanovna', 13, 3, 2003), ('Ivanov', 'Sergej', None, 24, 9, 1995), ('Smith', 'John', None, 13, 2, 2003)]\n",
    "\n",
    "reg = register('Ivanov', 'Sergej', '24.13.1995')\n",
    "## ValueError: Invalid Date!\n",
    "```"
   ],
   "id": "894bc3cbe254c080"
  },
  {
   "metadata": {
    "ExecuteTime": {
     "end_time": "2024-05-30T12:07:46.565462Z",
     "start_time": "2024-05-30T12:07:46.529162Z"
    }
   },
   "cell_type": "code",
   "source": [
    "def register(surname, name, birthday, third_name = None, registry = None):\n",
    "    if registry is None:\n",
    "        registry = list()\n",
    "    \n",
    "    day, month, year = birthday.split('.')\n",
    "    \n",
    "    def check_date_inner(d, m, y):\n",
    "        def is_leap_inner(y_inner):\n",
    "            if y_inner % 400 == 0:\n",
    "                return True\n",
    "            else:\n",
    "                if y_inner % 100 == 0:\n",
    "                    return False\n",
    "                elif y_inner % 4 == 0:\n",
    "                    return True\n",
    "                else:\n",
    "                    return False\n",
    "    \n",
    "        if is_leap_inner(y):\n",
    "            if d > 31 or m > 12 or (m == 2 and d > 29):\n",
    "                raise ValueError(\"Invalid Date!\")\n",
    "            else:\n",
    "                pass\n",
    "        else:\n",
    "            if d > 31 or m > 12 or (m == 2 and d > 28):\n",
    "                raise ValueError(\"Invalid Date!\")\n",
    "            else:\n",
    "                pass\n",
    "            \n",
    "    check_date_inner(int(day), int(month), int(year))\n",
    "    registry.append((surname, name, third_name, day, month, year))\n",
    "    return registry\n",
    "\n",
    "reg = register('Petrova', 'Maria', '13.03.2003', 'Ivanovna')\n",
    "reg = register('Ivanov', 'Sergej', '24.09.1995', registry=reg)\n",
    "reg = register('Smith', 'John', '13.02.2003', registry=reg)\n",
    "print(reg)\n",
    "\n",
    "reg = register('Ivanov', 'Sergej', '24.13.1995')"
   ],
   "id": "cc8607e39b946ffc",
   "outputs": [
    {
     "name": "stdout",
     "output_type": "stream",
     "text": [
      "[('Petrova', 'Maria', 'Ivanovna', '13', '03', '2003'), ('Ivanov', 'Sergej', None, '24', '09', '1995'), ('Smith', 'John', None, '13', '02', '2003')]\n"
     ]
    },
    {
     "ename": "ValueError",
     "evalue": "Invalid Date!",
     "output_type": "error",
     "traceback": [
      "\u001B[0;31m---------------------------------------------------------------------------\u001B[0m",
      "\u001B[0;31mValueError\u001B[0m                                Traceback (most recent call last)",
      "Cell \u001B[0;32mIn[7], line 39\u001B[0m\n\u001B[1;32m     36\u001B[0m reg \u001B[38;5;241m=\u001B[39m register(\u001B[38;5;124m'\u001B[39m\u001B[38;5;124mSmith\u001B[39m\u001B[38;5;124m'\u001B[39m, \u001B[38;5;124m'\u001B[39m\u001B[38;5;124mJohn\u001B[39m\u001B[38;5;124m'\u001B[39m, \u001B[38;5;124m'\u001B[39m\u001B[38;5;124m13.02.2003\u001B[39m\u001B[38;5;124m'\u001B[39m, registry\u001B[38;5;241m=\u001B[39mreg)\n\u001B[1;32m     37\u001B[0m \u001B[38;5;28mprint\u001B[39m(reg)\n\u001B[0;32m---> 39\u001B[0m reg \u001B[38;5;241m=\u001B[39m \u001B[43mregister\u001B[49m\u001B[43m(\u001B[49m\u001B[38;5;124;43m'\u001B[39;49m\u001B[38;5;124;43mIvanov\u001B[39;49m\u001B[38;5;124;43m'\u001B[39;49m\u001B[43m,\u001B[49m\u001B[43m \u001B[49m\u001B[38;5;124;43m'\u001B[39;49m\u001B[38;5;124;43mSergej\u001B[39;49m\u001B[38;5;124;43m'\u001B[39;49m\u001B[43m,\u001B[49m\u001B[43m \u001B[49m\u001B[38;5;124;43m'\u001B[39;49m\u001B[38;5;124;43m24.13.1995\u001B[39;49m\u001B[38;5;124;43m'\u001B[39;49m\u001B[43m)\u001B[49m\n",
      "Cell \u001B[0;32mIn[7], line 30\u001B[0m, in \u001B[0;36mregister\u001B[0;34m(surname, name, birthday, third_name, registry)\u001B[0m\n\u001B[1;32m     27\u001B[0m         \u001B[38;5;28;01melse\u001B[39;00m:\n\u001B[1;32m     28\u001B[0m             \u001B[38;5;28;01mpass\u001B[39;00m\n\u001B[0;32m---> 30\u001B[0m \u001B[43mcheck_date_inner\u001B[49m\u001B[43m(\u001B[49m\u001B[38;5;28;43mint\u001B[39;49m\u001B[43m(\u001B[49m\u001B[43mday\u001B[49m\u001B[43m)\u001B[49m\u001B[43m,\u001B[49m\u001B[43m \u001B[49m\u001B[38;5;28;43mint\u001B[39;49m\u001B[43m(\u001B[49m\u001B[43mmonth\u001B[49m\u001B[43m)\u001B[49m\u001B[43m,\u001B[49m\u001B[43m \u001B[49m\u001B[38;5;28;43mint\u001B[39;49m\u001B[43m(\u001B[49m\u001B[43myear\u001B[49m\u001B[43m)\u001B[49m\u001B[43m)\u001B[49m\n\u001B[1;32m     31\u001B[0m registry\u001B[38;5;241m.\u001B[39mappend((surname, name, third_name, day, month, year))\n\u001B[1;32m     32\u001B[0m \u001B[38;5;28;01mreturn\u001B[39;00m registry\n",
      "Cell \u001B[0;32mIn[7], line 26\u001B[0m, in \u001B[0;36mregister.<locals>.check_date_inner\u001B[0;34m(d, m, y)\u001B[0m\n\u001B[1;32m     24\u001B[0m \u001B[38;5;28;01melse\u001B[39;00m:\n\u001B[1;32m     25\u001B[0m     \u001B[38;5;28;01mif\u001B[39;00m d \u001B[38;5;241m>\u001B[39m \u001B[38;5;241m31\u001B[39m \u001B[38;5;129;01mor\u001B[39;00m m \u001B[38;5;241m>\u001B[39m \u001B[38;5;241m12\u001B[39m \u001B[38;5;129;01mor\u001B[39;00m (m \u001B[38;5;241m==\u001B[39m \u001B[38;5;241m2\u001B[39m \u001B[38;5;129;01mand\u001B[39;00m d \u001B[38;5;241m>\u001B[39m \u001B[38;5;241m28\u001B[39m):\n\u001B[0;32m---> 26\u001B[0m         \u001B[38;5;28;01mraise\u001B[39;00m \u001B[38;5;167;01mValueError\u001B[39;00m(\u001B[38;5;124m\"\u001B[39m\u001B[38;5;124mInvalid Date!\u001B[39m\u001B[38;5;124m\"\u001B[39m)\n\u001B[1;32m     27\u001B[0m     \u001B[38;5;28;01melse\u001B[39;00m:\n\u001B[1;32m     28\u001B[0m         \u001B[38;5;28;01mpass\u001B[39;00m\n",
      "\u001B[0;31mValueError\u001B[0m: Invalid Date!"
     ]
    }
   ],
   "execution_count": 7
  },
  {
   "metadata": {},
   "cell_type": "markdown",
   "source": [
    "# Ex 4.6\n",
    "Вы возможно удивитесь, но три точки на плоскости не всегда образуют треугольник.\n",
    "Например, при координатах точек p1, p2, p2 = (2.5, 2), (4, 1), (1, 3) треугольник составить не получится, потому что все эти точки будут лежать на одной прямой:\n",
    "\n",
    "\n",
    "<img src=\"resources/pic_1143.png\">\n",
    "\n",
    "Из математики известно, что треугольник существует только тогда, когда сумма любых двух его сторон больше третьей.\n",
    "То есть треугольник будет существовать, если одновременно будут выполняться следующие условия:\n",
    "a + b > c;\n",
    "a + c > b;\n",
    "b + c > a.\n",
    "В противном случае составить треугольник не получится.\n",
    "Реализуйте функцию check_exist_triangle(a, b, c), которая возвращает True, если треугольник с длинами сторон a, b и c существует, и False — в обратном случае.\n",
    "Примеры вызова функции:\n",
    "```python\n",
    "print(check_exist_triangle(a=3, b=4, c=5))\n",
    "## True\n",
    "print(check_exist_triangle(a=1.8, b=1.8, c=3.6))\n",
    "## False\n",
    "```"
   ],
   "id": "b514732a982691f6"
  },
  {
   "metadata": {
    "ExecuteTime": {
     "end_time": "2024-05-30T13:20:02.983918Z",
     "start_time": "2024-05-30T13:20:02.980392Z"
    }
   },
   "cell_type": "code",
   "source": [
    "def check_exist_triangle(a, b, c):\n",
    "    if a + b > c and a + c > b and b + c > a:\n",
    "        return True\n",
    "    else:\n",
    "        return False\n",
    "    \n",
    "print(check_exist_triangle(a=3, b=4, c=5))\n",
    "## True\n",
    "print(check_exist_triangle(a=1.8, b=1.8, c=3.6))\n",
    "## False"
   ],
   "id": "e8f500540a634de5",
   "outputs": [
    {
     "name": "stdout",
     "output_type": "stream",
     "text": [
      "True\n",
      "False\n"
     ]
    }
   ],
   "execution_count": 8
  },
  {
   "metadata": {},
   "cell_type": "markdown",
   "source": [
    "# Ex 4.7\n",
    "Остался финальный штрих.\n",
    "Модифицируйте функцию triangle() так, чтобы эта функция выбрасывала исключение ValueError(\"Треугольник не существует\"), если треугольник не существует.\n",
    "Для проверки существования треугольника воспользуйтесь функцией check_exist_triangle() из предыдущего задания. Добавьте её объявление и вызов внутрь функции triangle().\n",
    "Пример вызовов функции:\n",
    "```python\n",
    "print(triangle(p1=(2, 2), p2=(4, 1.25), p3=(1, 4.5)))\n",
    "## {'a': 2.1360009363293826, 'b': 2.692582403567252, 'c': 4.422951503238533, 'perimeter': 9.251534843135168, 'area': 2.1250000000000027}\n",
    "print(triangle(p1=(1, 1), p2=(1, 4), p3=(5, 1)))\n",
    "## {'a': 3.0, 'b': 4.0, 'c': 5.0, 'perimeter': 12.0, 'area': 6.0}\n",
    "print(triangle(p1=(2.5, 2), p2=(4, 1), p3=(1, 3)))\n",
    "## ValueError: Треугольник не существует\n",
    "```"
   ],
   "id": "9b9f09e673aa8194"
  },
  {
   "metadata": {
    "ExecuteTime": {
     "end_time": "2024-05-30T13:36:10.617926Z",
     "start_time": "2024-05-30T13:36:10.544155Z"
    }
   },
   "cell_type": "code",
   "source": [
    "def triangle(p1, p2, p3):\n",
    "    output = dict()\n",
    "    \n",
    "    a_side = (((p2[0] - p1[0])**2)+((p2[1] - p1[1])**2))**0.5\n",
    "    b_side = (((p3[0] - p2[0])**2)+((p3[1] - p2[1])**2))**0.5\n",
    "    c_side = (((p1[0] - p3[0])**2)+((p1[1] - p3[1])**2))**0.5\n",
    "    \n",
    "    def check_exist_triangle_inner(a, b, c):\n",
    "        if a + b > c and a + c > b and b + c > a:\n",
    "            return True\n",
    "        else:\n",
    "            return False\n",
    "    \n",
    "    if check_exist_triangle_inner(a_side, b_side, c_side):\n",
    "        pass\n",
    "    else:\n",
    "        raise ValueError(\"Invalid Triangle!\")\n",
    "    \n",
    "    p = a_side + b_side + c_side\n",
    "    s = (p/2 * (p/2 - a_side) * (p/2 - b_side) * (p/2 - c_side))**0.5\n",
    "    \n",
    "    output['a'] = a_side\n",
    "    output['b'] = b_side\n",
    "    output['c'] = c_side\n",
    "    output['perimeter'] = p\n",
    "    output['area'] = s\n",
    "    \n",
    "    return output\n",
    "\n",
    "print(triangle(p1=(2, 2), p2=(4, 1.25), p3=(1, 4.5)))\n",
    "## {'a': 2.1360009363293826, 'b': 2.692582403567252, 'c': 4.422951503238533, 'perimeter': 9.251534843135168, 'area': 2.1250000000000027}\n",
    "print(triangle(p1=(1, 1), p2=(1, 4), p3=(5, 1)))\n",
    "## {'a': 3.0, 'b': 4.0, 'c': 5.0, 'perimeter': 12.0, 'area': 6.0}\n",
    "print(triangle(p1=(2.5, 2), p2=(4, 1), p3=(1, 3)))\n",
    "## ValueError: Треугольник не существует"
   ],
   "id": "d3aed0010c4a2396",
   "outputs": [
    {
     "name": "stdout",
     "output_type": "stream",
     "text": [
      "{'a': 2.1360009363293826, 'b': 4.422951503238533, 'c': 2.692582403567252, 'perimeter': 9.251534843135168, 'area': 2.125000000000002}\n",
      "{'a': 3.0, 'b': 5.0, 'c': 4.0, 'perimeter': 12.0, 'area': 6.0}\n"
     ]
    },
    {
     "ename": "ValueError",
     "evalue": "Invalid Triangle!",
     "output_type": "error",
     "traceback": [
      "\u001B[0;31m---------------------------------------------------------------------------\u001B[0m",
      "\u001B[0;31mValueError\u001B[0m                                Traceback (most recent call last)",
      "Cell \u001B[0;32mIn[9], line 34\u001B[0m\n\u001B[1;32m     32\u001B[0m \u001B[38;5;28mprint\u001B[39m(triangle(p1\u001B[38;5;241m=\u001B[39m(\u001B[38;5;241m1\u001B[39m, \u001B[38;5;241m1\u001B[39m), p2\u001B[38;5;241m=\u001B[39m(\u001B[38;5;241m1\u001B[39m, \u001B[38;5;241m4\u001B[39m), p3\u001B[38;5;241m=\u001B[39m(\u001B[38;5;241m5\u001B[39m, \u001B[38;5;241m1\u001B[39m)))\n\u001B[1;32m     33\u001B[0m \u001B[38;5;66;03m## {'a': 3.0, 'b': 4.0, 'c': 5.0, 'perimeter': 12.0, 'area': 6.0}\u001B[39;00m\n\u001B[0;32m---> 34\u001B[0m \u001B[38;5;28mprint\u001B[39m(\u001B[43mtriangle\u001B[49m\u001B[43m(\u001B[49m\u001B[43mp1\u001B[49m\u001B[38;5;241;43m=\u001B[39;49m\u001B[43m(\u001B[49m\u001B[38;5;241;43m2.5\u001B[39;49m\u001B[43m,\u001B[49m\u001B[43m \u001B[49m\u001B[38;5;241;43m2\u001B[39;49m\u001B[43m)\u001B[49m\u001B[43m,\u001B[49m\u001B[43m \u001B[49m\u001B[43mp2\u001B[49m\u001B[38;5;241;43m=\u001B[39;49m\u001B[43m(\u001B[49m\u001B[38;5;241;43m4\u001B[39;49m\u001B[43m,\u001B[49m\u001B[43m \u001B[49m\u001B[38;5;241;43m1\u001B[39;49m\u001B[43m)\u001B[49m\u001B[43m,\u001B[49m\u001B[43m \u001B[49m\u001B[43mp3\u001B[49m\u001B[38;5;241;43m=\u001B[39;49m\u001B[43m(\u001B[49m\u001B[38;5;241;43m1\u001B[39;49m\u001B[43m,\u001B[49m\u001B[43m \u001B[49m\u001B[38;5;241;43m3\u001B[39;49m\u001B[43m)\u001B[49m\u001B[43m)\u001B[49m)\n\u001B[1;32m     35\u001B[0m \u001B[38;5;66;03m## ValueError: Треугольник не существует\u001B[39;00m\n",
      "Cell \u001B[0;32mIn[9], line 17\u001B[0m, in \u001B[0;36mtriangle\u001B[0;34m(p1, p2, p3)\u001B[0m\n\u001B[1;32m     15\u001B[0m     \u001B[38;5;28;01mpass\u001B[39;00m\n\u001B[1;32m     16\u001B[0m \u001B[38;5;28;01melse\u001B[39;00m:\n\u001B[0;32m---> 17\u001B[0m     \u001B[38;5;28;01mraise\u001B[39;00m \u001B[38;5;167;01mValueError\u001B[39;00m(\u001B[38;5;124m\"\u001B[39m\u001B[38;5;124mInvalid Triangle!\u001B[39m\u001B[38;5;124m\"\u001B[39m)\n\u001B[1;32m     19\u001B[0m p \u001B[38;5;241m=\u001B[39m a_side \u001B[38;5;241m+\u001B[39m b_side \u001B[38;5;241m+\u001B[39m c_side\n\u001B[1;32m     20\u001B[0m s \u001B[38;5;241m=\u001B[39m (p\u001B[38;5;241m/\u001B[39m\u001B[38;5;241m2\u001B[39m \u001B[38;5;241m*\u001B[39m (p\u001B[38;5;241m/\u001B[39m\u001B[38;5;241m2\u001B[39m \u001B[38;5;241m-\u001B[39m a_side) \u001B[38;5;241m*\u001B[39m (p\u001B[38;5;241m/\u001B[39m\u001B[38;5;241m2\u001B[39m \u001B[38;5;241m-\u001B[39m b_side) \u001B[38;5;241m*\u001B[39m (p\u001B[38;5;241m/\u001B[39m\u001B[38;5;241m2\u001B[39m \u001B[38;5;241m-\u001B[39m c_side))\u001B[38;5;241m*\u001B[39m\u001B[38;5;241m*\u001B[39m\u001B[38;5;241m0.5\u001B[39m\n",
      "\u001B[0;31mValueError\u001B[0m: Invalid Triangle!"
     ]
    }
   ],
   "execution_count": 9
  },
  {
   "metadata": {},
   "cell_type": "markdown",
   "source": [
    "# Ex 4.8\n",
    "Создавая окружность в нашем графическом приложении, пользователь сначала ставит точку P₁ — центр окружности.\n",
    "Затем тянет мышкой эту точку, и там, где растяжение остановится, будет создана точка P₂.\n",
    "Каждая точка имеет координаты x и y, которые задаются в виде кортежей: P₁=(x₁, y₁), P₂=(x₂, y₂).\n",
    "\n",
    "<img src=\"resources/pic_1146.png\">\n",
    "\n",
    "Например:\n",
    "p1, p2 = (3, 2.5), (4, 4.5) \n",
    "Чтобы вычислить все параметры окружности, нам необходимо знать её радиус.\n",
    "Напишите функцию radius(), которая принимает на вход две точки (их координаты заданы кортежами) и возвращает радиус окружности.\n",
    "Для вычисления радиуса воспользуйтесь теоремой Пифагора:\n",
    "\n",
    "<img src=\"resources/pic_1146-2.png\">\n",
    "\n",
    "Пример вызова функции:\n",
    "```python\n",
    "print(radius(p1=(3, 2.5), p2=(4, 4.5)))\n",
    "## 2.23606797749979\n",
    "\n",
    "print(radius(p1=(0, 0), p2=(1, 1)))\n",
    "## 1.4142135623730951\n",
    "```"
   ],
   "id": "5b172172a39de8cf"
  },
  {
   "metadata": {},
   "cell_type": "code",
   "outputs": [],
   "execution_count": null,
   "source": "",
   "id": "67757ee2c5a11fa4"
  },
  {
   "metadata": {},
   "cell_type": "markdown",
   "source": [
    "# Ex 4.9\n",
    "Теперь, когда у нас есть функция для расчёта радиуса по двум точкам, нам не составит труда вычислить площадь и периметр окружности. Для удобства все вычисления можно обернуть в одну объемлющую функцию.\n",
    "Напишите функцию circle(), которая принимает на вход две точки, чьи координаты записаны в виде кортежей.\n",
    "Внутри себя функция содержит три вложенные функции:\n",
    " - radius() — функция для вычисления радиуса, которую мы писали в прошлом задании.\n",
    " - calculate_circumference() — функция для вычисления длины окружности (по сути периметра) по формуле: L=2πr. Радиус окружности сделайте параметром функции.\n",
    " - calculate_area_circle() — функция для вычисления площади окружности по формуле: S=πr². Радиус окружности сделайте параметром функции. Значение числа π задаётся глобальной переменной pi в основном блоке программы.\n",
    "\n",
    "Функция circle() должна возвращать словарь с ключами 'radius', 'circumference' и 'area'.\n",
    "Значениями должны быть рассчитанные радиус, длина окружности и её площадь соответственно, округленные до третьего знака после запятой.\n",
    "Радиус нужно округлять, когда все остальные значения посчитаны.\n",
    "Примеры вызова функции:\n",
    "```python\n",
    "pi = 3.1416\n",
    "print(circle(p1=(3, 2.5), p2=(4, 4.5)))\n",
    "## {'radius': 2.236, 'circumference': 14.05, 'area': 15.708}\n",
    "\n",
    "pi = 3.1416\n",
    "print(circle(p1=(0, 0), p2=(1, 1)))\n",
    "## {'radius': 1.414, 'circumference': 8.886, 'area': 6.283}\n",
    "\n",
    "pi = 3.14\n",
    "print(circle(p1=(3, 2.5), p2=(4, 4.5)))\n",
    "## {'radius': 2.236, 'circumference': 14.043, 'area': 15.7}\n",
    "```\n",
    "Примечание: Обратите внимание, что для отправки кода на проверку, переменную pi объявлять не нужно.\n",
    "Не забудьте удалить строку кода с её объявлением перед тем, как отправить код на тестирование."
   ],
   "id": "2ca702d8e31156c7"
  },
  {
   "metadata": {},
   "cell_type": "markdown",
   "source": [
    "# Ex 4.10\n",
    "Для рисования эллипса в нашем приложении пользователю нужно отметить мышкой на экране 3 точки:\n",
    " - P₁ — точка центра эллипса;\n",
    " - P₂ и P₃ — большая и малая полуоси эллипса.\n",
    "Каждая точка имеет координаты x и y, которые задаются в виде кортежей: P₁=(x₁, y₁), P₂=(x₂, y₂) и P₃=(x₃, y₃).\n",
    "\n",
    "<img src=\"resources/pic_1144.png\">\n",
    "\n",
    "Для вычисления площади эллипса и длины его окружности важно знать длины его полуосей (на рисунке они обозначены как a и b).\n",
    "Учитывая все сказанное, напишите функцию semi_axes(), которая принимает на вход три параметра — точки p1, p2 и p3, представленные в виде кортежей.\n",
    "Гарантируется, что точка p1 всегда соответствует центру эллипса. Точки представлены в виде кортежей.\n",
    "Например:\n",
    "```\n",
    "p1, p2, p3 = (3, 2.5), (4.5, 2.5), (3, 3.5)\n",
    "```\n",
    "Функция должна вычислять длины полуосей a и b и возвращать их. Длины полуосей можно вычислить по теореме Пифагора:\n",
    "\n",
    "<img src=\"resources/pic_1144_1.png\">\n",
    "\n",
    "Примеры вызова функции:\n",
    "```python\n",
    "print(semi_axes(p1=(3, 2.5), p2=(4.5, 2.5), p3=(3, 3.5)))\n",
    "## (1.5, 1.0)\n",
    "\n",
    "print(semi_axes(p1=(0, 0), p2=(0, 1), p3=(1, 0)))\n",
    "## (1.0, 1.0)\n",
    "```"
   ],
   "id": "539e993846a0ecfc"
  },
  {
   "metadata": {},
   "cell_type": "markdown",
   "source": [
    "# Ex 4.11\n",
    "Теперь, когда мы умеем вычислять параметры эллипса по точкам, мы можем вычислить его площадь и длину его окружности.\n",
    "Напишите функцию ellipse(), которая принимает на вход три параметра: p1, p2 и p3 — точки для построения эллипса, представленные в виде кортежей.\n",
    "Функция содержит три вложенные функции:\n",
    " - semi_axes() — функция для вычисления полуосей эллипса, которую мы реализовали в предыдущем задании.\n",
    " - calculate_area_ellipse() — функция для вычисления площади эллипса по формуле: S = πab\n",
    " - Длины полуосей a и b сделайте параметрами функции.\n",
    " - calculate_length_ellipse() — функция для вычисления длины окружности эллипса по формуле:\n",
    "\n",
    "<img src=\"resources/pic_1148.png\">\n",
    "\n",
    "Длины полуосей a и b сделайте параметрами функции.\n",
    "Значение числа π задаётся глобальной переменной pi.\n",
    "Функция ellipse() должна возвращать словарь с ключами 'a', 'b', 'length' и 'area'.\n",
    "Значениями должны быть рассчитанные длины полуосей, длина (периметр) и его площадь, соответственно, округленные до третьего знака после запятой.\n",
    "Примеры вызова функции:\n",
    "```python\n",
    "pi = 3.1416\n",
    "print(ellipse(p1=(3, 2.5), p2=(4.5, 2.5), p3=(3, 3.5)))\n",
    "\n",
    "## {'a': 1.5, 'b': 1.0, 'length': 8.01, 'area': 4.712}\n",
    "\n",
    "pi = 3.1416\n",
    "print(ellipse(p1=(0, 0), p2=(0, 1), p3=(1, 0)))\n",
    "\n",
    "## {'a': 1.0, 'b': 1.0, 'length': 6.283, 'area': 3.142}\n",
    "\n",
    "pi = 3.14\n",
    "print(ellipse(p1=(0, 0), p2=(0, 1), p3=(1, 0)))\n",
    "## {'a': 1.0, 'b': 1.0, 'length': 6.28, 'area': 3.14}\n",
    "```\n",
    "Примечание: Обратите внимание, что для отправки кода на проверку переменную pi объявлять не нужно.\n",
    "Не забудьте удалить строку кода с её объявлением перед тем, как отправить код на тестирование."
   ],
   "id": "7326da530aebb7a4"
  },
  {
   "metadata": {},
   "cell_type": "code",
   "outputs": [],
   "execution_count": null,
   "source": "",
   "id": "dfd94833329571dc"
  }
 ],
 "metadata": {
  "kernelspec": {
   "display_name": "Python 3",
   "language": "python",
   "name": "python3"
  },
  "language_info": {
   "codemirror_mode": {
    "name": "ipython",
    "version": 2
   },
   "file_extension": ".py",
   "mimetype": "text/x-python",
   "name": "python",
   "nbconvert_exporter": "python",
   "pygments_lexer": "ipython2",
   "version": "2.7.6"
  }
 },
 "nbformat": 4,
 "nbformat_minor": 5
}
