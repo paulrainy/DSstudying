{
 "cells": [
  {
   "cell_type": "markdown",
   "source": [
    "# Ex 5.1"
   ],
   "metadata": {
    "collapsed": false
   },
   "id": "2a48aa037d576f88"
  },
  {
   "cell_type": "markdown",
   "source": [
    "# Ex 5.2"
   ],
   "metadata": {
    "collapsed": false
   },
   "id": "86d3112df4a205a3"
  },
  {
   "cell_type": "markdown",
   "source": [
    "# Ex 5.3"
   ],
   "metadata": {
    "collapsed": false
   },
   "id": "d8f0df04e01c39dc"
  },
  {
   "cell_type": "markdown",
   "source": [
    "# Ex 5.4"
   ],
   "metadata": {
    "collapsed": false
   },
   "id": "a13f523c40dee9c6"
  },
  {
   "cell_type": "markdown",
   "source": [
    "# Ex 5.5"
   ],
   "metadata": {
    "collapsed": false
   },
   "id": "8eb79fbf6bb7ec52"
  },
  {
   "cell_type": "markdown",
   "source": [
    "# Ex 5.6"
   ],
   "metadata": {
    "collapsed": false
   },
   "id": "dd8e82be234112ce"
  },
  {
   "cell_type": "markdown",
   "source": [
    "# Ex 5.7"
   ],
   "metadata": {
    "collapsed": false
   },
   "id": "f43267710ae991f3"
  },
  {
   "cell_type": "markdown",
   "source": [
    "# Ex 5.8"
   ],
   "metadata": {
    "collapsed": false
   },
   "id": "92bd2a66f42b971a"
  },
  {
   "cell_type": "markdown",
   "source": [
    "# Ex 5.9"
   ],
   "metadata": {
    "collapsed": false
   },
   "id": "39a0491fed052164"
  },
  {
   "cell_type": "markdown",
   "source": [
    "# Ex 5.10"
   ],
   "metadata": {
    "collapsed": false
   },
   "id": "fe26f87bb774e2c3"
  },
  {
   "cell_type": "markdown",
   "source": [
    "# Ex 5.11"
   ],
   "metadata": {
    "collapsed": false
   },
   "id": "95f0831be5c89f27"
  },
  {
   "cell_type": "markdown",
   "source": [
    "# Ex 5.12"
   ],
   "metadata": {
    "collapsed": false
   },
   "id": "d40c29b7a452ee0b"
  },
  {
   "cell_type": "markdown",
   "source": [
    "# Ex 5.13"
   ],
   "metadata": {
    "collapsed": false
   },
   "id": "52be8803507e3c37"
  }
 ],
 "metadata": {
  "kernelspec": {
   "display_name": "Python 3",
   "language": "python",
   "name": "python3"
  },
  "language_info": {
   "codemirror_mode": {
    "name": "ipython",
    "version": 2
   },
   "file_extension": ".py",
   "mimetype": "text/x-python",
   "name": "python",
   "nbconvert_exporter": "python",
   "pygments_lexer": "ipython2",
   "version": "2.7.6"
  }
 },
 "nbformat": 4,
 "nbformat_minor": 5
}
