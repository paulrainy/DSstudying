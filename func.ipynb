{
 "cells": [
  {
   "cell_type": "markdown",
   "source": [
    "# Ex 2.3\n",
    "Напишите функцию get_total(units, price), которая принимает на вход число единиц товара и стоимость каждой единицы.\n",
    "Функция возвращает одно число — общую стоимость данного числа товаров.\n",
    "Пример: print(get_total(15, 50))"
   ],
   "metadata": {
    "collapsed": false
   },
   "id": "361b5e935be27093"
  },
  {
   "cell_type": "code",
   "outputs": [
    {
     "data": {
      "text/plain": "500"
     },
     "execution_count": 1,
     "metadata": {},
     "output_type": "execute_result"
    }
   ],
   "source": [
    "def get_total(units, price):\n",
    "    return units*price\n",
    "\n",
    "get_total(10,50)"
   ],
   "metadata": {
    "collapsed": false,
    "ExecuteTime": {
     "end_time": "2024-04-01T11:08:59.777071Z",
     "start_time": "2024-04-01T11:08:59.765946Z"
    }
   },
   "id": "da91e2fa0aa9555a",
   "execution_count": 1
  },
  {
   "cell_type": "markdown",
   "source": [
    "# Ex 3.1\n",
    "Попробуйте добавить в функцию get_time проверку скорости на равенство нулю.\n",
    "Если скорость равна нулю, верните ValueError с сообщением \"Speed cannot be equal to 0!\".\n",
    "```python\n",
    "def get_time(distance, speed):\n",
    "    if distance < 0 or speed < 0:\n",
    "        raise ValueError(\"Distance or speed cannot be below 0!\")\n",
    "    result = distance / speed\n",
    "    return result\n",
    "```\n",
    "Пример:\n",
    "```python\n",
    "get_time(100, 0)\n",
    "# ValueError: Speed cannot be equal to 0!\n",
    "```"
   ],
   "metadata": {
    "collapsed": false
   },
   "id": "6ef450a05eec088f"
  },
  {
   "cell_type": "code",
   "outputs": [
    {
     "name": "stdout",
     "output_type": "stream",
     "text": [
      "10.0\n"
     ]
    }
   ],
   "source": [
    "def get_time(distance, speed):\n",
    "    if distance < 0 or speed < 0:\n",
    "        raise ValueError(\"Distance or speed cannot be below 0!\")\n",
    "    elif speed == 0:\n",
    "        raise ZeroDivisionError(\"Speed cannot be 0!\")\n",
    "    else:\n",
    "        result = distance / speed\n",
    "        return result\n",
    "\n",
    "print(get_time(10, 1))"
   ],
   "metadata": {
    "collapsed": false,
    "ExecuteTime": {
     "end_time": "2024-04-01T11:15:33.029229Z",
     "start_time": "2024-04-01T11:15:33.024775Z"
    }
   },
   "id": "998d79520e539459",
   "execution_count": 3
  },
  {
   "cell_type": "markdown",
   "source": [
    "# Ex 3.2\n",
    "```python\n",
    "# В функцию должны передаваться 2 значения:\n",
    "# число и степень корня\n",
    "def root(value, n):\n",
    "    # Как мы уже выяснили, чтобы посчитать\n",
    "    # корень степени n из числа, можно возвести это число\n",
    "    # в степень 1/n\n",
    "    result = value ** (1/n)\n",
    "    return result\n",
    "\n",
    "# Посчитаем корень 3-ей степени (кубический корень) из 27\n",
    "print(root(27, 3))\n",
    "# Будет напечатано:\n",
    "# 3.0\n",
    "```\n",
    "Модифицируйте функцию root так, чтобы передавать степень корня было необязательно.\n",
    "Если степень корня не передана, функция должна возвращать значение квадратного корня.\n",
    "Проверьте своё решение, вызвав функцию root:\n",
    "```python\n",
    "print(root(81))\n",
    "# Должно быть напечатано:\n",
    "# 9.0\n",
    "```"
   ],
   "metadata": {
    "collapsed": false
   },
   "id": "756edff6dbd8406f"
  },
  {
   "cell_type": "code",
   "outputs": [
    {
     "name": "stdout",
     "output_type": "stream",
     "text": [
      "4.3267487109222245\n"
     ]
    }
   ],
   "source": [
    "def root(value, n = 2):\n",
    "    result = value ** (1/n)\n",
    "    return result\n",
    "\n",
    "print(root(81, 3))"
   ],
   "metadata": {
    "collapsed": false,
    "ExecuteTime": {
     "end_time": "2024-04-01T11:16:48.849176Z",
     "start_time": "2024-04-01T11:16:48.844352Z"
    }
   },
   "id": "6f267d24cc372c4e",
   "execution_count": 5
  },
  {
   "cell_type": "markdown",
   "source": [
    "# Ex 3.5\n",
    "Дана функция add_mark:\n",
    "```python\n",
    "def add_mark(name, mark, journal=None):\n",
    "   # Добавьте здесь проверку аргумента mark\n",
    "   if journal is None:\n",
    "       journal = {}\n",
    "   journal[name] = mark\n",
    "   return journal\n",
    "```\n",
    "Дополните её код таким образом, чтобы возникала ошибка ValueError с текстом \"Invalid Mark!\" при попытке поставить оценку не из списка: 2, 3, 4 или 5.\n",
    "```python\n",
    "add_mark('Ivanov', 6)\n",
    "# ValueError: Invalid Mark!\n",
    "```"
   ],
   "metadata": {
    "collapsed": false
   },
   "id": "2ef76172152e7dee"
  },
  {
   "cell_type": "code",
   "outputs": [
    {
     "data": {
      "text/plain": "{'John': 5}"
     },
     "execution_count": 9,
     "metadata": {},
     "output_type": "execute_result"
    }
   ],
   "source": [
    "def add_mark(name, mark, journal=None):\n",
    "    if mark not in range(2, 6):\n",
    "        raise ValueError(\"Invalid Mark!\")\n",
    "\n",
    "    if journal is None:\n",
    "        journal = {}\n",
    "    \n",
    "    journal[name] = mark\n",
    "    return journal\n",
    "\n",
    "add_mark('John', 5)"
   ],
   "metadata": {
    "collapsed": false,
    "ExecuteTime": {
     "end_time": "2024-04-01T11:19:19.438424Z",
     "start_time": "2024-04-01T11:19:19.433012Z"
    }
   },
   "id": "5215c30e74ed5cbd",
   "execution_count": 9
  },
  {
   "cell_type": "markdown",
   "source": [
    "# Ex 4.1\n",
    "```python\n",
    "print(\"Shopping list:\")\n",
    "print(\"bread\", \"butter\", \"eggs\")\n",
    "```\n",
    "Сделайте так, чтобы покупки из предыдущего примера со списком выводились через запятую."
   ],
   "metadata": {
    "collapsed": false
   },
   "id": "b0edc53fd4f130d8"
  },
  {
   "cell_type": "code",
   "outputs": [
    {
     "name": "stdout",
     "output_type": "stream",
     "text": [
      "Shopping list: bread, butter, eggs\n"
     ]
    }
   ],
   "source": [
    "print(\"Shopping list:\", end=' ')\n",
    "print(\"bread\", \"butter\", \"eggs\", sep=\", \")"
   ],
   "metadata": {
    "collapsed": false,
    "ExecuteTime": {
     "end_time": "2024-04-01T11:25:44.214175Z",
     "start_time": "2024-04-01T11:25:44.208107Z"
    }
   },
   "id": "6da162fb0dcced8c",
   "execution_count": 10
  },
  {
   "cell_type": "markdown",
   "source": [
    "# Ex 5.1\n",
    "Напишите функцию mult, которая считает произведение переданных в неё чисел через запятую.\n",
    "Примечание. Посчитайте результат с использованием цикла for.\n",
    "Пример:\n",
    "```python\n",
    "print(mult(3,5,10))\n",
    "# Должно быть напечатано:\n",
    "# 150\n",
    "```"
   ],
   "metadata": {
    "collapsed": false
   },
   "id": "2eeba40263de164c"
  },
  {
   "cell_type": "code",
   "outputs": [
    {
     "name": "stdout",
     "output_type": "stream",
     "text": [
      "2000\n"
     ]
    }
   ],
   "source": [
    "def mult(*args):\n",
    "    multiplier = 1\n",
    "    for i in args:\n",
    "        multiplier *= i\n",
    "    \n",
    "    return multiplier\n",
    "\n",
    "print(mult(4, 5, 10, 10))"
   ],
   "metadata": {
    "collapsed": false,
    "ExecuteTime": {
     "end_time": "2024-04-01T13:31:29.392886Z",
     "start_time": "2024-04-01T13:31:29.385986Z"
    }
   },
   "id": "edbf328bccc9adc9",
   "execution_count": 12
  },
  {
   "cell_type": "markdown",
   "source": [
    "# Ex 5.2\n",
    "Напечатайте список langs с использованием *, как в примере выше, но через запятую с пробелом.\n",
    "```python\n",
    "# Должно быть напечатано:\n",
    "# Python, SQL, Machine Learning, Statistics\n",
    "```"
   ],
   "metadata": {
    "collapsed": false
   },
   "id": "cacfd000d1eb9549"
  },
  {
   "cell_type": "code",
   "outputs": [
    {
     "name": "stdout",
     "output_type": "stream",
     "text": [
      "Python, SQL, Machine Learning, Statistics\n"
     ]
    }
   ],
   "source": [
    "langs = ['Python', 'SQL', 'Machine Learning', 'Statistics']\n",
    "print(*langs, sep=', ')"
   ],
   "metadata": {
    "collapsed": false,
    "ExecuteTime": {
     "end_time": "2024-04-01T13:32:31.429968Z",
     "start_time": "2024-04-01T13:32:31.426590Z"
    }
   },
   "id": "512b50e1ebc55ac1",
   "execution_count": 13
  },
  {
   "cell_type": "markdown",
   "source": [
    "# Ex 5.3\n",
    "Создайте список оценок студента:\n",
    "```python\n",
    "marks = [4,5,5,5,5,3,4,4,5,4,5]\n",
    "```\n",
    "Передайте в функцию mean_mark, которая была создана в начале данного подраздела юнита, этот список, а также фамилию студента Kuznetsov с помощью оператора распаковки.\n",
    "Функция mean_mark продублирована:\n",
    "```python\n",
    "def mean_mark(name, *marks):\n",
    "    result = sum(marks) / len(marks)\n",
    "    # Не возвращаем результат, а печатаем его\n",
    "    print(name+':', result)\n",
    "```\n",
    "Пример:\n",
    "```python\n",
    "# Должно быть напечатано:\n",
    "# Kuznetsov: 4.454545454545454\n",
    "```"
   ],
   "metadata": {
    "collapsed": false
   },
   "id": "db86821eab76cd87"
  },
  {
   "cell_type": "code",
   "outputs": [
    {
     "name": "stdout",
     "output_type": "stream",
     "text": [
      "John: 4.454545454545454\n"
     ]
    }
   ],
   "source": [
    "marks = [4,5,5,5,5,3,4,4,5,4,5]\n",
    "\n",
    "def mean_mark(name, *mark):\n",
    "    result = sum(mark) / len(mark)\n",
    "    # Не возвращаем результат, а печатаем его\n",
    "    print(name+':', result)\n",
    "    \n",
    "mean_mark('John', *marks)"
   ],
   "metadata": {
    "collapsed": false,
    "ExecuteTime": {
     "end_time": "2024-04-01T13:41:50.998996Z",
     "start_time": "2024-04-01T13:41:50.993938Z"
    }
   },
   "id": "a0cf15861c4cc15f",
   "execution_count": 32
  },
  {
   "cell_type": "markdown",
   "source": [
    "# Ex 6.1\n",
    "В качестве упражнения попробуйте переписать использованную lambda-функцию в классический вид (с def). Назовите её get_length.\n",
    "Затем воспользуйтесь полученной функцией для сортировки списка:\n",
    "```python\n",
    "new_list = ['bbb', 'ababa','aaa', 'aaaaa',  'cc']\n",
    "new_list.sort(key=get_length)\n",
    "print(new_list)\n",
    "# Должно быть напечатано:\n",
    "# ['cc', 'bbb', 'aaa', 'ababa', 'aaaaa']\n",
    "```"
   ],
   "metadata": {
    "collapsed": false
   },
   "id": "74d61f3e78039d00"
  },
  {
   "cell_type": "code",
   "outputs": [],
   "source": [],
   "metadata": {
    "collapsed": false
   },
   "id": "c3d231b6efb8b6e7"
  },
  {
   "cell_type": "markdown",
   "source": [
    "# Ex"
   ],
   "metadata": {
    "collapsed": false
   },
   "id": "dc645a65b5a8d36c"
  }
 ],
 "metadata": {
  "kernelspec": {
   "display_name": "Python 3",
   "language": "python",
   "name": "python3"
  },
  "language_info": {
   "codemirror_mode": {
    "name": "ipython",
    "version": 2
   },
   "file_extension": ".py",
   "mimetype": "text/x-python",
   "name": "python",
   "nbconvert_exporter": "python",
   "pygments_lexer": "ipython2",
   "version": "2.7.6"
  }
 },
 "nbformat": 4,
 "nbformat_minor": 5
}
