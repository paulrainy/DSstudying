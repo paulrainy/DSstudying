{
 "cells": [
  {
   "cell_type": "markdown",
   "source": [
    "# Ex 2.3\n",
    "Напишите функцию get_total(units, price), которая принимает на вход число единиц товара и стоимость каждой единицы.\n",
    "Функция возвращает одно число — общую стоимость данного числа товаров.\n",
    "Пример: print(get_total(15, 50))"
   ],
   "metadata": {
    "collapsed": false
   },
   "id": "361b5e935be27093"
  },
  {
   "cell_type": "code",
   "outputs": [
    {
     "data": {
      "text/plain": "500"
     },
     "execution_count": 1,
     "metadata": {},
     "output_type": "execute_result"
    }
   ],
   "source": [
    "def get_total(units, price):\n",
    "    return units*price\n",
    "\n",
    "get_total(10,50)"
   ],
   "metadata": {
    "collapsed": false,
    "ExecuteTime": {
     "end_time": "2024-04-01T11:08:59.777071Z",
     "start_time": "2024-04-01T11:08:59.765946Z"
    }
   },
   "id": "da91e2fa0aa9555a",
   "execution_count": 1
  },
  {
   "cell_type": "markdown",
   "source": [
    "# Ex 3.1\n",
    "Попробуйте добавить в функцию get_time проверку скорости на равенство нулю.\n",
    "Если скорость равна нулю, верните ValueError с сообщением \"Speed cannot be equal to 0!\".\n",
    "```python\n",
    "def get_time(distance, speed):\n",
    "    if distance < 0 or speed < 0:\n",
    "        raise ValueError(\"Distance or speed cannot be below 0!\")\n",
    "    result = distance / speed\n",
    "    return result\n",
    "```\n",
    "Пример:\n",
    "```python\n",
    "get_time(100, 0)\n",
    "# ValueError: Speed cannot be equal to 0!\n",
    "```"
   ],
   "metadata": {
    "collapsed": false
   },
   "id": "6ef450a05eec088f"
  },
  {
   "cell_type": "code",
   "outputs": [
    {
     "name": "stdout",
     "output_type": "stream",
     "text": [
      "10.0\n"
     ]
    }
   ],
   "source": [
    "def get_time(distance, speed):\n",
    "    if distance < 0 or speed < 0:\n",
    "        raise ValueError(\"Distance or speed cannot be below 0!\")\n",
    "    elif speed == 0:\n",
    "        raise ZeroDivisionError(\"Speed cannot be 0!\")\n",
    "    else:\n",
    "        result = distance / speed\n",
    "        return result\n",
    "\n",
    "print(get_time(10, 1))"
   ],
   "metadata": {
    "collapsed": false,
    "ExecuteTime": {
     "end_time": "2024-04-01T11:15:33.029229Z",
     "start_time": "2024-04-01T11:15:33.024775Z"
    }
   },
   "id": "998d79520e539459",
   "execution_count": 3
  },
  {
   "cell_type": "markdown",
   "source": [
    "# Ex 3.2\n",
    "```python\n",
    "# В функцию должны передаваться 2 значения:\n",
    "# число и степень корня\n",
    "def root(value, n):\n",
    "    # Как мы уже выяснили, чтобы посчитать\n",
    "    # корень степени n из числа, можно возвести это число\n",
    "    # в степень 1/n\n",
    "    result = value ** (1/n)\n",
    "    return result\n",
    "\n",
    "# Посчитаем корень 3-ей степени (кубический корень) из 27\n",
    "print(root(27, 3))\n",
    "# Будет напечатано:\n",
    "# 3.0\n",
    "```\n",
    "Модифицируйте функцию root так, чтобы передавать степень корня было необязательно.\n",
    "Если степень корня не передана, функция должна возвращать значение квадратного корня.\n",
    "Проверьте своё решение, вызвав функцию root:\n",
    "```python\n",
    "print(root(81))\n",
    "# Должно быть напечатано:\n",
    "# 9.0\n",
    "```"
   ],
   "metadata": {
    "collapsed": false
   },
   "id": "756edff6dbd8406f"
  },
  {
   "cell_type": "code",
   "outputs": [
    {
     "name": "stdout",
     "output_type": "stream",
     "text": [
      "4.3267487109222245\n"
     ]
    }
   ],
   "source": [
    "def root(value, n = 2):\n",
    "    result = value ** (1/n)\n",
    "    return result\n",
    "\n",
    "print(root(81, 3))"
   ],
   "metadata": {
    "collapsed": false,
    "ExecuteTime": {
     "end_time": "2024-04-01T11:16:48.849176Z",
     "start_time": "2024-04-01T11:16:48.844352Z"
    }
   },
   "id": "6f267d24cc372c4e",
   "execution_count": 5
  },
  {
   "cell_type": "markdown",
   "source": [
    "# Ex 3.5\n",
    "Дана функция add_mark:\n",
    "```python\n",
    "def add_mark(name, mark, journal=None):\n",
    "   # Добавьте здесь проверку аргумента mark\n",
    "   if journal is None:\n",
    "       journal = {}\n",
    "   journal[name] = mark\n",
    "   return journal\n",
    "```\n",
    "Дополните её код таким образом, чтобы возникала ошибка ValueError с текстом \"Invalid Mark!\" при попытке поставить оценку не из списка: 2, 3, 4 или 5.\n",
    "```python\n",
    "add_mark('Ivanov', 6)\n",
    "# ValueError: Invalid Mark!\n",
    "```"
   ],
   "metadata": {
    "collapsed": false
   },
   "id": "2ef76172152e7dee"
  },
  {
   "cell_type": "code",
   "outputs": [
    {
     "data": {
      "text/plain": "{'John': 5}"
     },
     "execution_count": 9,
     "metadata": {},
     "output_type": "execute_result"
    }
   ],
   "source": [
    "def add_mark(name, mark, journal=None):\n",
    "    if mark not in range(2, 6):\n",
    "        raise ValueError(\"Invalid Mark!\")\n",
    "\n",
    "    if journal is None:\n",
    "        journal = {}\n",
    "    \n",
    "    journal[name] = mark\n",
    "    return journal\n",
    "\n",
    "add_mark('John', 5)"
   ],
   "metadata": {
    "collapsed": false,
    "ExecuteTime": {
     "end_time": "2024-04-01T11:19:19.438424Z",
     "start_time": "2024-04-01T11:19:19.433012Z"
    }
   },
   "id": "5215c30e74ed5cbd",
   "execution_count": 9
  },
  {
   "cell_type": "markdown",
   "source": [
    "# Ex 4.1\n",
    "```python\n",
    "print(\"Shopping list:\")\n",
    "print(\"bread\", \"butter\", \"eggs\")\n",
    "```\n",
    "Сделайте так, чтобы покупки из предыдущего примера со списком выводились через запятую."
   ],
   "metadata": {
    "collapsed": false
   },
   "id": "b0edc53fd4f130d8"
  },
  {
   "cell_type": "code",
   "outputs": [
    {
     "name": "stdout",
     "output_type": "stream",
     "text": [
      "Shopping list: bread, butter, eggs\n"
     ]
    }
   ],
   "source": [
    "print(\"Shopping list:\", end=' ')\n",
    "print(\"bread\", \"butter\", \"eggs\", sep=\", \")"
   ],
   "metadata": {
    "collapsed": false,
    "ExecuteTime": {
     "end_time": "2024-04-01T11:25:44.214175Z",
     "start_time": "2024-04-01T11:25:44.208107Z"
    }
   },
   "id": "6da162fb0dcced8c",
   "execution_count": 10
  },
  {
   "cell_type": "markdown",
   "source": [
    "# Ex 5.1\n",
    "Напишите функцию mult, которая считает произведение переданных в неё чисел через запятую.\n",
    "Примечание. Посчитайте результат с использованием цикла for.\n",
    "Пример:\n",
    "```python\n",
    "print(mult(3,5,10))\n",
    "# Должно быть напечатано:\n",
    "# 150\n",
    "```"
   ],
   "metadata": {
    "collapsed": false
   },
   "id": "2eeba40263de164c"
  },
  {
   "cell_type": "code",
   "outputs": [
    {
     "name": "stdout",
     "output_type": "stream",
     "text": [
      "2000\n"
     ]
    }
   ],
   "source": [
    "def mult(*args):\n",
    "    multiplier = 1\n",
    "    for i in args:\n",
    "        multiplier *= i\n",
    "    \n",
    "    return multiplier\n",
    "\n",
    "print(mult(4, 5, 10, 10))"
   ],
   "metadata": {
    "collapsed": false,
    "ExecuteTime": {
     "end_time": "2024-04-01T13:31:29.392886Z",
     "start_time": "2024-04-01T13:31:29.385986Z"
    }
   },
   "id": "edbf328bccc9adc9",
   "execution_count": 12
  },
  {
   "cell_type": "markdown",
   "source": [
    "# Ex 5.2\n",
    "Напечатайте список langs с использованием *, как в примере выше, но через запятую с пробелом.\n",
    "```python\n",
    "# Должно быть напечатано:\n",
    "# Python, SQL, Machine Learning, Statistics\n",
    "```"
   ],
   "metadata": {
    "collapsed": false
   },
   "id": "cacfd000d1eb9549"
  },
  {
   "cell_type": "code",
   "outputs": [
    {
     "name": "stdout",
     "output_type": "stream",
     "text": [
      "Python, SQL, Machine Learning, Statistics\n"
     ]
    }
   ],
   "source": [
    "langs = ['Python', 'SQL', 'Machine Learning', 'Statistics']\n",
    "print(*langs, sep=', ')"
   ],
   "metadata": {
    "collapsed": false,
    "ExecuteTime": {
     "end_time": "2024-04-01T13:32:31.429968Z",
     "start_time": "2024-04-01T13:32:31.426590Z"
    }
   },
   "id": "512b50e1ebc55ac1",
   "execution_count": 13
  },
  {
   "cell_type": "markdown",
   "source": [
    "# Ex 5.3\n",
    "Создайте список оценок студента:\n",
    "```python\n",
    "marks = [4,5,5,5,5,3,4,4,5,4,5]\n",
    "```\n",
    "Передайте в функцию mean_mark, которая была создана в начале данного подраздела юнита, этот список, а также фамилию студента Kuznetsov с помощью оператора распаковки.\n",
    "Функция mean_mark продублирована:\n",
    "```python\n",
    "def mean_mark(name, *marks):\n",
    "    result = sum(marks) / len(marks)\n",
    "    # Не возвращаем результат, а печатаем его\n",
    "    print(name+':', result)\n",
    "```\n",
    "Пример:\n",
    "```python\n",
    "# Должно быть напечатано:\n",
    "# Kuznetsov: 4.454545454545454\n",
    "```"
   ],
   "metadata": {
    "collapsed": false
   },
   "id": "db86821eab76cd87"
  },
  {
   "cell_type": "code",
   "outputs": [
    {
     "name": "stdout",
     "output_type": "stream",
     "text": [
      "John: 4.454545454545454\n"
     ]
    }
   ],
   "source": [
    "marks = [4,5,5,5,5,3,4,4,5,4,5]\n",
    "\n",
    "def mean_mark(name, *mark):\n",
    "    result = sum(mark) / len(mark)\n",
    "    # Не возвращаем результат, а печатаем его\n",
    "    print(name+':', result)\n",
    "    \n",
    "mean_mark('John', *marks)"
   ],
   "metadata": {
    "collapsed": false,
    "ExecuteTime": {
     "end_time": "2024-04-01T13:41:50.998996Z",
     "start_time": "2024-04-01T13:41:50.993938Z"
    }
   },
   "id": "a0cf15861c4cc15f",
   "execution_count": 32
  },
  {
   "cell_type": "markdown",
   "source": [
    "# Ex 6.1\n",
    "В качестве упражнения попробуйте переписать использованную lambda-функцию в классический вид (с def). Назовите её get_length.\n",
    "Затем воспользуйтесь полученной функцией для сортировки списка:\n",
    "```python\n",
    "new_list = ['bbb', 'ababa','aaa', 'aaaaa',  'cc']\n",
    "new_list.sort(key=get_length)\n",
    "print(new_list)\n",
    "# Должно быть напечатано:\n",
    "# ['cc', 'bbb', 'aaa', 'ababa', 'aaaaa']\n",
    "```"
   ],
   "metadata": {
    "collapsed": false
   },
   "id": "74d61f3e78039d00"
  },
  {
   "cell_type": "code",
   "outputs": [
    {
     "name": "stdout",
     "output_type": "stream",
     "text": [
      "['cc', 'bbb', 'aaa', 'ababa', 'aaaaa']\n"
     ]
    }
   ],
   "source": [
    "new_list = ['bbb', 'ababa','aaa', 'aaaaa',  'cc']\n",
    "def get_length(stlist):\n",
    "    return len(stlist)\n",
    "\n",
    "new_list.sort(key=get_length)\n",
    "print(new_list)"
   ],
   "metadata": {
    "collapsed": false,
    "ExecuteTime": {
     "end_time": "2024-04-03T08:21:17.166421Z",
     "start_time": "2024-04-03T08:21:17.160563Z"
    }
   },
   "id": "c3d231b6efb8b6e7",
   "execution_count": 2
  },
  {
   "cell_type": "markdown",
   "source": [
    "# Ex 6.3\n",
    "Напишите lambda-функцию для расчёта гипотенузы прямоугольного треугольника:\n",
    "она принимает на вход длины двух катетов и возвращает длину гипотенузы (третьей, самой длинной стороны прямоугольного треугольника).\n",
    "Формула: c = (a**2 + b**2) ** (1/2), где a и b — длины катетов, — длина гипотенузы. Сохраните эту функцию в переменную hyp.\n",
    "Пример работы функции:\n",
    "```python\n",
    "print(hyp(3,4))\n",
    "print(hyp(1,9))\n",
    "# 5.0\n",
    "# 9.055385138137417\n",
    "```"
   ],
   "metadata": {
    "collapsed": false
   },
   "id": "dc645a65b5a8d36c"
  },
  {
   "cell_type": "code",
   "outputs": [
    {
     "name": "stdout",
     "output_type": "stream",
     "text": [
      "5.0\n"
     ]
    }
   ],
   "source": [
    "hyp = lambda a, b: (a ** 2 + b ** 2) ** 0.5\n",
    "\n",
    "print(hyp(3, 4))"
   ],
   "metadata": {
    "collapsed": false,
    "ExecuteTime": {
     "end_time": "2024-04-03T13:14:28.449539Z",
     "start_time": "2024-04-03T13:14:28.445612Z"
    }
   },
   "id": "8ad4e663d8b40cf5",
   "execution_count": 3
  },
  {
   "cell_type": "markdown",
   "source": [
    "# Ex 6.4\n",
    "Напишите функцию sort_sides(l_in), которая сортирует переданный в неё список l_in.\n",
    "Входной список состоит из кортежей с парами чисел — длинами катетов прямоугольных треугольников.\n",
    "Функция должна возвращать список, отсортированный по возрастанию длин гипотенуз треугольников.\n",
    "Примечание. Вам пригодится lambda-функция из предыдущего задания. При этом вам потребуется заменить lambda от двух аргументов на lambda от одного аргумента и обращаться к элементам кортежа уже при вычислении гипотенузы.\n",
    "Пример работы функции:\n",
    "```python\n",
    "print(sort_sides([(3,4), (1,2), (10,10)]))\n",
    "# [(1, 2), (3, 4), (10, 10)]\n",
    "```"
   ],
   "metadata": {
    "collapsed": false
   },
   "id": "e919162b6b4d6f66"
  },
  {
   "cell_type": "code",
   "outputs": [
    {
     "data": {
      "text/plain": "[(1, 2), (3, 4), (10, 10)]"
     },
     "execution_count": 9,
     "metadata": {},
     "output_type": "execute_result"
    }
   ],
   "source": [
    "l_in = [(3, 4), (1, 2), (10, 10)]\n",
    "tuple_hyp = lambda el: (el[0] ** 2 + el[1] ** 2) ** 0.5\n",
    "\n",
    "def sort_sides(list_in):\n",
    "    list_in.sort(key=tuple_hyp)\n",
    "    return list_in\n",
    "\n",
    "sort_sides(l_in)"
   ],
   "metadata": {
    "collapsed": false,
    "ExecuteTime": {
     "end_time": "2024-04-03T13:33:29.407744Z",
     "start_time": "2024-04-03T13:33:29.398614Z"
    }
   },
   "id": "4397d1b543c1d81a",
   "execution_count": 9
  },
  {
   "cell_type": "markdown",
   "source": [
    "# Ex 7.9\n",
    "Напишите функцию get_less(list_in, num), которая принимает на вход список list_in, состоящий из чисел, и ещё одно число num.\n",
    "Функция должна вернуть первое найденное число из списка, которое меньше переданного во втором аргументе. Если такого числа нет, необходимо вернуть None.\n",
    "Пример:\n",
    "```python\n",
    "print(get_less([1, 5, 8,  10], 8))\n",
    "# 1\n",
    "\n",
    "print(get_less([1, 5, 8,  10], 0))\n",
    "# None\n",
    "```\n",
    "Вместо pass напишите тело функции\n",
    "```python\n",
    "def get_less(list_in, num):\n",
    "    pass\n",
    "```"
   ],
   "metadata": {
    "collapsed": false
   },
   "id": "a842889516a08a6f"
  },
  {
   "cell_type": "code",
   "outputs": [
    {
     "name": "stdout",
     "output_type": "stream",
     "text": [
      "None\n"
     ]
    }
   ],
   "source": [
    "def get_less(list_in, num):\n",
    "    for i in list_in:\n",
    "        if i < num:\n",
    "            return i\n",
    "    \n",
    "    return None\n",
    "\n",
    "print(get_less([1, 5, 8, 10], 0))"
   ],
   "metadata": {
    "collapsed": false,
    "ExecuteTime": {
     "end_time": "2024-04-03T13:57:35.497878Z",
     "start_time": "2024-04-03T13:57:35.493860Z"
    }
   },
   "id": "67cc747504c5de69",
   "execution_count": 11
  },
  {
   "cell_type": "markdown",
   "source": [
    "# Ex 7.10\n",
    "Напишите функцию split_date(date), которая принимает на вход строку, задающую дату, в формате ддммгггг без разделителей. Функция должна вернуть кортеж из чисел (int): день, месяц, год.\n",
    "Примечание. Здесь вам пригодятся срезы строк.\n",
    "Пример:\n",
    "```python\n",
    "print(split_date(\"31012019\"))\n",
    "# (31, 1, 2019)\n",
    "```"
   ],
   "metadata": {
    "collapsed": false
   },
   "id": "486bc29f27e2bce0"
  },
  {
   "cell_type": "code",
   "outputs": [
    {
     "name": "stdout",
     "output_type": "stream",
     "text": [
      "(31, 1, 2019)\n"
     ]
    }
   ],
   "source": [
    "def split_date(date):\n",
    "    date_tuple = (int(date[0] + date[1]), int(date[2] + date[3]), int(date[4] + date[5] + date[6] + date[7]))\n",
    "    return date_tuple\n",
    "\n",
    "print(split_date(\"31012019\"))"
   ],
   "metadata": {
    "collapsed": false,
    "ExecuteTime": {
     "end_time": "2024-04-03T14:15:42.421138Z",
     "start_time": "2024-04-03T14:15:42.416377Z"
    }
   },
   "id": "c89b6ccd23497fd9",
   "execution_count": 14
  },
  {
   "cell_type": "markdown",
   "source": [
    "# Ex 7.11\n",
    "Напишите функцию is_prime(num), которая проверяет, является ли число простым.\n",
    "Функция должна вернуть True, если число простое, иначе — False.\n",
    "Примечание. Простым называют число, которое делится только на 1 или на само себя. Число 1 простым не является.\n",
    "Пример:\n",
    "```python\n",
    "print(is_prime(1))\n",
    "print(is_prime(10))\n",
    "print(is_prime(13))\n",
    "# False\n",
    "# False\n",
    "# True\n",
    "```"
   ],
   "metadata": {
    "collapsed": false
   },
   "id": "e4af6e611d4b18fa"
  },
  {
   "cell_type": "code",
   "outputs": [],
   "source": [
    "def is_prime(num):\n",
    "    if num == 1:\n",
    "        return False\n",
    "    else:\n",
    "        if num "
   ],
   "metadata": {
    "collapsed": false
   },
   "id": "c6f85ecfc33f1a03"
  },
  {
   "cell_type": "markdown",
   "source": [
    "# Ex 7.12\n",
    "Напишите функцию between_min_max(...), которая принимает на вход числа через запятую.\n",
    "Функция возвращает среднее арифметическое между максимальным и минимальным значением этих чисел, то есть (max + min)/2.\n",
    "Пример:\n",
    "```python\n",
    "print(between_min_max(10))\n",
    "print(between_min_max(1,2,3,4,5))\n",
    "# 10.0\n",
    "# 3.0\n",
    "```"
   ],
   "metadata": {
    "collapsed": false
   },
   "id": "b04a735b04b46928"
  },
  {
   "cell_type": "markdown",
   "source": [
    "# Ex 7.13\n",
    "Напишите функцию best_student(...), которая принимает на вход в виде именованных аргументов имена студентов и их номера в рейтинге (нагляднее в примере).\n",
    "Необходимо вернуть имя студента с минимальным номером по рейтингу.\n",
    "Пример:\n",
    "```python\n",
    "print(best_student(Tom=12, Mike=3))\n",
    "print(best_student(Tom=12))\n",
    "print(best_student(Tom=12, Jerry=1, Jane=2))\n",
    "# Mike\n",
    "# Tom\n",
    "# Jerry\n",
    "```"
   ],
   "metadata": {
    "collapsed": false
   },
   "id": "2714937a54e5506b"
  },
  {
   "cell_type": "markdown",
   "source": [
    "# Ex 7.14\n",
    "Напишите lambda-функцию is_palindrom(str), которая принимает на вход одну строку str (имя параметра - x) и проверяет, является ли она палиндромом, то есть читается ли она слева-направо и справа-налево одинаково. \n",
    "Функция возвращает yes, если строка является палиндромом, иначе — no.\n",
    "Примечание. Не пытайтесь схитрить — в тест включена проверка на то, что функция действительно является lambda.\n",
    "Пример:\n",
    "```python\n",
    "print(is_palindrom('1234'))\n",
    "print(is_palindrom('12321'))\n",
    "# no\n",
    "# yes\n",
    "```"
   ],
   "metadata": {
    "collapsed": false
   },
   "id": "8abeb034fa674473"
  },
  {
   "cell_type": "markdown",
   "source": [
    "# Ex 7.15\n",
    "Напишите lambda-функцию area(a,b), которая принимает на вход два числа — стороны прямоугольника — через запятую и возвращает площадь прямоугольника.\n",
    "Пример:\n",
    "```python\n",
    "print(area(12,5))\n",
    "# 60\n",
    "```"
   ],
   "metadata": {
    "collapsed": false
   },
   "id": "e8cbd26312cd4fa8"
  },
  {
   "cell_type": "markdown",
   "source": [
    "# Ex 7.16\n",
    "Перепишите функцию between_min_max из задания 7.12 в lambda-функцию.\n",
    "Функция принимает на вход числа через запятую и возвращает одно число — среднее между максимумом и минимумом этих чисел.\n",
    "Пример:\n",
    "```python\n",
    "print(between_min_max(1,2,3,4,5))\n",
    "# 3.0\n",
    "``` "
   ],
   "metadata": {
    "collapsed": false
   },
   "id": "f4ad53eec76658aa"
  },
  {
   "cell_type": "markdown",
   "source": [
    "# Ex 7.17\n",
    "Напишите функцию sort_ignore_case(ls), которая принимает на вход список ls и сортирует его без учёта регистра по алфавиту.\n",
    "Функция возвращает отсортированный список.\n",
    "Пример:\n",
    "```python\n",
    "print(sort_ignore_case(['Acc', 'abc']))\n",
    "# ['abc', 'Acc']\n",
    "```"
   ],
   "metadata": {
    "collapsed": false
   },
   "id": "ecb15e34c359c8e6"
  },
  {
   "cell_type": "markdown",
   "source": [
    "# Ex 7.18\n",
    "Напишите функцию exchange(usd, rub, rate), которая может принимать на вход сумму в долларах (usd), сумму в рублях (rub) и обменный курс (rate).\n",
    "Обменный курс показывает, сколько стоит один доллар. Например, курс 85.46 означает, что один доллар стоит 85 рублей и 46 копеек.\n",
    "В функцию должно одновременно передавать два аргумента. Если передано менее двух аргументов, должна возникнуть ошибка ValueError('Not enough arguments').\n",
    "Если же передано три аргумента, должна возникнуть ошибка: ValueError('Too many arguments').\n",
    "Функция должна находить третий аргумент по двум переданным. Например, если переданы суммы в разных валютах, должен возвращаться обменный курс.\n",
    "Если известны сумма в рублях и курс, должна быть получена эквивалентная сумма в долларах, аналогично — если передана сумма в долларах и обменный курс.\n",
    "Пример:\n",
    "```python\n",
    "print(exchange(usd=100, rub=8500))\n",
    "# 85.0\n",
    "\n",
    "print(exchange(usd=100, rate=85))\n",
    "# 8500\n",
    "\n",
    "print(exchange(rub=1000, rate=85))\n",
    "# 11.764705882352942\n",
    "\n",
    "print(exchange(rub=1000, rate=85, usd=90))\n",
    "# ValueError: Too many arguments\n",
    "\n",
    "print(exchange(rub=1000))\n",
    "# ValueError: Not enough arguments\n",
    "```"
   ],
   "metadata": {
    "collapsed": false
   },
   "id": "db836f25ac43feb8"
  }
 ],
 "metadata": {
  "kernelspec": {
   "display_name": "Python 3",
   "language": "python",
   "name": "python3"
  },
  "language_info": {
   "codemirror_mode": {
    "name": "ipython",
    "version": 2
   },
   "file_extension": ".py",
   "mimetype": "text/x-python",
   "name": "python",
   "nbconvert_exporter": "python",
   "pygments_lexer": "ipython2",
   "version": "2.7.6"
  }
 },
 "nbformat": 4,
 "nbformat_minor": 5
}
