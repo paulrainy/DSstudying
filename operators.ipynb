{
 "cells": [
  {
   "cell_type": "markdown",
   "source": [
    "Ex 2.1\n",
    "Какой из указанных операторов должен стоять на месте ???, чтобы результат операции соответствовал приведённому выше?\n",
    "A:\n",
    "print(True ??? False)\n",
    "  True\n",
    "B:\n",
    "print(True ??? False)\n",
    "  False"
   ],
   "metadata": {
    "collapsed": false
   },
   "id": "75b9925534fe6f02"
  },
  {
   "cell_type": "code",
   "outputs": [
    {
     "name": "stdout",
     "output_type": "stream",
     "text": [
      "True\n",
      "False\n"
     ]
    }
   ],
   "source": [
    "print(True != False)\n",
    "print(True == False)"
   ],
   "metadata": {
    "collapsed": false,
    "ExecuteTime": {
     "end_time": "2024-01-13T11:36:55.776928108Z",
     "start_time": "2024-01-13T11:36:55.776061177Z"
    }
   },
   "id": "c1d3337720dcf43e",
   "execution_count": 1
  },
  {
   "cell_type": "markdown",
   "source": [
    "Ex 2.2\n",
    "Каков результат выполнения кода ниже?\n",
    "```python\n",
    "string_1 = 'abc'\n",
    "string_2 = 'ABC'\n",
    "print(string_1 == string_2)\n",
    "```"
   ],
   "metadata": {
    "collapsed": false
   },
   "id": "54895f6566373a67"
  },
  {
   "cell_type": "code",
   "outputs": [
    {
     "name": "stdout",
     "output_type": "stream",
     "text": [
      "False\n"
     ]
    }
   ],
   "source": [
    "string_1 = 'abc'\n",
    "string_2 = 'ABC'\n",
    "print(string_1 == string_2)"
   ],
   "metadata": {
    "collapsed": false,
    "ExecuteTime": {
     "end_time": "2024-01-13T11:37:13.377464050Z",
     "start_time": "2024-01-13T11:37:13.367793186Z"
    }
   },
   "id": "a7e9acc466ada420",
   "execution_count": 2
  },
  {
   "cell_type": "markdown",
   "source": [
    "Ex 2.3\n",
    "Представьте, что вы работаете аналитиком данных в больнице. Переменная glucose содержит результат измерения уровня \n",
    "сахара в крови пациента (ммоль/л). Какой из вариантов кода поможет вам проверить, страдает ли пациент диабетом, \n",
    "если о наличии болезни свидетельствует уровень сахара выше либо равный 6 ммоль/л?"
   ],
   "metadata": {
    "collapsed": false
   },
   "id": "b9d45ac12a1c9445"
  },
  {
   "cell_type": "code",
   "outputs": [
    {
     "name": "stdout",
     "output_type": "stream",
     "text": [
      "Glucose is bigger than 6\n"
     ]
    }
   ],
   "source": [
    "glucose = 6\n",
    "if glucose >= 6:\n",
    "    print(\"Glucose is bigger than 6\")\n",
    "else:\n",
    "    print(\"Glucose is smaller than 6\")"
   ],
   "metadata": {
    "collapsed": false,
    "ExecuteTime": {
     "end_time": "2024-02-06T10:19:57.226819560Z",
     "start_time": "2024-02-06T10:19:57.222717867Z"
    }
   },
   "id": "9891cab5c6a04e07",
   "execution_count": 1
  },
  {
   "cell_type": "markdown",
   "source": [
    "Ex 2.4\n",
    "Напишите условие, которое проверяет, является ли строка палиндромом.\n",
    "Палиндром читается одинаково слева направо и справа налево. Например: \"шалаш\", \"казак\", \"мадам\", \"коту тащат уток\".\n",
    "Строка, которую мы хотим проверить, находится в переменной target_string. "
   ],
   "metadata": {
    "collapsed": false
   },
   "id": "799a60826749877f"
  },
  {
   "cell_type": "code",
   "outputs": [
    {
     "name": "stdout",
     "output_type": "stream",
     "text": [
      "it is NOT a palindrome\n"
     ]
    }
   ],
   "source": [
    "target_string = input(\"Enter a palindrome:\")\n",
    "if target_string[::-1] == target_string:\n",
    "    print(\"it is a palindrome\")\n",
    "else:\n",
    "    print(\"it is NOT a palindrome\")"
   ],
   "metadata": {
    "collapsed": false,
    "ExecuteTime": {
     "end_time": "2024-01-13T11:44:44.934982673Z",
     "start_time": "2024-01-13T11:44:41.881201145Z"
    }
   },
   "id": "ff5cf1b392dc826e",
   "execution_count": 6
  },
  {
   "cell_type": "markdown",
   "source": [
    "Ex 2.5\n",
    "В разговорной речи иногда можно услышать оправдание: «Не-не-не, это не правда». С помощью логических операторов в Python это \n",
    "высказывание можно записать так:\n",
    "```python\n",
    "not not not not True\n",
    "```\n",
    "Чему будет равно значение такого логического выражения? "
   ],
   "metadata": {
    "collapsed": false
   },
   "id": "3f2e7e50c2e93414"
  },
  {
   "cell_type": "code",
   "outputs": [
    {
     "name": "stdout",
     "output_type": "stream",
     "text": [
      "True\n"
     ]
    }
   ],
   "source": [
    "sentence = not not not not True\n",
    "print(sentence)"
   ],
   "metadata": {
    "collapsed": false,
    "ExecuteTime": {
     "end_time": "2024-01-13T11:46:24.846630721Z",
     "start_time": "2024-01-13T11:46:24.805086164Z"
    }
   },
   "id": "80af028fd28505dc",
   "execution_count": 7
  },
  {
   "cell_type": "markdown",
   "source": [
    "Ex 2.6\n",
    "Чему равны значения выражений ниже?\n",
    "\n",
    "A:\n",
    "not True or (True and not True)\n",
    "\n",
    "B:   \n",
    "not\n",
    "False\n",
    "and\n",
    "True\n",
    "or\n",
    "False\n",
    "and\n",
    "not\n",
    "True    "
   ],
   "metadata": {
    "collapsed": false
   },
   "id": "a3d94b0668992e97"
  },
  {
   "cell_type": "code",
   "outputs": [
    {
     "name": "stdout",
     "output_type": "stream",
     "text": [
      "False True\n"
     ]
    }
   ],
   "source": [
    "sentence_a = not True or (True and not True)\n",
    "sentence_b = not False and True or False and not True\n",
    "print(sentence_a, sentence_b)"
   ],
   "metadata": {
    "collapsed": false,
    "ExecuteTime": {
     "end_time": "2024-01-13T11:48:21.536744179Z",
     "start_time": "2024-01-13T11:48:21.495283830Z"
    }
   },
   "id": "98dd5ceb5315225",
   "execution_count": 8
  },
  {
   "cell_type": "markdown",
   "source": [
    "Ex 2.7\n",
    "Каково значение переменных z, v и w после выполнения кода ниже?\n",
    "x = 10\n",
    "y = 100\n",
    "z = (x % 2 == 0) and (y >= 100)\n",
    "v = (x % 2 == 0) or (y >= 100)\n",
    "w = not(x % 2 == 0) or not (y >= 100)"
   ],
   "metadata": {
    "collapsed": false
   },
   "id": "172aad32220670a1"
  },
  {
   "cell_type": "code",
   "outputs": [
    {
     "name": "stdout",
     "output_type": "stream",
     "text": [
      "True True False\n"
     ]
    }
   ],
   "source": [
    "x = 10\n",
    "y = 100\n",
    "z = (x % 2 == 0) and (y >= 100)\n",
    "v = (x % 2 == 0) or (y >= 100)\n",
    "w = not(x % 2 == 0) or not (y >= 100)\n",
    "print(z, v, w)"
   ],
   "metadata": {
    "collapsed": false,
    "ExecuteTime": {
     "end_time": "2024-01-13T11:50:16.453405849Z",
     "start_time": "2024-01-13T11:50:16.412117894Z"
    }
   },
   "id": "ebb09068b405e801",
   "execution_count": 9
  },
  {
   "cell_type": "markdown",
   "source": [
    "Ex 2.8\n",
    "Напишите условие, которое проверяет, что значение переменной a, возведенное в квадрат строго больше, чем значение переменных b и c одновременно.\n",
    "Результатом работы условия должно стать булево значение — True или False, в зависимости от выполнения заданного условия.\n",
    "Занесите этот результат в переменную result."
   ],
   "metadata": {
    "collapsed": false
   },
   "id": "b59874832b9d09b3"
  },
  {
   "cell_type": "code",
   "outputs": [
    {
     "name": "stdout",
     "output_type": "stream",
     "text": [
      "False\n"
     ]
    }
   ],
   "source": [
    "a = float(input(\"Enter a num:\"))\n",
    "b = float(input(\"Enter b num:\"))\n",
    "c = float(input(\"Enter c num:\"))\n",
    "\n",
    "if a**2 > (b**2 + c**2):\n",
    "    result = True\n",
    "else:\n",
    "    result = False\n",
    "print(result)"
   ],
   "metadata": {
    "collapsed": false,
    "ExecuteTime": {
     "end_time": "2024-01-13T11:55:25.008543252Z",
     "start_time": "2024-01-13T11:55:21.399606499Z"
    }
   },
   "id": "4be38f7c8c3e77f2",
   "execution_count": 12
  },
  {
   "cell_type": "markdown",
   "source": [
    "Ex 2.9\n",
    "Представьте, что вы работаете аналитиком данных в больнице. Пусть переменные diagnosis_1, diagnosis_2 и diagnosis_3 хранят \n",
    "информацию о наличии у пациента различных хронических заболеваний (yes — да, no — нет). \n",
    "Реализуйте условие, которое проверяет, страдает ли пациент хотя бы от одного из них?\n",
    "Результатом должно стать булево значение — True или False. Занесите этот результат в переменную result."
   ],
   "metadata": {
    "collapsed": false
   },
   "id": "63108a4bfb4a91d9"
  },
  {
   "cell_type": "code",
   "outputs": [
    {
     "name": "stdout",
     "output_type": "stream",
     "text": [
      "True\n"
     ]
    }
   ],
   "source": [
    "diagnosis_1 = input(\"Enter yes or no for the first diagnosis:\")\n",
    "diagnosis_2 = input(\"Enter yes or no for the second diagnosis:\")\n",
    "diagnosis_3 = input(\"Enter yes or no for the third diagnosis:\")\n",
    "\n",
    "if diagnosis_1 == \"yes\" or diagnosis_2 == \"yes\" or diagnosis_3 == \"yes\":\n",
    "    result = True\n",
    "else:\n",
    "    result = False\n",
    "print(result)"
   ],
   "metadata": {
    "collapsed": false,
    "ExecuteTime": {
     "end_time": "2024-01-13T11:58:15.383051399Z",
     "start_time": "2024-01-13T11:58:09.289219302Z"
    }
   },
   "id": "f0e727f7476fc718",
   "execution_count": 14
  },
  {
   "cell_type": "markdown",
   "source": [
    "Ex 2.10\n",
    "Что будет результатом выполнения следующей программы:\n",
    "```python\n",
    "a = [1, 2, 3]\n",
    "b = a\n",
    "c = [1, 2, 3]\n",
    "print(a == b, a == c, a is b, a is c)\n",
    "```"
   ],
   "metadata": {
    "collapsed": false
   },
   "id": "271aecdac0b64d17"
  },
  {
   "cell_type": "code",
   "outputs": [
    {
     "name": "stdout",
     "output_type": "stream",
     "text": [
      "True True True False\n"
     ]
    }
   ],
   "source": [
    "a = [1, 2, 3]\n",
    "b = a\n",
    "c = [1, 2, 3]\n",
    "print(a == b, a == c, a is b, a is c)"
   ],
   "metadata": {
    "collapsed": false,
    "ExecuteTime": {
     "end_time": "2024-01-13T11:58:41.569847176Z",
     "start_time": "2024-01-13T11:58:41.523828224Z"
    }
   },
   "id": "ccb9d6f77dadaa49",
   "execution_count": 15
  },
  {
   "cell_type": "markdown",
   "source": [
    "Ex 3.1\n",
    "Дано n-значное целое число N. Напишите условие для проверки того, входят ли в заданное число цифры 3 и 7.\n",
    "Результатом выполнения условия должно стать значение True или False. Занесите этот результат в переменную contains"
   ],
   "metadata": {
    "collapsed": false
   },
   "id": "7f37296aaf1cf1cf"
  },
  {
   "cell_type": "code",
   "outputs": [
    {
     "name": "stdout",
     "output_type": "stream",
     "text": [
      "True\n"
     ]
    }
   ],
   "source": [
    "N_num = 123456789\n",
    "if '3' and '7' in str(N_num):\n",
    "    contains = True\n",
    "else:\n",
    "    contains = False\n",
    "print(contains)"
   ],
   "metadata": {
    "collapsed": false,
    "ExecuteTime": {
     "end_time": "2024-02-06T13:10:56.365079038Z",
     "start_time": "2024-02-06T13:10:56.361370769Z"
    }
   },
   "id": "9688edc33b26e9d7",
   "execution_count": 1
  },
  {
   "cell_type": "markdown",
   "source": [
    "Ex 3.2\n",
    "Шахматная фигура передвигается по доске 8x8 клеток. Нумерация клеток по горизонтальной ведётся с помощью первых 8 латинских букв, а по \n",
    "вертикальной — с помощью цифр от 1 до 8.\n",
    "Координатам по горизонтальной и вертикальной осям шахматной доски, в которые должна переместиться фигура, соответствуют переменные x и y:\n",
    "```python\n",
    "x, y = 'F', 7\n",
    "```\n",
    "Напишите условие проверки корректности хода. Ход считается корректным, если новые координаты фигуры не выходят за пределы шахматной доски.\n",
    "Результат работы условия присвойте переменной move_is_correct, в которой должно содержаться значение True или False в зависимости от \n",
    "того, является ли ход корректным."
   ],
   "metadata": {
    "collapsed": false
   },
   "id": "560c0e0d2ed4dde0"
  },
  {
   "cell_type": "code",
   "outputs": [
    {
     "name": "stdout",
     "output_type": "stream",
     "text": [
      "True\n"
     ]
    }
   ],
   "source": [
    "field_x = 123456789\n",
    "field_y = 'ABCDEFGH'\n",
    "y, x = 'F', 7\n",
    "if str(x) in str(field_x) and y in field_y:\n",
    "    move_is_correct = True\n",
    "else:\n",
    "    move_is_correct = False\n",
    "print(move_is_correct)"
   ],
   "metadata": {
    "collapsed": false,
    "ExecuteTime": {
     "end_time": "2024-02-06T13:33:48.785760633Z",
     "start_time": "2024-02-06T13:33:48.780345401Z"
    }
   },
   "id": "5de369b3354092a3",
   "execution_count": 3
  },
  {
   "cell_type": "markdown",
   "source": [
    "Ex 3.3\n",
    "Дано n-значное целое число N. Реализуйте условие для проверки того, начинается ли число N с четной цифры.\n",
    "Результатом работы условия должно стать булево значение True или False. Занесите этот результат в \n",
    "переменную first_is_even"
   ],
   "metadata": {
    "collapsed": false
   },
   "id": "611587c17c1eac9a"
  },
  {
   "cell_type": "code",
   "outputs": [
    {
     "name": "stdout",
     "output_type": "stream",
     "text": [
      "24\n",
      "True\n"
     ]
    }
   ],
   "source": [
    "N_num = int(input(\"Enter\"))\n",
    "print(N_num)\n",
    "if int(str(N_num)[0]) % 2 == 0:\n",
    "    first_is_even = True\n",
    "else:\n",
    "    first_is_even = False\n",
    "print(first_is_even)"
   ],
   "metadata": {
    "collapsed": false,
    "ExecuteTime": {
     "end_time": "2024-02-06T13:46:36.708832471Z",
     "start_time": "2024-02-06T13:46:34.725350881Z"
    }
   },
   "id": "81c77af78af524a2",
   "execution_count": 6
  },
  {
   "cell_type": "markdown",
   "source": [
    "Ex 3.4\n",
    "Напишите условие, которое проверяет, что год является високосным.\n",
    "Известно, что год является високосным при выполнении хотя бы одного из следующих условий:\n",
    "Номер года делится (без остатка) на 400.\n",
    "Номер года делится (без остатка) на 4 и не делится на 100 одновременно.\n",
    "Номер года находится в переменной year.\n",
    "Результат выполнения условия занесите в переменную year_is_leap. Её значение должно быть равно True или False, в зависимости от \n",
    "того, является ли заданный год високосным. "
   ],
   "metadata": {
    "collapsed": false
   },
   "id": "a916cf9bfffdc684"
  },
  {
   "cell_type": "code",
   "outputs": [
    {
     "name": "stdout",
     "output_type": "stream",
     "text": [
      "2024\n",
      "True\n"
     ]
    }
   ],
   "source": [
    "year = int(input(\"input a year\"))\n",
    "print(year)\n",
    "if (year % 400 == 0) or (year % 4 == 0 and year % 100 != 0):\n",
    "    year_is_leap = True\n",
    "else:\n",
    "    year_is_leap = False\n",
    "print(year_is_leap)"
   ],
   "metadata": {
    "collapsed": false,
    "ExecuteTime": {
     "end_time": "2024-02-06T13:50:01.860204760Z",
     "start_time": "2024-02-06T13:49:59.150445032Z"
    }
   },
   "id": "93ea02b9fe1e0d69",
   "execution_count": 9
  },
  {
   "cell_type": "markdown",
   "source": [
    "Ex 3.5\n",
    "Шоколадка имеет вид прямоугольника размером n*m долек. Шоколадку можно один раз разломить по прямой на две части.\n",
    "Необходимо реализовать условие, проверяющее, можно ли таким образом отломить от шоколадки часть, состоящую ровно \n",
    "из k долек. \n",
    "Два примера таких разделений — по горизонтали и вертикали — приведены на рисунке.\n",
    "Информация о количестве долек в ширину и длину шоколадки, а также количество долек, которое должно получиться \n",
    "после разделения, содержится в переменных n, m и k соответственно.\n",
    "Не забудьте также учесть, что количество долек, получаемое в остатке, должно быть строго меньше, чем общее \n",
    "количество долек, из которых состоит шоколадка.\n",
    "Результат работы условия занесите в переменную result, значение которой равно True или False в зависимости от \n",
    "выполнения условия."
   ],
   "metadata": {
    "collapsed": false
   },
   "id": "937d344ff6770cc6"
  },
  {
   "cell_type": "code",
   "outputs": [
    {
     "name": "stdout",
     "output_type": "stream",
     "text": [
      "True\n"
     ]
    }
   ],
   "source": [
    "m = 4\n",
    "n = 5\n",
    "k = input(\"Enter a number:\")\n",
    "if (int(k) % m == 0 or int(k) % n == 0) and n * m >= int(k):\n",
    "    result = True\n",
    "else:\n",
    "    result = False\n",
    "print(result)"
   ],
   "metadata": {
    "collapsed": false,
    "ExecuteTime": {
     "end_time": "2024-02-08T15:56:30.417470476Z",
     "start_time": "2024-02-08T15:56:29.567221283Z"
    }
   },
   "id": "3ba2c963e4ae4b18",
   "execution_count": 14
  },
  {
   "cell_type": "markdown",
   "source": [
    "Ex 3.6\n",
    "Представьте, что вы обрабатываете заполненные пользователями онлайн-заявки. Переменная phone в виде строки хранит указанный \n",
    "пользователем номер телефона и None, если соответствующее поле в анкете заполнено не было.\n",
    "Реализуйте условие, которое проверит, оставил ли пользователь номер телефона. Результатом работы условия должно стать булево \n",
    "значение True или False в зависимости от того, заполнено ли поле с номером телефона.\n",
    "Результат занесите в переменную phone_is_defined."
   ],
   "metadata": {
    "collapsed": false
   },
   "id": "1fe9b7fa2041b1fa"
  },
  {
   "cell_type": "code",
   "outputs": [],
   "source": [],
   "metadata": {
    "collapsed": false
   },
   "id": "cbf85ddcc086e451"
  },
  {
   "cell_type": "markdown",
   "source": [
    "Ex 3.7\n",
    "В словаре arrival_of_goods хранится информация о приходах товара на склад интернет-магазина. Ключами этого словаря являются номера \n",
    "накладных, а значениями — словари, в которых содержится информация о товаре и его количестве в каждой из накладной.\n",
    "```python\n",
    "arrival_of_goods = {\n",
    "    '148902': {\n",
    "        'Футболка с принтом': 180,\n",
    "        'Свитшот черный': 245,\n",
    "        'Джинсы серые': 252\n",
    "    },\n",
    "    '893516': {\n",
    "        'Футболка с принтом': 43,\n",
    "        'Свитшот черный': 64,\n",
    "        'Джинсы черные': 102\n",
    "    },\n",
    "    '893481': {\n",
    "        'Кружка керамическая': 35,\n",
    "        'Свитшот черный': 10,\n",
    "        'Джинсы сервые': 14\n",
    "    }\n",
    "}\n",
    "```\n",
    "Мы проводим аналитику прихода товара на склад. В переменной invoice_number содержится номер накладной, который мы хотим найти.\n",
    "С помощью метода словарей get() и проверки на None реализуйте условие, которое проверяет, есть ли в истории прихода накладная \n",
    "с указанным в переменной invoice_number номером.\n",
    "Результатом работы условия должна стать булева переменная со значением True или False в зависимости от того, существует ли в \n",
    "системе указанная накладная.\n",
    "Результат занесите в переменную invoice_exists."
   ],
   "metadata": {
    "collapsed": false
   },
   "id": "3810c955bcf87795"
  }
 ],
 "metadata": {
  "kernelspec": {
   "display_name": "Python 3",
   "language": "python",
   "name": "python3"
  },
  "language_info": {
   "codemirror_mode": {
    "name": "ipython",
    "version": 2
   },
   "file_extension": ".py",
   "mimetype": "text/x-python",
   "name": "python",
   "nbconvert_exporter": "python",
   "pygments_lexer": "ipython2",
   "version": "2.7.6"
  }
 },
 "nbformat": 4,
 "nbformat_minor": 5
}
