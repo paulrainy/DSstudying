{
 "cells": [
  {
   "cell_type": "markdown",
   "source": [
    "Ex 2.1\n",
    "Какой из указанных операторов должен стоять на месте ???, чтобы результат операции соответствовал приведённому выше?\n",
    "A:\n",
    "print(True ??? False)\n",
    "  True\n",
    "B:\n",
    "print(True ??? False)\n",
    "  False"
   ],
   "metadata": {
    "collapsed": false
   },
   "id": "75b9925534fe6f02"
  },
  {
   "cell_type": "code",
   "outputs": [
    {
     "name": "stdout",
     "output_type": "stream",
     "text": [
      "True\n",
      "False\n"
     ]
    }
   ],
   "source": [
    "print(True != False)\n",
    "print(True == False)"
   ],
   "metadata": {
    "collapsed": false,
    "ExecuteTime": {
     "end_time": "2024-01-13T11:36:55.776928108Z",
     "start_time": "2024-01-13T11:36:55.776061177Z"
    }
   },
   "id": "c1d3337720dcf43e",
   "execution_count": 1
  },
  {
   "cell_type": "markdown",
   "source": [
    "Ex 2.2\n",
    "Каков результат выполнения кода ниже?\n",
    "```python\n",
    "string_1 = 'abc'\n",
    "string_2 = 'ABC'\n",
    "print(string_1 == string_2)\n",
    "```"
   ],
   "metadata": {
    "collapsed": false
   },
   "id": "54895f6566373a67"
  },
  {
   "cell_type": "code",
   "outputs": [
    {
     "name": "stdout",
     "output_type": "stream",
     "text": [
      "False\n"
     ]
    }
   ],
   "source": [
    "string_1 = 'abc'\n",
    "string_2 = 'ABC'\n",
    "print(string_1 == string_2)"
   ],
   "metadata": {
    "collapsed": false,
    "ExecuteTime": {
     "end_time": "2024-01-13T11:37:13.377464050Z",
     "start_time": "2024-01-13T11:37:13.367793186Z"
    }
   },
   "id": "a7e9acc466ada420",
   "execution_count": 2
  },
  {
   "cell_type": "markdown",
   "source": [
    "Ex 2.3\n",
    "Представьте, что вы работаете аналитиком данных в больнице. Переменная glucose содержит результат измерения уровня \n",
    "сахара в крови пациента (ммоль/л). Какой из вариантов кода поможет вам проверить, страдает ли пациент диабетом, \n",
    "если о наличии болезни свидетельствует уровень сахара выше либо равный 6 ммоль/л?"
   ],
   "metadata": {
    "collapsed": false
   },
   "id": "b9d45ac12a1c9445"
  },
  {
   "cell_type": "code",
   "outputs": [
    {
     "name": "stdout",
     "output_type": "stream",
     "text": [
      "Glucose is bigger than 6\n"
     ]
    }
   ],
   "source": [
    "glucose = 6\n",
    "if glucose >= 6:\n",
    "    print(\"Glucose is bigger than 6\")\n",
    "else:\n",
    "    print(\"Glucose is smaller than 6\")"
   ],
   "metadata": {
    "collapsed": false,
    "ExecuteTime": {
     "end_time": "2024-02-06T10:19:57.226819560Z",
     "start_time": "2024-02-06T10:19:57.222717867Z"
    }
   },
   "id": "9891cab5c6a04e07",
   "execution_count": 1
  },
  {
   "cell_type": "markdown",
   "source": [
    "Ex 2.4\n",
    "Напишите условие, которое проверяет, является ли строка палиндромом.\n",
    "Палиндром читается одинаково слева направо и справа налево. Например: \"шалаш\", \"казак\", \"мадам\", \"коту тащат уток\".\n",
    "Строка, которую мы хотим проверить, находится в переменной target_string. "
   ],
   "metadata": {
    "collapsed": false
   },
   "id": "799a60826749877f"
  },
  {
   "cell_type": "code",
   "outputs": [
    {
     "name": "stdout",
     "output_type": "stream",
     "text": [
      "it is NOT a palindrome\n"
     ]
    }
   ],
   "source": [
    "target_string = input(\"Enter a palindrome:\")\n",
    "if target_string[::-1] == target_string:\n",
    "    print(\"it is a palindrome\")\n",
    "else:\n",
    "    print(\"it is NOT a palindrome\")"
   ],
   "metadata": {
    "collapsed": false,
    "ExecuteTime": {
     "end_time": "2024-01-13T11:44:44.934982673Z",
     "start_time": "2024-01-13T11:44:41.881201145Z"
    }
   },
   "id": "ff5cf1b392dc826e",
   "execution_count": 6
  },
  {
   "cell_type": "markdown",
   "source": [
    "Ex 2.5\n",
    "В разговорной речи иногда можно услышать оправдание: «Не-не-не, это не правда». С помощью логических операторов в Python это \n",
    "высказывание можно записать так:\n",
    "```python\n",
    "not not not not True\n",
    "```\n",
    "Чему будет равно значение такого логического выражения? "
   ],
   "metadata": {
    "collapsed": false
   },
   "id": "3f2e7e50c2e93414"
  },
  {
   "cell_type": "code",
   "outputs": [
    {
     "name": "stdout",
     "output_type": "stream",
     "text": [
      "True\n"
     ]
    }
   ],
   "source": [
    "sentence = not not not not True\n",
    "print(sentence)"
   ],
   "metadata": {
    "collapsed": false,
    "ExecuteTime": {
     "end_time": "2024-01-13T11:46:24.846630721Z",
     "start_time": "2024-01-13T11:46:24.805086164Z"
    }
   },
   "id": "80af028fd28505dc",
   "execution_count": 7
  },
  {
   "cell_type": "markdown",
   "source": [
    "Ex 2.6\n",
    "Чему равны значения выражений ниже?\n",
    "\n",
    "A:\n",
    "not True or (True and not True)\n",
    "\n",
    "B:   \n",
    "not\n",
    "False\n",
    "and\n",
    "True\n",
    "or\n",
    "False\n",
    "and\n",
    "not\n",
    "True    "
   ],
   "metadata": {
    "collapsed": false
   },
   "id": "a3d94b0668992e97"
  },
  {
   "cell_type": "code",
   "outputs": [
    {
     "name": "stdout",
     "output_type": "stream",
     "text": [
      "False True\n"
     ]
    }
   ],
   "source": [
    "sentence_a = not True or (True and not True)\n",
    "sentence_b = not False and True or False and not True\n",
    "print(sentence_a, sentence_b)"
   ],
   "metadata": {
    "collapsed": false,
    "ExecuteTime": {
     "end_time": "2024-01-13T11:48:21.536744179Z",
     "start_time": "2024-01-13T11:48:21.495283830Z"
    }
   },
   "id": "98dd5ceb5315225",
   "execution_count": 8
  },
  {
   "cell_type": "markdown",
   "source": [
    "Ex 2.7\n",
    "Каково значение переменных z, v и w после выполнения кода ниже?\n",
    "x = 10\n",
    "y = 100\n",
    "z = (x % 2 == 0) and (y >= 100)\n",
    "v = (x % 2 == 0) or (y >= 100)\n",
    "w = not(x % 2 == 0) or not (y >= 100)"
   ],
   "metadata": {
    "collapsed": false
   },
   "id": "172aad32220670a1"
  },
  {
   "cell_type": "code",
   "outputs": [
    {
     "name": "stdout",
     "output_type": "stream",
     "text": [
      "True True False\n"
     ]
    }
   ],
   "source": [
    "x = 10\n",
    "y = 100\n",
    "z = (x % 2 == 0) and (y >= 100)\n",
    "v = (x % 2 == 0) or (y >= 100)\n",
    "w = not(x % 2 == 0) or not (y >= 100)\n",
    "print(z, v, w)"
   ],
   "metadata": {
    "collapsed": false,
    "ExecuteTime": {
     "end_time": "2024-01-13T11:50:16.453405849Z",
     "start_time": "2024-01-13T11:50:16.412117894Z"
    }
   },
   "id": "ebb09068b405e801",
   "execution_count": 9
  },
  {
   "cell_type": "markdown",
   "source": [
    "Ex 2.8\n",
    "Напишите условие, которое проверяет, что значение переменной a, возведенное в квадрат строго больше, чем значение переменных b и c одновременно.\n",
    "Результатом работы условия должно стать булево значение — True или False, в зависимости от выполнения заданного условия.\n",
    "Занесите этот результат в переменную result."
   ],
   "metadata": {
    "collapsed": false
   },
   "id": "b59874832b9d09b3"
  },
  {
   "cell_type": "code",
   "outputs": [
    {
     "name": "stdout",
     "output_type": "stream",
     "text": [
      "False\n"
     ]
    }
   ],
   "source": [
    "a = float(input(\"Enter a num:\"))\n",
    "b = float(input(\"Enter b num:\"))\n",
    "c = float(input(\"Enter c num:\"))\n",
    "\n",
    "if a**2 > (b**2 + c**2):\n",
    "    result = True\n",
    "else:\n",
    "    result = False\n",
    "print(result)"
   ],
   "metadata": {
    "collapsed": false,
    "ExecuteTime": {
     "end_time": "2024-01-13T11:55:25.008543252Z",
     "start_time": "2024-01-13T11:55:21.399606499Z"
    }
   },
   "id": "4be38f7c8c3e77f2",
   "execution_count": 12
  },
  {
   "cell_type": "markdown",
   "source": [
    "Ex 2.9\n",
    "Представьте, что вы работаете аналитиком данных в больнице. Пусть переменные diagnosis_1, diagnosis_2 и diagnosis_3 хранят \n",
    "информацию о наличии у пациента различных хронических заболеваний (yes — да, no — нет). \n",
    "Реализуйте условие, которое проверяет, страдает ли пациент хотя бы от одного из них?\n",
    "Результатом должно стать булево значение — True или False. Занесите этот результат в переменную result."
   ],
   "metadata": {
    "collapsed": false
   },
   "id": "63108a4bfb4a91d9"
  },
  {
   "cell_type": "code",
   "outputs": [
    {
     "name": "stdout",
     "output_type": "stream",
     "text": [
      "True\n"
     ]
    }
   ],
   "source": [
    "diagnosis_1 = input(\"Enter yes or no for the first diagnosis:\")\n",
    "diagnosis_2 = input(\"Enter yes or no for the second diagnosis:\")\n",
    "diagnosis_3 = input(\"Enter yes or no for the third diagnosis:\")\n",
    "\n",
    "if diagnosis_1 == \"yes\" or diagnosis_2 == \"yes\" or diagnosis_3 == \"yes\":\n",
    "    result = True\n",
    "else:\n",
    "    result = False\n",
    "print(result)"
   ],
   "metadata": {
    "collapsed": false,
    "ExecuteTime": {
     "end_time": "2024-01-13T11:58:15.383051399Z",
     "start_time": "2024-01-13T11:58:09.289219302Z"
    }
   },
   "id": "f0e727f7476fc718",
   "execution_count": 14
  },
  {
   "cell_type": "markdown",
   "source": [
    "Ex 2.10\n",
    "Что будет результатом выполнения следующей программы:\n",
    "```python\n",
    "a = [1, 2, 3]\n",
    "b = a\n",
    "c = [1, 2, 3]\n",
    "print(a == b, a == c, a is b, a is c)\n",
    "```"
   ],
   "metadata": {
    "collapsed": false
   },
   "id": "271aecdac0b64d17"
  },
  {
   "cell_type": "code",
   "outputs": [
    {
     "name": "stdout",
     "output_type": "stream",
     "text": [
      "True True True False\n"
     ]
    }
   ],
   "source": [
    "a = [1, 2, 3]\n",
    "b = a\n",
    "c = [1, 2, 3]\n",
    "print(a == b, a == c, a is b, a is c)"
   ],
   "metadata": {
    "collapsed": false,
    "ExecuteTime": {
     "end_time": "2024-01-13T11:58:41.569847176Z",
     "start_time": "2024-01-13T11:58:41.523828224Z"
    }
   },
   "id": "ccb9d6f77dadaa49",
   "execution_count": 15
  },
  {
   "cell_type": "markdown",
   "source": [
    "Ex 3.1\n",
    "Дано n-значное целое число N. Напишите условие для проверки того, входят ли в заданное число цифры 3 и 7.\n",
    "Результатом выполнения условия должно стать значение True или False. Занесите этот результат в переменную contains"
   ],
   "metadata": {
    "collapsed": false
   },
   "id": "7f37296aaf1cf1cf"
  },
  {
   "cell_type": "code",
   "outputs": [
    {
     "name": "stdout",
     "output_type": "stream",
     "text": [
      "True\n"
     ]
    }
   ],
   "source": [
    "N_num = 123456789\n",
    "if '3' and '7' in str(N_num):\n",
    "    contains = True\n",
    "else:\n",
    "    contains = False\n",
    "print(contains)"
   ],
   "metadata": {
    "collapsed": false,
    "ExecuteTime": {
     "end_time": "2024-02-06T13:10:56.365079038Z",
     "start_time": "2024-02-06T13:10:56.361370769Z"
    }
   },
   "id": "9688edc33b26e9d7",
   "execution_count": 1
  },
  {
   "cell_type": "markdown",
   "source": [
    "Ex 3.2\n",
    "Шахматная фигура передвигается по доске 8x8 клеток. Нумерация клеток по горизонтальной ведётся с помощью первых 8 латинских букв, а по \n",
    "вертикальной — с помощью цифр от 1 до 8.\n",
    "Координатам по горизонтальной и вертикальной осям шахматной доски, в которые должна переместиться фигура, соответствуют переменные x и y:\n",
    "```python\n",
    "x, y = 'F', 7\n",
    "```\n",
    "Напишите условие проверки корректности хода. Ход считается корректным, если новые координаты фигуры не выходят за пределы шахматной доски.\n",
    "Результат работы условия присвойте переменной move_is_correct, в которой должно содержаться значение True или False в зависимости от \n",
    "того, является ли ход корректным."
   ],
   "metadata": {
    "collapsed": false
   },
   "id": "560c0e0d2ed4dde0"
  },
  {
   "cell_type": "code",
   "outputs": [
    {
     "name": "stdout",
     "output_type": "stream",
     "text": [
      "True\n"
     ]
    }
   ],
   "source": [
    "field_x = 123456789\n",
    "field_y = 'ABCDEFGH'\n",
    "y, x = 'F', 7\n",
    "if str(x) in str(field_x) and y in field_y:\n",
    "    move_is_correct = True\n",
    "else:\n",
    "    move_is_correct = False\n",
    "print(move_is_correct)"
   ],
   "metadata": {
    "collapsed": false,
    "ExecuteTime": {
     "end_time": "2024-02-06T13:33:48.785760633Z",
     "start_time": "2024-02-06T13:33:48.780345401Z"
    }
   },
   "id": "5de369b3354092a3",
   "execution_count": 3
  },
  {
   "cell_type": "markdown",
   "source": [
    "Ex 3.3\n",
    "Дано n-значное целое число N. Реализуйте условие для проверки того, начинается ли число N с четной цифры.\n",
    "Результатом работы условия должно стать булево значение True или False. Занесите этот результат в \n",
    "переменную first_is_even"
   ],
   "metadata": {
    "collapsed": false
   },
   "id": "611587c17c1eac9a"
  },
  {
   "cell_type": "code",
   "outputs": [
    {
     "name": "stdout",
     "output_type": "stream",
     "text": [
      "24\n",
      "True\n"
     ]
    }
   ],
   "source": [
    "N_num = int(input(\"Enter\"))\n",
    "print(N_num)\n",
    "if int(str(N_num)[0]) % 2 == 0:\n",
    "    first_is_even = True\n",
    "else:\n",
    "    first_is_even = False\n",
    "print(first_is_even)"
   ],
   "metadata": {
    "collapsed": false,
    "ExecuteTime": {
     "end_time": "2024-02-06T13:46:36.708832471Z",
     "start_time": "2024-02-06T13:46:34.725350881Z"
    }
   },
   "id": "81c77af78af524a2",
   "execution_count": 6
  },
  {
   "cell_type": "markdown",
   "source": [
    "Ex 3.4\n",
    "Напишите условие, которое проверяет, что год является високосным.\n",
    "Известно, что год является високосным при выполнении хотя бы одного из следующих условий:\n",
    "Номер года делится (без остатка) на 400.\n",
    "Номер года делится (без остатка) на 4 и не делится на 100 одновременно.\n",
    "Номер года находится в переменной year.\n",
    "Результат выполнения условия занесите в переменную year_is_leap. Её значение должно быть равно True или False, в зависимости от \n",
    "того, является ли заданный год високосным. "
   ],
   "metadata": {
    "collapsed": false
   },
   "id": "a916cf9bfffdc684"
  },
  {
   "cell_type": "code",
   "outputs": [
    {
     "name": "stdout",
     "output_type": "stream",
     "text": [
      "2024\n",
      "True\n"
     ]
    }
   ],
   "source": [
    "year = int(input(\"input a year\"))\n",
    "print(year)\n",
    "if (year % 400 == 0) or (year % 4 == 0 and year % 100 != 0):\n",
    "    year_is_leap = True\n",
    "else:\n",
    "    year_is_leap = False\n",
    "print(year_is_leap)"
   ],
   "metadata": {
    "collapsed": false,
    "ExecuteTime": {
     "end_time": "2024-02-06T13:50:01.860204760Z",
     "start_time": "2024-02-06T13:49:59.150445032Z"
    }
   },
   "id": "93ea02b9fe1e0d69",
   "execution_count": 9
  },
  {
   "cell_type": "markdown",
   "source": [
    "Ex 3.5\n",
    "Шоколадка имеет вид прямоугольника размером n*m долек. Шоколадку можно один раз разломить по прямой на две части.\n",
    "Необходимо реализовать условие, проверяющее, можно ли таким образом отломить от шоколадки часть, состоящую ровно \n",
    "из k долек. \n",
    "Два примера таких разделений — по горизонтали и вертикали — приведены на рисунке.\n",
    "Информация о количестве долек в ширину и длину шоколадки, а также количество долек, которое должно получиться \n",
    "после разделения, содержится в переменных n, m и k соответственно.\n",
    "Не забудьте также учесть, что количество долек, получаемое в остатке, должно быть строго меньше, чем общее \n",
    "количество долек, из которых состоит шоколадка.\n",
    "Результат работы условия занесите в переменную result, значение которой равно True или False в зависимости от \n",
    "выполнения условия."
   ],
   "metadata": {
    "collapsed": false
   },
   "id": "937d344ff6770cc6"
  },
  {
   "cell_type": "code",
   "outputs": [
    {
     "name": "stdout",
     "output_type": "stream",
     "text": [
      "True\n"
     ]
    }
   ],
   "source": [
    "m = 4\n",
    "n = 5\n",
    "k = input(\"Enter a number:\")\n",
    "if (int(k) % m == 0 or int(k) % n == 0) and n * m >= int(k):\n",
    "    result = True\n",
    "else:\n",
    "    result = False\n",
    "print(result)"
   ],
   "metadata": {
    "collapsed": false,
    "ExecuteTime": {
     "end_time": "2024-02-13T11:00:16.213290219Z",
     "start_time": "2024-02-13T11:00:14.977972300Z"
    }
   },
   "id": "3ba2c963e4ae4b18",
   "execution_count": 2
  },
  {
   "cell_type": "markdown",
   "source": [
    "Ex 3.6\n",
    "Представьте, что вы обрабатываете заполненные пользователями онлайн-заявки. Переменная phone в виде строки хранит указанный \n",
    "пользователем номер телефона и None, если соответствующее поле в анкете заполнено не было.\n",
    "Реализуйте условие, которое проверит, оставил ли пользователь номер телефона. Результатом работы условия должно стать булево \n",
    "значение True или False в зависимости от того, заполнено ли поле с номером телефона.\n",
    "Результат занесите в переменную phone_is_defined."
   ],
   "metadata": {
    "collapsed": false
   },
   "id": "1fe9b7fa2041b1fa"
  },
  {
   "cell_type": "code",
   "outputs": [
    {
     "name": "stdout",
     "output_type": "stream",
     "text": [
      "None\n",
      "False\n"
     ]
    }
   ],
   "source": [
    "#89169588275\n",
    "phone = input(\"enter your phone\")\n",
    "print(phone)\n",
    "if phone.isdigit() and not None and len(phone) >= 4:\n",
    "    phone_is_defined = True\n",
    "else:\n",
    "    phone_is_defined = False\n",
    "print(phone_is_defined)"
   ],
   "metadata": {
    "collapsed": false,
    "ExecuteTime": {
     "end_time": "2024-02-14T07:59:24.607418590Z",
     "start_time": "2024-02-14T07:59:22.783707725Z"
    }
   },
   "id": "cbf85ddcc086e451",
   "execution_count": 4
  },
  {
   "cell_type": "markdown",
   "source": [
    "Ex 3.7\n",
    "В словаре arrival_of_goods хранится информация о приходах товара на склад интернет-магазина. Ключами этого словаря являются номера \n",
    "накладных, а значениями — словари, в которых содержится информация о товаре и его количестве в каждой из накладной.\n",
    "```python\n",
    "arrival_of_goods = {\n",
    "    '148902': {\n",
    "        'Футболка с принтом': 180,\n",
    "        'Свитшот черный': 245,\n",
    "        'Джинсы серые': 252\n",
    "    },\n",
    "    '893516': {\n",
    "        'Футболка с принтом': 43,\n",
    "        'Свитшот черный': 64,\n",
    "        'Джинсы черные': 102\n",
    "    },\n",
    "    '893481': {\n",
    "        'Кружка керамическая': 35,\n",
    "        'Свитшот черный': 10,\n",
    "        'Джинсы сервые': 14\n",
    "    }\n",
    "}\n",
    "```\n",
    "Мы проводим аналитику прихода товара на склад. В переменной invoice_number содержится номер накладной, который мы хотим найти.\n",
    "С помощью метода словарей get() и проверки на None реализуйте условие, которое проверяет, есть ли в истории прихода накладная \n",
    "с указанным в переменной invoice_number номером.\n",
    "Результатом работы условия должна стать булева переменная со значением True или False в зависимости от того, существует ли в \n",
    "системе указанная накладная.\n",
    "Результат занесите в переменную invoice_exists."
   ],
   "metadata": {
    "collapsed": false
   },
   "id": "3810c955bcf87795"
  },
  {
   "cell_type": "code",
   "outputs": [
    {
     "name": "stdout",
     "output_type": "stream",
     "text": [
      "False\n"
     ]
    }
   ],
   "source": [
    "invoice_number = '148902'\n",
    "arrival_of_goods = {\n",
    "    '148902': {\n",
    "        'Футболка с принтом': 180,\n",
    "        'Свитшот черный': 245,\n",
    "        'Джинсы серые': 252\n",
    "    },\n",
    "    '893516': {\n",
    "        'Футболка с принтом': 43,\n",
    "        'Свитшот черный': 64,\n",
    "        'Джинсы черные': 102\n",
    "    },\n",
    "    '893481': {\n",
    "        'Кружка керамическая': 35,\n",
    "        'Свитшот черный': 10,\n",
    "        'Джинсы сервые': 14\n",
    "    }\n",
    "}\n",
    "if arrival_of_goods.get(invoice_number) is not None:\n",
    "    invoice_exists = True\n",
    "else:\n",
    "    invoice_exists = False\n",
    "print(invoice_exists)"
   ],
   "metadata": {
    "collapsed": false,
    "ExecuteTime": {
     "end_time": "2024-02-14T11:14:29.567229924Z",
     "start_time": "2024-02-14T11:14:29.563658868Z"
    }
   },
   "id": "ae9778ed29102aa9",
   "execution_count": 2
  },
  {
   "cell_type": "markdown",
   "source": [
    "Ex 4.1\n",
    "Определите, чему будет равно значение переменной a после выполнения каждой из программ:"
   ],
   "metadata": {
    "collapsed": false
   },
   "id": "54f003cb9f3d6b1"
  },
  {
   "cell_type": "code",
   "outputs": [
    {
     "name": "stdout",
     "output_type": "stream",
     "text": [
      "#1\n",
      "3 \n",
      "\n",
      "#2\n",
      "b2= 30\n",
      "16 \n",
      "\n",
      "#3\n",
      "3 \n",
      "\n",
      "#4\n",
      "24 \n",
      "\n",
      "#5\n",
      "10 \n",
      "\n",
      "#6\n",
      "a=F( 16 )\n",
      "7 \n",
      "\n",
      "#7\n",
      "5 \n",
      "\n",
      "#8\n",
      "7 \n"
     ]
    }
   ],
   "source": [
    "#1\n",
    "print('#1')\n",
    "a1 = 10\n",
    "if a1 < 5:\n",
    "    a1 = a1 + 12\n",
    "else:\n",
    "    a1 = a1 - 7\n",
    "print(a1, \"\\n\")\n",
    "\n",
    "#2\n",
    "print('#2')\n",
    "a2 = 16\n",
    "b2 = 14 + a2\n",
    "print(\"b2=\",b2)\n",
    "print(a2, \"\\n\")\n",
    "\n",
    "#3\n",
    "print('#3')\n",
    "a3 = 11\n",
    "if a3 < 6:\n",
    "    a3 = a3 + 13\n",
    "else:\n",
    "    a3 = a3 - 8\n",
    "print(a3, \"\\n\")\n",
    "\n",
    "#4\n",
    "print('#4')\n",
    "a4 = 11\n",
    "if a4 > 6:\n",
    "    a4 = a4 + 13\n",
    "else:\n",
    "    a4 = a4 - 8\n",
    "print(a4, \"\\n\")\n",
    "\n",
    "#5\n",
    "print('#5')\n",
    "a5 = 15\n",
    "if a5 > 5:\n",
    "    a5 = 10\n",
    "print(a5, \"\\n\")\n",
    "\n",
    "#6\n",
    "print('#6')\n",
    "a6 = 7\n",
    "b6 = 9 + a6\n",
    "print(\"a=F(\",b6,\")\")\n",
    "print(a6, \"\\n\")\n",
    "\n",
    "#7\n",
    "print('#7')\n",
    "a7  = -3\n",
    "if a7 < 5:\n",
    "    a7 = 5\n",
    "print(a7, \"\\n\")\n",
    "\n",
    "#8\n",
    "print('#8')\n",
    "a8 = 15\n",
    "if a8 > 5:\n",
    "    a8 = 5\n",
    "a8 = a8 + 2\n",
    "print(a8, \"\\n\")"
   ],
   "metadata": {
    "collapsed": false,
    "ExecuteTime": {
     "end_time": "2024-02-14T11:47:24.212126236Z",
     "start_time": "2024-02-14T11:47:24.205695637Z"
    }
   },
   "id": "85b904b2fc419957",
   "execution_count": 7
  },
  {
   "cell_type": "markdown",
   "source": [
    "Ex 4.2\n",
    "Что будет выведено на экран в результате выполнения фрагмента кода ниже?\n",
    "```python\n",
    "s = 5\n",
    "a = 10\n",
    "if a > 0:\n",
    "   s = s + a\n",
    "else:\n",
    "   s = s - a\n",
    " \n",
    "print(s)\n",
    "```"
   ],
   "metadata": {
    "collapsed": false
   },
   "id": "465ff46379ffc273"
  },
  {
   "cell_type": "code",
   "outputs": [
    {
     "name": "stdout",
     "output_type": "stream",
     "text": [
      "15\n"
     ]
    }
   ],
   "source": [
    "s = 5\n",
    "a = 10\n",
    "if a > 0:\n",
    "    s = s + a\n",
    "else:\n",
    "    s = s - a\n",
    "print(s)"
   ],
   "metadata": {
    "collapsed": false,
    "ExecuteTime": {
     "end_time": "2024-02-14T11:48:58.949122908Z",
     "start_time": "2024-02-14T11:48:58.908120552Z"
    }
   },
   "id": "c7089d4b566c433",
   "execution_count": 8
  },
  {
   "cell_type": "markdown",
   "source": [
    "Ex 4.3\n",
    "Начинающий программист торопился и допустил в своей программе несколько синтаксических ошибок. Ваша задача — исправить код так, \n",
    "чтобы он отработал без синтаксических ошибок:\n",
    "```python\n",
    "mx = 0\n",
    "s = 0\n",
    "\n",
    "    x = -5\n",
    "    if x < 0\n",
    "        s = x\n",
    "\n",
    "if x > mx\n",
    "    mx = x\n",
    "\n",
    "print(s)\n",
    "print(mx)\n",
    "```"
   ],
   "metadata": {
    "collapsed": false
   },
   "id": "ce98f04b280922c1"
  },
  {
   "cell_type": "code",
   "outputs": [
    {
     "name": "stdout",
     "output_type": "stream",
     "text": [
      "-5\n",
      "0\n"
     ]
    }
   ],
   "source": [
    "mx = 0\n",
    "s = 0\n",
    "\n",
    "x = -5\n",
    "if x < 0:\n",
    "    s = x\n",
    "\n",
    "if x > mx:\n",
    "    mx = x\n",
    "\n",
    "print(s)\n",
    "print(mx)"
   ],
   "metadata": {
    "collapsed": false,
    "ExecuteTime": {
     "end_time": "2024-02-14T11:51:52.665086856Z",
     "start_time": "2024-02-14T11:51:52.624478414Z"
    }
   },
   "id": "b46c563572e06c64",
   "execution_count": 9
  },
  {
   "cell_type": "markdown",
   "source": [
    "Ex 4.4\n",
    "Вам необходимо запрограммировать сенсор в общественном помещении, который определяет количество человек.\n",
    "Если людей в помещении меньше 10, то на табло должно гореть сообщение «Добро пожаловать!», а в противном случае — «Всё занято. Подождите!».\n",
    "Количество человек в помещении хранится в переменной people_count. Организуйте вывод на табло с помощью функции print().\n",
    "Примеры работы программы:\n",
    "```python\n",
    "people_count = 5\n",
    "# Добро пожаловать!\n",
    "\n",
    "people_count = 10\n",
    "# Всё занято. Подождите!\n",
    "```"
   ],
   "metadata": {
    "collapsed": false
   },
   "id": "a79fb177f9464884"
  },
  {
   "cell_type": "code",
   "outputs": [],
   "source": [
    "people_count = input(\"\")"
   ],
   "metadata": {
    "collapsed": false
   },
   "id": "1d6a861b0890c7e5"
  },
  {
   "cell_type": "markdown",
   "source": [
    "Ex 4.5\n",
    "Представьте, что вам нужно написать программу, которая запрашивает у пользователя пароль для входа и проверяет, верен ли он. Верный \n",
    "пароль хранится в переменной password. Пароль, который вводит пользователь, хранится в переменной answer.\n",
    "Напишите часть кода, которая отвечает за проверку ввода пароля: если верный, то выводится информация «Добро пожаловать!», если неверный, \n",
    "то «Вы ввели неверный пароль!».\n",
    "Примеры работы программы:\n",
    "```python\n",
    "password = '879f2aabS'\n",
    "answer = '879f2aabS'\n",
    "# Добро пожаловать!\n",
    "\n",
    "password = '879f2aabS'\n",
    "answer = '879f2aabs'\n",
    "# Вы ввели неверный пароль!\n",
    "```"
   ],
   "metadata": {
    "collapsed": false
   },
   "id": "1413b549d41e2bd3"
  },
  {
   "cell_type": "markdown",
   "source": [
    "Ex 4.6\n",
    "Пользователь вводит своё имя и возраст, их значения хранятся в переменных name и age соответственно.\n",
    "Если возраст пользователя больше либо равен 18, то программа должна вывести строку \"Добрый вечер, <name>!\", меньше — \"Привет, <name>! \n",
    "Приносим свои извинения, но вы не можете гулять после 22:00\".\n",
    "Примеры работы программы:\n",
    "```python\n",
    "name = 'Андрей'\n",
    "age = 21\n",
    "# \"Добрый вечер, Андрей!\"\n",
    "\n",
    "name = 'Павел'\n",
    "age = 17\n",
    "# Привет, Павел! Приносим свои извинения, но вы не можете гулять после 22:00\n",
    "```"
   ],
   "metadata": {
    "collapsed": false
   },
   "id": "1502d230a73e95da"
  },
  {
   "cell_type": "markdown",
   "source": [
    "Ex 4.7\n",
    "Используя вложенный условный оператор, напишите программу, которая проверяет, что число number делится на 2 и на 5 без остатка.\n",
    "1. Если число делится на 2 и на 5, программа должна выводить на экран фразу \"<число> делится на 2 и на 5\".\n",
    "2. Если число делится на 2, но не делится на 5 — программа должна выводить на экран фразу \"<число> делится на 2, но не делится на 5\".\n",
    "3. Если число не делится на 2, но делится на 5 — программа должна выводить на экран фразу \"<число> не делится на 2, но делится на 5\".\n",
    "4. Если число не делится ни на 2, ни на 5 — программа должна выводить на экран фразу \"<число> не делится ни на 2, ни на 5\".\n",
    "Примеры работы программы:\n",
    "```python\n",
    "number = 200\n",
    "# 200 делится на 2 и на 5\n",
    "\n",
    "number = 8\n",
    "# 8 делится на 2, но не делится на 5\n",
    "\n",
    "number = 15\n",
    "# 15 не делится на 2, но делится на 5\n",
    "\n",
    "number = 27\n",
    "# 27 не делится ни на 2, ни на 5\n",
    "\n",
    "```"
   ],
   "metadata": {
    "collapsed": false
   },
   "id": "c5a7aaff76b03199"
  },
  {
   "cell_type": "markdown",
   "source": [
    "Ex 4.8\n",
    "Чему будет равно значение переменной result в результате выполнения следующей программы?\n",
    "```python\n",
    "result = 10\n",
    "my_dict = {'key_1': 10}\n",
    "item = my_dict.pop('key_1')\n",
    "if my_dict:\n",
    "    result = result + item\n",
    "else:\n",
    "    result = result + 1\n",
    " \n",
    "print(result)\n",
    "```"
   ],
   "metadata": {
    "collapsed": false
   },
   "id": "9d6e1ee4aca14933"
  },
  {
   "cell_type": "markdown",
   "source": [
    "Ex 4.9\n",
    "Пусть задан список lst:\n",
    "```python\n",
    "lst = ['a', 'b', 'c']\n",
    "```\n",
    "Запишите следующую условную конструкцию, используя тернарный оператор:\n",
    "```python\n",
    "if 'f' in lst:\n",
    "    x = 5\n",
    "else:\n",
    "    x = None\n",
    "```"
   ],
   "metadata": {
    "collapsed": false
   },
   "id": "352a08219ec00381"
  },
  {
   "cell_type": "markdown",
   "source": [
    "Ex 4.10\n",
    "Нам нужно установить конкретную ставку скидки в зависимости от того, соответствует ли клиент критериям. По умолчанию наше приложение \n",
    "для бронирования мероприятий предоставляет всем клиентам скидку 10%; однако клиенты в возрасте 60 лет и старше имеют право на скидку 20%.\n",
    "С помощью тернарного оператора напишите программу, которая определяет скидку клиента. Возраст клиента хранится в переменной cust_age.\n",
    "Значение скидки занесите в переменную cust_discount.\n",
    "Примеры работы программы:\n",
    "```python\n",
    "cust_age = 40\n",
    "# cust_discount  = 10\n",
    "\n",
    "cust_age = 68\n",
    "# cust_discount  = 20\n",
    "\n",
    "```"
   ],
   "metadata": {
    "collapsed": false
   },
   "id": "e7106fc37083e362"
  }
 ],
 "metadata": {
  "kernelspec": {
   "display_name": "Python 3",
   "language": "python",
   "name": "python3"
  },
  "language_info": {
   "codemirror_mode": {
    "name": "ipython",
    "version": 2
   },
   "file_extension": ".py",
   "mimetype": "text/x-python",
   "name": "python",
   "nbconvert_exporter": "python",
   "pygments_lexer": "ipython2",
   "version": "2.7.6"
  }
 },
 "nbformat": 4,
 "nbformat_minor": 5
}
