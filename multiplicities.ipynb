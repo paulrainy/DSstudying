{
 "cells": [
  {
   "cell_type": "raw",
   "source": [
    "Ex 4.1\n",
    "Создайте с помощью конструктора типов пустое множество s1. Выведите результат. В качестве ответа запишите результат вывода."
   ],
   "metadata": {
    "collapsed": false
   },
   "id": "9a2445f5d2dc48b7"
  },
  {
   "cell_type": "code",
   "execution_count": 1,
   "id": "initial_id",
   "metadata": {
    "collapsed": true,
    "ExecuteTime": {
     "end_time": "2023-12-05T13:45:36.630485601Z",
     "start_time": "2023-12-05T13:45:36.627305379Z"
    }
   },
   "outputs": [
    {
     "name": "stdout",
     "output_type": "stream",
     "text": [
      "set()\n"
     ]
    }
   ],
   "source": [
    "s1Set = set()\n",
    "print(s1Set)"
   ]
  },
  {
   "cell_type": "markdown",
   "source": [
    "Ex 4.2\n",
    "Создайте с помощью фигурных скобок множество s2, в котором будет пять элементов: 5, 10, 3, 2, 11. \n",
    "В качестве ответа запишите получившуюся строку кода."
   ],
   "metadata": {
    "collapsed": false
   },
   "id": "d3b190e221144599"
  },
  {
   "cell_type": "code",
   "execution_count": 2,
   "outputs": [
    {
     "name": "stdout",
     "output_type": "stream",
     "text": [
      "{2, 3, 5, 10, 11}\n"
     ]
    }
   ],
   "source": [
    "s2Set = {5, 10, 3, 2, 11}\n",
    "print(s2Set)"
   ],
   "metadata": {
    "collapsed": false,
    "ExecuteTime": {
     "end_time": "2023-12-05T13:46:59.864736372Z",
     "start_time": "2023-12-05T13:46:59.849074839Z"
    }
   },
   "id": "bfbe906dc49ca299"
  },
  {
   "cell_type": "markdown",
   "source": [
    "Ex 4.3\n",
    "Создайте множество s3 с помощью конструктора типов из строки 'wow thats cool'. Выведите результат.\n",
    "В качестве ответа запишите результат вывода в окне ниже."
   ],
   "metadata": {
    "collapsed": false
   },
   "id": "64977e648c1c177b"
  },
  {
   "cell_type": "code",
   "execution_count": 6,
   "outputs": [
    {
     "name": "stdout",
     "output_type": "stream",
     "text": [
      "{'w', ' ', 'c', 'o', 's', 'h', 'a', 'l', 't'}\n"
     ]
    }
   ],
   "source": [
    "s3Set = set(\"wow thats cool\")\n",
    "print(s3Set)"
   ],
   "metadata": {
    "collapsed": false,
    "ExecuteTime": {
     "end_time": "2023-12-05T13:49:57.312841497Z",
     "start_time": "2023-12-05T13:49:57.306130077Z"
    }
   },
   "id": "1a4a1aad0b0cb7a4"
  },
  {
   "cell_type": "markdown",
   "source": [
    "Ex 4.4\n",
    "Создайте множество s1 из первых пяти строчных букв английского языка. Затем с помощью метода .add() добавьте новый элемент со значением 'hello'. \n",
    "Выведите результат.\n",
    "В качестве ответа запишите результат вывода."
   ],
   "metadata": {
    "collapsed": false
   },
   "id": "5f92c40b3abc6e40"
  },
  {
   "cell_type": "code",
   "execution_count": 8,
   "outputs": [
    {
     "name": "stdout",
     "output_type": "stream",
     "text": [
      "{'d', 'e', 'c', 'b', 'a'}\n",
      "{'d', 'e', 'c', 'hello', 'b', 'a'}\n"
     ]
    }
   ],
   "source": [
    "s1Set = {'a', 'b', 'c', 'd', 'e'}\n",
    "print(s1Set)\n",
    "s1Set.add('hello')\n",
    "print(s1Set)"
   ],
   "metadata": {
    "collapsed": false,
    "ExecuteTime": {
     "end_time": "2023-12-05T13:52:22.796465261Z",
     "start_time": "2023-12-05T13:52:22.740400264Z"
    }
   },
   "id": "41bbd9cb7638d43"
  },
  {
   "cell_type": "markdown",
   "source": [
    "Ex 4.5\n",
    "Создайте множество s1 из первых пяти строчных букв английского языка. Затем с помощью метода .remove() удалите элемент 'd'. Выведите s1.\n",
    "В качестве ответа запишите результат вывода."
   ],
   "metadata": {
    "collapsed": false
   },
   "id": "654db2e2abbec66d"
  },
  {
   "cell_type": "code",
   "execution_count": 9,
   "outputs": [
    {
     "name": "stdout",
     "output_type": "stream",
     "text": [
      "{'e', 'c', 'hello', 'b', 'a'}\n"
     ]
    }
   ],
   "source": [
    "s1Set.remove('d')\n",
    "print(s1Set)"
   ],
   "metadata": {
    "collapsed": false,
    "ExecuteTime": {
     "end_time": "2023-12-05T14:03:34.147260660Z",
     "start_time": "2023-12-05T14:03:34.105761364Z"
    }
   },
   "id": "e0dccee776c9ed27"
  },
  {
   "cell_type": "markdown",
   "source": [
    "Ex 4.6\n",
    "Создайте множество s1 из первых шести строчных букв английского языка. Вызовите метод .discard() на элементе 'f'. Выведите результат.\n",
    "В качестве ответа запишите результат вывода."
   ],
   "metadata": {
    "collapsed": false
   },
   "id": "3857e11be1aaed6f"
  },
  {
   "cell_type": "code",
   "execution_count": 10,
   "outputs": [
    {
     "name": "stdout",
     "output_type": "stream",
     "text": [
      "{'d', 'e', 'c', 'b', 'a'}\n"
     ]
    }
   ],
   "source": [
    "s1Set = {'a', 'b', 'c', 'd', 'e', 'f'}\n",
    "s1Set.discard('f')\n",
    "print(s1Set)"
   ],
   "metadata": {
    "collapsed": false,
    "ExecuteTime": {
     "end_time": "2023-12-05T14:31:22.559100667Z",
     "start_time": "2023-12-05T14:31:22.518059427Z"
    }
   },
   "id": "2e5017d4baf0bc35"
  },
  {
   "cell_type": "markdown",
   "source": [
    "Ex 4.7\n",
    "Создайте множество s1 из первых шести строчных букв английского языка. Вызовите метод .remove() на элементе 'f'. Выведите результат.\n",
    "В качестве ответа запишите результат вывода."
   ],
   "metadata": {
    "collapsed": false
   },
   "id": "c3ddbf0e1d348420"
  },
  {
   "cell_type": "code",
   "execution_count": 11,
   "outputs": [
    {
     "name": "stdout",
     "output_type": "stream",
     "text": [
      "{'d', 'e', 'c', 'b', 'a'}\n"
     ]
    }
   ],
   "source": [
    "s1Set = {'a', 'b', 'c', 'd', 'e', 'f'}\n",
    "s1Set.remove('f')\n",
    "print(s1Set)"
   ],
   "metadata": {
    "collapsed": false,
    "ExecuteTime": {
     "end_time": "2023-12-05T14:39:12.041769318Z",
     "start_time": "2023-12-05T14:39:12.000462462Z"
    }
   },
   "id": "d81026310094a3e4"
  },
  {
   "cell_type": "markdown",
   "source": [
    "Ex 4.8\n",
    "Создайте множество alpha_set из первых пяти строчных букв английского алфавита. Затем создайте множество name из строки 'bad boy' (преобразуйте \n",
    "строку в множество с помощью функции set()). Примените метод .union() к созданным множествам. Выведите результат.\n",
    "В качестве ответа запишите результат вывода."
   ],
   "metadata": {
    "collapsed": false
   },
   "id": "4054ae97fdaccf73"
  },
  {
   "cell_type": "code",
   "execution_count": 14,
   "outputs": [
    {
     "name": "stdout",
     "output_type": "stream",
     "text": [
      "{'d', 'e', 'c', 'b', 'a'}\n",
      "{'d', ' ', 'o', 'b', 'a', 'y'}\n",
      "{'d', ' ', 'c', 'o', 'b', 'a', 'e', 'y'}\n"
     ]
    }
   ],
   "source": [
    "alphaSet = {'a', 'b', 'c', 'd', 'e'}\n",
    "print(alphaSet)\n",
    "nameSet = set(\"bad boy\")\n",
    "print(nameSet)\n",
    "outputSet = alphaSet.union(nameSet)\n",
    "print(outputSet)"
   ],
   "metadata": {
    "collapsed": false,
    "ExecuteTime": {
     "end_time": "2023-12-05T15:24:24.206518517Z",
     "start_time": "2023-12-05T15:24:24.197830086Z"
    }
   },
   "id": "77f03bf488a8f10"
  },
  {
   "cell_type": "markdown",
   "source": [
    "Ex 4.9\n",
    "Создайте множество num_set из чисел от 0 до 10 (включительно). Затем создайте множество date_num из списка [1,9,4,8]. Примените метод .union() к \n",
    "созданным множествам. Выведите результат. В качестве ответа запишите результат вывода."
   ],
   "metadata": {
    "collapsed": false
   },
   "id": "f748d5792131a673"
  },
  {
   "cell_type": "code",
   "execution_count": 16,
   "outputs": [
    {
     "name": "stdout",
     "output_type": "stream",
     "text": [
      "{0, 1, 2, 3, 4, 5, 6, 7, 8, 9, 10}\n",
      "{8, 1, 4, 9}\n",
      "{0, 1, 2, 3, 4, 5, 6, 7, 8, 9, 10}\n"
     ]
    }
   ],
   "source": [
    "numSet = set(range(0, 11))\n",
    "print(numSet)\n",
    "dateNum = set([1, 9, 4, 8])\n",
    "print(dateNum)\n",
    "outputSet = numSet.union(dateNum)\n",
    "print(outputSet)"
   ],
   "metadata": {
    "collapsed": false,
    "ExecuteTime": {
     "end_time": "2023-12-05T15:26:57.522592667Z",
     "start_time": "2023-12-05T15:26:57.472842226Z"
    }
   },
   "id": "3d21feaadbf52457"
  },
  {
   "cell_type": "markdown",
   "source": [
    "Ex 4.10\n",
    "Создайте множество alpha_set из первых пяти строчных букв английского алфавита. Затем создайте множество name из строки 'bad boy'. \n",
    "Примените метод .intersection() к созданным множествам. Выведите результат.\n",
    "В качестве ответа запишите результат вывода."
   ],
   "metadata": {
    "collapsed": false
   },
   "id": "f0b13512f49d903b"
  },
  {
   "cell_type": "code",
   "execution_count": 18,
   "outputs": [
    {
     "name": "stdout",
     "output_type": "stream",
     "text": [
      "{'d', 'e', 'c', 'b', 'a'} {'d', ' ', 'o', 'b', 'a', 'y'}\n",
      "{'d', 'b', 'a'}\n"
     ]
    }
   ],
   "source": [
    "print(alphaSet, nameSet)\n",
    "outputSet = alphaSet.intersection(nameSet)\n",
    "print(outputSet)"
   ],
   "metadata": {
    "collapsed": false,
    "ExecuteTime": {
     "end_time": "2023-12-05T15:30:31.899255066Z",
     "start_time": "2023-12-05T15:30:31.888689785Z"
    }
   },
   "id": "190b990cdf505c1a"
  },
  {
   "cell_type": "markdown",
   "source": [
    "Ex 4.11\n",
    "Создайте множество num_set из чисел от 0 до 10 (включительно). Затем создайте множество date_num из списка [1,9,4,8]. Примените метод .intersection()\n",
    "к созданным множествам. Выведите результат. В качестве ответа запишите результат вывода."
   ],
   "metadata": {
    "collapsed": false
   },
   "id": "4b72d0d8f597efc6"
  },
  {
   "cell_type": "code",
   "execution_count": 20,
   "outputs": [
    {
     "name": "stdout",
     "output_type": "stream",
     "text": [
      "{0, 1, 2, 3, 4, 5, 6, 7, 8, 9, 10} {8, 1, 4, 9}\n",
      "{8, 1, 4, 9}\n"
     ]
    }
   ],
   "source": [
    "print(numSet, dateNum)\n",
    "outputSet = numSet.intersection(dateNum)\n",
    "print(outputSet)"
   ],
   "metadata": {
    "collapsed": false,
    "ExecuteTime": {
     "end_time": "2023-12-05T15:32:18.734761309Z",
     "start_time": "2023-12-05T15:32:18.727435546Z"
    }
   },
   "id": "a6ea9652896ec6a7"
  },
  {
   "cell_type": "markdown",
   "source": [
    "Ex 4.12\n",
    "Создайте множество alpha_set из первых пяти строчных букв английского алфавита. Затем создайте множество name из строки 'bad boy'. \n",
    "Примените метод .difference() к созданным множествам. В качестве базового множества используйте alpha_set. Выведите результат.\n",
    "В качестве ответа запишите результат вывода."
   ],
   "metadata": {
    "collapsed": false
   },
   "id": "42116055a673d76b"
  },
  {
   "cell_type": "code",
   "execution_count": 22,
   "outputs": [
    {
     "name": "stdout",
     "output_type": "stream",
     "text": [
      "{'d', 'e', 'c', 'b', 'a'} {'d', ' ', 'o', 'b', 'a', 'y'}\n",
      "{'e', 'c'}\n"
     ]
    }
   ],
   "source": [
    "print(alphaSet, nameSet)\n",
    "outputSet = alphaSet.difference(nameSet)\n",
    "print(outputSet)"
   ],
   "metadata": {
    "collapsed": false,
    "ExecuteTime": {
     "end_time": "2023-12-05T15:34:44.995099548Z",
     "start_time": "2023-12-05T15:34:44.953273022Z"
    }
   },
   "id": "b74b7c4ee9fcf285"
  },
  {
   "cell_type": "markdown",
   "source": [
    "Ex 4.13\n",
    "Создайте множество num_set из чисел от 0 до 10 (включительно). Затем создайте множество date_num из списка [1,9,4,8]. Примените \n",
    "метод .difference() к созданным множествам. Метод нужно применить к первому множеству. Выведите результат. В качестве ответа запишите \n",
    "результат вывода."
   ],
   "metadata": {
    "collapsed": false
   },
   "id": "374f36360b54f2c"
  },
  {
   "cell_type": "code",
   "execution_count": 24,
   "outputs": [
    {
     "name": "stdout",
     "output_type": "stream",
     "text": [
      "{0, 1, 2, 3, 4, 5, 6, 7, 8, 9, 10} {8, 1, 4, 9}\n",
      "{0, 2, 3, 5, 6, 7, 10}\n"
     ]
    }
   ],
   "source": [
    "print(numSet, dateNum)\n",
    "outputSet = numSet.difference(dateNum)\n",
    "print(outputSet)"
   ],
   "metadata": {
    "collapsed": false,
    "ExecuteTime": {
     "end_time": "2023-12-05T15:38:06.212316472Z",
     "start_time": "2023-12-05T15:38:06.204507822Z"
    }
   },
   "id": "347de72767bc4ea0"
  }
 ],
 "metadata": {
  "kernelspec": {
   "display_name": "Python 3",
   "language": "python",
   "name": "python3"
  },
  "language_info": {
   "codemirror_mode": {
    "name": "ipython",
    "version": 2
   },
   "file_extension": ".py",
   "mimetype": "text/x-python",
   "name": "python",
   "nbconvert_exporter": "python",
   "pygments_lexer": "ipython2",
   "version": "2.7.6"
  }
 },
 "nbformat": 4,
 "nbformat_minor": 5
}
