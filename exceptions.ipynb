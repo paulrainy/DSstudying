{
 "cells": [
  {
   "cell_type": "markdown",
   "source": [
    "# Ex 6.5\n",
    "Задан словарь medicines с ценами на лекарства в онлайн-аптеке и строка name.\n",
    "\n",
    "С помощью конструкции try-except реализуйте программу, которая печатает на экран значение, хранящееся по ключу из переменной name.\n",
    "Если строка name не является ключом словаря, то на экран через print выводится сообщение «Такого ключа в словаре нет».\n",
    "Примеры работы программы:\n",
    "```python\n",
    "medicines = {'Ибупрофен': 99, 'Эспумизан': 279, 'Пенталгин': 119}\n",
    "name = 'Визин'\n",
    "# Такого ключа в словаре нет\n",
    "\n",
    "medicines = {'Ибупрофен': 99, 'Эспумизан': 279, 'Пенталгин': 119}\n",
    "name = 'Ибупрофен'\n",
    "# 99\n",
    "```\n",
    "Примечание: Для отправки кода на проверку переменные medicines и name объявлять не нужно. Не забудьте удалить строку кода с их объявлением перед тестированием."
   ],
   "metadata": {
    "collapsed": false
   },
   "id": "f3fe3def4126bc56"
  },
  {
   "cell_type": "code",
   "outputs": [
    {
     "name": "stdout",
     "output_type": "stream",
     "text": [
      "there is no such medicine\n",
      "99\n"
     ]
    }
   ],
   "source": [
    "medicines = {'Ибупрофен': 99, 'Эспумизан': 279, 'Пенталгин': 119}\n",
    "try:\n",
    "    name = 'Визин'\n",
    "    print(medicines[name])\n",
    "except KeyError:\n",
    "    print(\"there is no such medicine\")    \n",
    "try:\n",
    "    name = 'Ибупрофен'\n",
    "    print(medicines[name])\n",
    "except KeyError:\n",
    "    print(\"there is no such medicine\")"
   ],
   "metadata": {
    "collapsed": false,
    "ExecuteTime": {
     "end_time": "2024-03-15T10:18:28.676133Z",
     "start_time": "2024-03-15T10:18:28.666306Z"
    }
   },
   "id": "1b82acfe3c267364",
   "execution_count": 1
  },
  {
   "cell_type": "markdown",
   "source": [
    "# Ex 6.7\n",
    "В переменной number хранится некоторое число.\n",
    "Напишите программу со следующим условием: если число number не ноль, то программа делит 10 на введённое число и записывает результат,\n",
    "округлённый до трёх знаков после запятой, в переменную result. \n",
    "Если же в переменной number хранится ноль, то программа должна выбросить исключение ZeroDivisionError с фразой \"Вы собираетесь делить на 0\" с помощью ключевого слова raise.\n",
    "Примеры работы программы:\n",
    "```python\n",
    "number = 20\n",
    "# result = 0.5\n",
    "number = 7\n",
    "# result = 1.429\n",
    "number = 0\n",
    "# ZeroDivisionError: Вы собираетесь делить на 0\n",
    "```\n",
    "Подсказка: для округления чисел можно воспользоваться встроенной функцией round().\n",
    "Важно: Для отправки кода на проверку переменную number объявлять не нужно. Не забудьте удалить строку кода с её объявлением перед тестированием."
   ],
   "metadata": {
    "collapsed": false
   },
   "id": "ae719838bf4758e0"
  },
  {
   "cell_type": "code",
   "outputs": [
    {
     "name": "stdout",
     "output_type": "stream",
     "text": [
      "2.0\n"
     ]
    }
   ],
   "source": [
    "number = int(input(\"input a num\"))\n",
    "try:\n",
    "    result = round(10 / number, 3)\n",
    "except ZeroDivisionError:\n",
    "    print(\"ZeroDivisionError: Вы собираетесь делить на 0\")\n",
    "else:\n",
    "    print(result)"
   ],
   "metadata": {
    "collapsed": false,
    "ExecuteTime": {
     "end_time": "2024-03-15T10:47:20.505201Z",
     "start_time": "2024-03-15T10:47:18.727161Z"
    }
   },
   "id": "b8d7d6a5b7c9b12",
   "execution_count": 2
  }
 ],
 "metadata": {
  "kernelspec": {
   "display_name": "Python 3",
   "language": "python",
   "name": "python3"
  },
  "language_info": {
   "codemirror_mode": {
    "name": "ipython",
    "version": 2
   },
   "file_extension": ".py",
   "mimetype": "text/x-python",
   "name": "python",
   "nbconvert_exporter": "python",
   "pygments_lexer": "ipython2",
   "version": "2.7.6"
  }
 },
 "nbformat": 4,
 "nbformat_minor": 5
}
