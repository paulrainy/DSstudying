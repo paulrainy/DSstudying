{
 "cells": [
  {
   "cell_type": "markdown",
   "source": [
    "Списки и кортежи"
   ],
   "metadata": {
    "collapsed": false
   },
   "id": "aaf2411c3afe92e7"
  },
  {
   "cell_type": "markdown",
   "source": [
    "Empty list Ex 2.4"
   ],
   "metadata": {
    "collapsed": false
   },
   "id": "7ee358a5c2f025e7"
  },
  {
   "cell_type": "code",
   "execution_count": 1,
   "outputs": [
    {
     "name": "stdout",
     "output_type": "stream",
     "text": [
      "[]\n"
     ]
    }
   ],
   "source": [
    "emptyList = list()\n",
    "print(emptyList)"
   ],
   "metadata": {
    "collapsed": false,
    "ExecuteTime": {
     "end_time": "2023-12-01T17:27:20.788629598Z",
     "start_time": "2023-12-01T17:27:20.760796182Z"
    }
   },
   "id": "f571e63a3b086404"
  },
  {
   "cell_type": "markdown",
   "source": [
    "Examples of lists"
   ],
   "metadata": {
    "collapsed": false
   },
   "id": "44394af7ff6ad66a"
  },
  {
   "cell_type": "code",
   "execution_count": 2,
   "outputs": [
    {
     "name": "stdout",
     "output_type": "stream",
     "text": [
      "[1, 2, 3, 4, 5, 6, 7, 8, 9, 10]\n",
      "['a', 'e', 'i', 'o', 'u', 'y']\n",
      "['Java', 'C', 'Python', 'C++', '.NET']\n",
      "range(0, 10)\n"
     ]
    }
   ],
   "source": [
    "numbers = [1, 2, 3, 4, 5, 6, 7, 8, 9, 10]\n",
    "vowels = ['a', 'e', 'i', 'o', 'u', 'y']\n",
    "lang = ['Java', 'C', 'Python', 'C++', '.NET']\n",
    "testRange = range(10)\n",
    "print(numbers)\n",
    "print(vowels)\n",
    "print(lang)\n",
    "print(testRange)"
   ],
   "metadata": {
    "collapsed": false,
    "ExecuteTime": {
     "end_time": "2023-12-01T17:27:20.792533313Z",
     "start_time": "2023-12-01T17:27:20.771810871Z"
    }
   },
   "id": "c23e9585e65eafef"
  },
  {
   "cell_type": "markdown",
   "source": [
    "Ex 6.2"
   ],
   "metadata": {
    "collapsed": false
   },
   "id": "3b941c5849728550"
  },
  {
   "cell_type": "code",
   "execution_count": 3,
   "outputs": [
    {
     "name": "stdout",
     "output_type": "stream",
     "text": [
      "[-10, -9, -8, -7, -6, -5, -4, -3, -2, -1, 0, 1, 2, 3, 4, 5, 6, 7, 8, 9, 10, 11, 12, 13, 14, 15, 16, 17, 18, 19, 20, 21, 22, 23, 24, 25, 26, 27, 28, 29, 30, 31, 32, 33, 34, 35, 36, 37, 38, 39, 40, 41, 42, 43, 44, 45, 46, 47, 48, 49, 50, 51, 52, 53, 54, 55, 56, 57, 58, 59, 60, 61, 62, 63, 64, 65, 66, 67, 68, 69, 70, 71, 72, 73, 74, 75, 76, 77, 78, 79, 80, 81, 82, 83, 84, 85, 86, 87, 88, 89, 90, 91, 92, 93, 94, 95, 96, 97, 98, 99]\n"
     ]
    }
   ],
   "source": [
    "testList = list(range(-10, 100))\n",
    "print(testList)"
   ],
   "metadata": {
    "collapsed": false,
    "ExecuteTime": {
     "end_time": "2023-12-02T11:01:52.606175119Z",
     "start_time": "2023-12-02T11:01:52.565313115Z"
    }
   },
   "id": "9b9b2fefaa058d3"
  },
  {
   "cell_type": "markdown",
   "source": [
    "Ex 2.7"
   ],
   "metadata": {
    "collapsed": false
   },
   "id": "a2d123c081ab90e9"
  },
  {
   "cell_type": "code",
   "execution_count": 6,
   "outputs": [
    {
     "name": "stdout",
     "output_type": "stream",
     "text": [
      "[50, 48, 46, 44, 42, 40, 38, 36, 34, 32, 30, 28, 26, 24, 22]\n"
     ]
    }
   ],
   "source": [
    "bList = list(range(50, 20, -2))\n",
    "print(bList)"
   ],
   "metadata": {
    "collapsed": false,
    "ExecuteTime": {
     "end_time": "2023-12-02T11:03:49.701999525Z",
     "start_time": "2023-12-02T11:03:49.695858839Z"
    }
   },
   "id": "7dc3a431c9104aac"
  },
  {
   "cell_type": "markdown",
   "source": [
    "Ex 2.8"
   ],
   "metadata": {
    "collapsed": false
   },
   "id": "499a7ae9385e453c"
  },
  {
   "cell_type": "code",
   "execution_count": 5,
   "outputs": [
    {
     "name": "stdout",
     "output_type": "stream",
     "text": [
      "[1, 2, 3, 4, 5, 6, 7, 8, 9, 10]\n",
      "[1, 2]\n"
     ]
    }
   ],
   "source": [
    "aList = list(range(1, 11))\n",
    "print(aList)\n",
    "aSlice = aList[0:2]\n",
    "print(aSlice)"
   ],
   "metadata": {
    "collapsed": false,
    "ExecuteTime": {
     "end_time": "2023-12-03T18:32:57.484086860Z",
     "start_time": "2023-12-03T18:32:57.441927978Z"
    }
   },
   "id": "e034210260747b47"
  },
  {
   "cell_type": "markdown",
   "source": [
    "Ex 2.9"
   ],
   "metadata": {
    "collapsed": false
   },
   "id": "70a60d997ee981e6"
  },
  {
   "cell_type": "code",
   "execution_count": 9,
   "outputs": [
    {
     "name": "stdout",
     "output_type": "stream",
     "text": [
      "[-5, -4, -3, -2, -1, 0, 1, 2, 3, 4]\n",
      "[-1, 0, 1, 2, 3]\n"
     ]
    }
   ],
   "source": [
    "testList = list(range(-5, 5))\n",
    "print(testList)\n",
    "testSlice = testList[4:-1]\n",
    "print(testSlice)"
   ],
   "metadata": {
    "collapsed": false,
    "ExecuteTime": {
     "end_time": "2023-12-03T19:04:05.562718674Z",
     "start_time": "2023-12-03T19:04:05.553439530Z"
    }
   },
   "id": "38847866af4bac7b"
  },
  {
   "cell_type": "code",
   "execution_count": null,
   "outputs": [],
   "source": [],
   "metadata": {
    "collapsed": false
   },
   "id": "8d10500f8151effd"
  }
 ],
 "metadata": {
  "kernelspec": {
   "display_name": "Python 3",
   "language": "python",
   "name": "python3"
  },
  "language_info": {
   "codemirror_mode": {
    "name": "ipython",
    "version": 2
   },
   "file_extension": ".py",
   "mimetype": "text/x-python",
   "name": "python",
   "nbconvert_exporter": "python",
   "pygments_lexer": "ipython2",
   "version": "2.7.6"
  }
 },
 "nbformat": 4,
 "nbformat_minor": 5
}
