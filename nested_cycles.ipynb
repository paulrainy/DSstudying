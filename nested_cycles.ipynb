{
 "cells": [
  {
   "cell_type": "markdown",
   "source": [
    "# Ex 4.1\n",
    "Выводите на экран элементы из таблицы temperature, находящиеся на следующих позициях:\n",
    "   1. Первая строка, третий столбец\n",
    "   2. Вторая строка, второй столбец\n",
    "   3. Третья строка, первый столбец"
   ],
   "metadata": {
    "collapsed": false
   },
   "id": "c9eebde7dd2f4d0f"
  },
  {
   "cell_type": "code",
   "outputs": [
    {
     "name": "stdout",
     "output_type": "stream",
     "text": [
      "10 13 8\n"
     ]
    }
   ],
   "source": [
    "temperature = [\n",
    "    [13, 15, 10],\n",
    "    [14, 13, 9],\n",
    "    [8, 9, 6]\n",
    "]\n",
    "print(temperature[0][2], temperature[1][1], temperature[2][0])"
   ],
   "metadata": {
    "collapsed": false,
    "ExecuteTime": {
     "end_time": "2024-03-25T12:58:37.078997Z",
     "start_time": "2024-03-25T12:58:37.071400Z"
    }
   },
   "id": "4dbb637b0de76a34",
   "execution_count": 1
  },
  {
   "cell_type": "markdown",
   "source": [
    "# Ex 4.2\n",
    "Пусть пользователь заводит будильники на каждые два часа, начиная с 9 часов утра.\n",
    "Причём будильники должны звонить четырежды в указанный час (интервал 15 минут), например в 11:00, 11:15, 11:30 и 11:45.\n",
    "Напишите вложенный цикл, который будет выводить на экран время, в которое прозвенят будильники."
   ],
   "metadata": {
    "collapsed": false
   },
   "id": "7ad8f01f9e1aebaf"
  },
  {
   "cell_type": "code",
   "outputs": [
    {
     "name": "stdout",
     "output_type": "stream",
     "text": [
      "[9, 11, 13, 15, 17, 19, 21, 23] [0, 15, 30, 45]\n",
      "Alarm is set 9:00\n",
      "Alarm is set 9:15\n",
      "Alarm is set 9:30\n",
      "Alarm is set 9:45\n",
      "Alarm is set 11:00\n",
      "Alarm is set 11:15\n",
      "Alarm is set 11:30\n",
      "Alarm is set 11:45\n",
      "Alarm is set 13:00\n",
      "Alarm is set 13:15\n",
      "Alarm is set 13:30\n",
      "Alarm is set 13:45\n",
      "Alarm is set 15:00\n",
      "Alarm is set 15:15\n",
      "Alarm is set 15:30\n",
      "Alarm is set 15:45\n",
      "Alarm is set 17:00\n",
      "Alarm is set 17:15\n",
      "Alarm is set 17:30\n",
      "Alarm is set 17:45\n",
      "Alarm is set 19:00\n",
      "Alarm is set 19:15\n",
      "Alarm is set 19:30\n",
      "Alarm is set 19:45\n",
      "Alarm is set 21:00\n",
      "Alarm is set 21:15\n",
      "Alarm is set 21:30\n",
      "Alarm is set 21:45\n",
      "Alarm is set 23:00\n",
      "Alarm is set 23:15\n",
      "Alarm is set 23:30\n",
      "Alarm is set 23:45\n",
      "Done!\n"
     ]
    }
   ],
   "source": [
    "hours = list(range(9, 24, 2))\n",
    "minutes = list(range(0, 60, 15))\n",
    "print(hours, minutes)\n",
    "for hour in hours:\n",
    "    for minute in minutes:\n",
    "        if minute == 0:\n",
    "            print('Alarm is set {}:{}0'.format(hour, minute))\n",
    "        else:\n",
    "            print('Alarm is set {}:{}'.format(hour, minute))\n",
    "print('Done!')"
   ],
   "metadata": {
    "collapsed": false,
    "ExecuteTime": {
     "end_time": "2024-03-25T13:25:30.075564Z",
     "start_time": "2024-03-25T13:25:30.067895Z"
    }
   },
   "id": "4f3d7758fdd900a3",
   "execution_count": 11
  },
  {
   "cell_type": "markdown",
   "source": [
    "# Ex 4.3\n",
    "Дан список строк text_list. Посчитайте, сколько раз во всех строках списка встречается буква 'a'.\n",
    "```python\n",
    "text_list = [\n",
    "    'afbaad',\n",
    "    'faaf',\n",
    "    'afaga',\n",
    "    'agag'\n",
    "]\n",
    "```\n",
    "В работе кода используйте вложенные списки: внешний список — по элементам списка text_list, внутренний — по символам в строках."
   ],
   "metadata": {
    "collapsed": false
   },
   "id": "4b7a23c78f85a57c"
  },
  {
   "cell_type": "code",
   "outputs": [
    {
     "name": "stdout",
     "output_type": "stream",
     "text": [
      "10\n"
     ]
    }
   ],
   "source": [
    "text_list = [\n",
    "    'afbaad',\n",
    "    'faaf',\n",
    "    'afaga',\n",
    "    'agag'\n",
    "]\n",
    "counter = 0\n",
    "for text in text_list:\n",
    "    for char in text:\n",
    "        if char == 'a':\n",
    "            counter += 1\n",
    "print(counter)"
   ],
   "metadata": {
    "collapsed": false,
    "ExecuteTime": {
     "end_time": "2024-03-25T13:20:17.647486Z",
     "start_time": "2024-03-25T13:20:17.642987Z"
    }
   },
   "id": "960dad0ed021e56a",
   "execution_count": 8
  },
  {
   "cell_type": "markdown",
   "source": [
    "# Ex 4.4\n",
    "Дана двумерная матрица random_matrix размера n x n (список списков). Напишите программу, которая определяет максимумы в каждой строке исходной матрицы.\n",
    "Максимумы должны быть представлены в виде списка. Запишите результат в переменную max_value_rows.\n",
    "Примеры работы программы:\n",
    "```python\n",
    "random_matrix = [\n",
    "    [9, 2, 1],\n",
    "    [2, 5, 3],\n",
    "    [4, 8, 5]\n",
    "]\n",
    "## max_value_rows = [9, 5, 8]\n",
    "\n",
    "random_matrix = [\n",
    "    [9, 121, 1, 10, 42],\n",
    "    [91, 5, 3, 34, -1],\n",
    "    [-8, 98, 5, 24, -420]\n",
    "]\n",
    "## max_value_rows = [121, 91, 98]\n",
    "```"
   ],
   "metadata": {
    "collapsed": false
   },
   "id": "e9bb6e8541f5ef0f"
  },
  {
   "cell_type": "code",
   "outputs": [
    {
     "name": "stdout",
     "output_type": "stream",
     "text": [
      "[121, 91, 98]\n"
     ]
    }
   ],
   "source": [
    "max_value_rows = []\n",
    "random_matrix = [\n",
    "    [9, 121, 1, 10, 42],\n",
    "    [91, 5, 3, 34, -1],\n",
    "    [-8, 98, 5, 24, -420]\n",
    "]\n",
    "max_elem = 0\n",
    "for row in random_matrix:\n",
    "    max_elem = 0\n",
    "    for element in row:\n",
    "        if element > max_elem:\n",
    "            max_elem = element\n",
    "    max_value_rows.append(max_elem)\n",
    "print(max_value_rows)"
   ],
   "metadata": {
    "collapsed": false,
    "ExecuteTime": {
     "end_time": "2024-03-25T13:25:16.994161Z",
     "start_time": "2024-03-25T13:25:16.989640Z"
    }
   },
   "id": "f8501a81030fe120",
   "execution_count": 10
  },
  {
   "cell_type": "markdown",
   "source": [
    "# Ex 4.6\n",
    "Чему равно значение переменной count в результате выполнения следующего кода?"
   ],
   "metadata": {
    "collapsed": false
   },
   "id": "a118a2a5a587b4fd"
  },
  {
   "cell_type": "code",
   "outputs": [
    {
     "name": "stdout",
     "output_type": "stream",
     "text": [
      "20\n"
     ]
    }
   ],
   "source": [
    "count = 0\n",
    "for i in range(5):\n",
    "    for j in range(4):\n",
    "        count += 1\n",
    "print(count)"
   ],
   "metadata": {
    "collapsed": false,
    "ExecuteTime": {
     "end_time": "2024-03-25T13:25:52.478773Z",
     "start_time": "2024-03-25T13:25:52.472669Z"
    }
   },
   "id": "8ad7348d13b3312b",
   "execution_count": 12
  },
  {
   "cell_type": "markdown",
   "source": [
    "# Ex 4.7\n",
    "Чему будет равно значение переменной scores_lst после выполнения следующего кода?"
   ],
   "metadata": {
    "collapsed": false
   },
   "id": "7c4bce64faeaea88"
  },
  {
   "cell_type": "code",
   "outputs": [
    {
     "name": "stdout",
     "output_type": "stream",
     "text": [
      "[0.5, 0.6, 0.6, 0.65, 0.3, 0.55, 0.7, 0.9, 0.5, 0.5]\n"
     ]
    }
   ],
   "source": [
    "scores = [\n",
    "    [0.5, 0.6, 0.6, 0.65, 0.3],\n",
    "    [0.55, 0.7, 0.9, 0.5, 0.5]\n",
    "]\n",
    "scores_lst = []\n",
    "for row in scores:\n",
    "    for score in row:\n",
    "        scores_lst.append(score)\n",
    "print(scores_lst)"
   ],
   "metadata": {
    "collapsed": false,
    "ExecuteTime": {
     "end_time": "2024-03-25T13:25:55.664263Z",
     "start_time": "2024-03-25T13:25:55.659927Z"
    }
   },
   "id": "9535bd27bcc4042a",
   "execution_count": 13
  },
  {
   "cell_type": "markdown",
   "source": [
    "# Ex 4.8\n",
    "Напишите код, который определяет, является ли вложенный список test_matrix квадратной матрицей (то есть матрицей, у которой количество строк равно количеству столбцов).\n",
    "Примеры квадратной и неквадратной (прямоугольной) матрицы: слева — квадратная, справа — неквадратная.\n",
    "\n",
    "![](./resources/pic_1189.jpg)\n",
    "В результате работы программы в переменной is_square должно лежать булево значение — True или False — в зависимости от заданного вложенного списка.\n",
    "Примеры работы программы:\n",
    "```python\n",
    "test_matrix = [\n",
    "    [1, 2, 3],\n",
    "    [7, -1, 2],\n",
    "    [123, 2, -1]\n",
    "]\n",
    "## is_square = True\n",
    "\n",
    "test_matrix = [\n",
    "    [1, 2, 3],\n",
    "    [7, -1, 2],\n",
    "    [123, 2, -1],\n",
    "    [123, 5, 1]\n",
    "]\n",
    "## is_square = False\n",
    "\n",
    "test_matrix = [\n",
    "    [1, 2, 3,  4],\n",
    "    [7, -1, 2, 5],\n",
    "    [123, 2, -1, 3],\n",
    "    [123, 5, 1]\n",
    "]\n",
    "## is_square = False\n",
    "```\n",
    "Примечание: Обратите внимание, что для отправки кода на проверку переменную test_matrix объявлять не нужно.\n",
    "Не забудьте удалить строку с её объявлением перед отправкой кода на тестирование."
   ],
   "metadata": {
    "collapsed": false
   },
   "id": "dac55eb639c939db"
  },
  {
   "cell_type": "code",
   "outputs": [
    {
     "name": "stdout",
     "output_type": "stream",
     "text": [
      "[[1, 2, 3, 4], [7, -1, 2, 4], [123, 2, -1, 5]]\n",
      "[4, 4, 4] 3\n",
      "False\n"
     ]
    }
   ],
   "source": [
    "test_matrix = [\n",
    "    [1, 2, 3, 4],\n",
    "    [7, -1, 2, 4],\n",
    "    [123, 2, -1, 5]\n",
    "]\n",
    "print(test_matrix)\n",
    "\n",
    "element_counter_list = []\n",
    "row_counter = 0\n",
    "for row in test_matrix:\n",
    "    element_counter = 0\n",
    "    for element in row:\n",
    "        element_counter += 1\n",
    "    element_counter_list.append(element_counter)\n",
    "    row_counter += 1\n",
    "print(element_counter_list, row_counter)\n",
    "\n",
    "sum_element_counter_list = 0\n",
    "for i in element_counter_list:\n",
    "    sum_element_counter_list += i\n",
    "    \n",
    "mid_element_counter_list = sum_element_counter_list / len(element_counter_list)\n",
    "if mid_element_counter_list == row_counter:\n",
    "    is_square = True\n",
    "else:\n",
    "    is_square = False\n",
    "print(is_square)"
   ],
   "metadata": {
    "collapsed": false,
    "ExecuteTime": {
     "end_time": "2024-03-25T13:43:24.981431Z",
     "start_time": "2024-03-25T13:43:24.974834Z"
    }
   },
   "id": "e2d2bdfe1d9ebb76",
   "execution_count": 19
  },
  {
   "cell_type": "markdown",
   "source": [
    "# Ex 4.9\n",
    "При формировании данных о температуре за три летних месяца допустили ошибку: некоторые значения оказались отрицательными.\n",
    "Вам необходимо заменить все отрицательные значения на положительные.\n",
    "Список со значениями температуры задан в переменной temp. Необходимо перезаписать значения этого списка.\n",
    "Пример работы программы:\n",
    "```python\n",
    "temp = [[25, 27, 28, 26, 27, -26, -25, -2, 26], [21, 22, 28, 27, 28, 26, 25, 19, 26], [-19, 21, 25, -27, 28, 25, 21, 20, 26]]\n",
    "\n",
    "# После обработки\n",
    "## temp = [[25, 27, 28, 26, 27, 26, 25, 2, 26], [21, 22, 28, 27, 28, 26, 25, 19, 26], [19, 21, 25, 27, 28, 25, 21, 20, 26]]\n",
    "```\n",
    "Примечание: Обратите внимание, что для отправки кода на проверку переменную temp объявлять не нужно.\n",
    "Не забудьте удалить строку с её объявлением перед отправкой кода на тестирование."
   ],
   "metadata": {
    "collapsed": false
   },
   "id": "22a4f13d04c261ab"
  },
  {
   "cell_type": "code",
   "outputs": [
    {
     "name": "stdout",
     "output_type": "stream",
     "text": [
      "[[25, 27, 28, 26, 27, -26, -25, -2, 26], [21, 22, 28, 27, 28, 26, 25, 19, 26], [-19, 21, 25, -27, 28, 25, 21, 20, 26]]\n",
      "[[25, 27, 28, 26, 27, 26, 25, 2, 26], [21, 22, 28, 27, 28, 26, 25, 19, 26], [19, 21, 25, 27, 28, 25, 21, 20, 26]]\n"
     ]
    }
   ],
   "source": [
    "temp = [[25, 27, 28, 26, 27, -26, -25, -2, 26], [21, 22, 28, 27, 28, 26, 25, 19, 26], [-19, 21, 25, -27, 28, 25, 21, 20, 26]]\n",
    "print(temp)\n",
    "for row in range(len(temp)):\n",
    "    for element in range(len(temp[row])):\n",
    "        if temp[row][element] < 0:\n",
    "            temp[row][element] = abs(temp[row][element])\n",
    "print(temp)"
   ],
   "metadata": {
    "collapsed": false,
    "ExecuteTime": {
     "end_time": "2024-03-25T13:49:15.883706Z",
     "start_time": "2024-03-25T13:49:15.878607Z"
    }
   },
   "id": "9d22fe1f81caa0be",
   "execution_count": 21
  },
  {
   "cell_type": "markdown",
   "source": [
    "# Ex 4.10\n",
    "Дан список customer_satisfaction, состоящий из вложенных списков с показателями удовлетворённости клиентов компании по месяцам.\n",
    "Удовлетворённость измеряется от 0 до 1.\n",
    "Пример такого списка:\n",
    "```python\n",
    "customer_satisfaction = [\n",
    "    [0.87, 0.56, 0.77],\n",
    "    [0.22, 0.46, 0.56, 0.89, 0.95],\n",
    "    [0.45, 0.44, 0.68],\n",
    "    [0.73, 0.88, 0.95, 0.49]\n",
    "]\n",
    "```\n",
    "Напишите программу, которая вычисляет средние значения удовлетворённости клиентов за каждый месяц (среднее значение в каждом из вложенных списков),\n",
    "округлённые до двух знаков после точки-разделителя, а также максимальное из этих средних значений.\n",
    "Средняя удовлетворённость по месяцам должна быть представлена в виде списка month_satisfaction.\n",
    "Максимальная удовлетворённость должна быть представлена в виде float-числа и записана в переменную max_satisfaction.\n",
    "Пример работы программы:\n",
    "```python\n",
    "customer_satisfaction = [\n",
    "    [0.87, 0.56, 0.77],\n",
    "    [0.22, 0.46, 0.56, 0.89, 0.95],\n",
    "    [0.45, 0.44, 0.68],\n",
    "    [0.73, 0.88, 0.95, 0.49]\n",
    "]\n",
    "\n",
    "## month_satisfaction = [0.73, 0.62, 0.52, 0.76]\n",
    "## max_satisfaction = 0.76\n",
    "```\n",
    "При решении задачи постарайтесь обойтись без использования встроенных функций для вычисления суммы списка (sum), длины списка (len), а также максимального значения в списке (max).\n",
    "Решите задачу, используя вложенные циклы, и опишите весь алгоритм самостоятельно.\n",
    "Примечание: Обратите внимание, что для отправки кода на проверку переменную customer_satisfaction объявлять не нужно.\n",
    "Не забудьте удалить строку с её объявлением перед отправкой кода на тестирование."
   ],
   "metadata": {
    "collapsed": false
   },
   "id": "7b3f9997720c5929"
  },
  {
   "cell_type": "code",
   "outputs": [
    {
     "name": "stdout",
     "output_type": "stream",
     "text": [
      "[0.73, 0.62, 0.52, 0.76]\n",
      "0.76\n"
     ]
    }
   ],
   "source": [
    "customer_satisfaction = [\n",
    "    [0.87, 0.56, 0.77],\n",
    "    [0.22, 0.46, 0.56, 0.89, 0.95],\n",
    "    [0.45, 0.44, 0.68],\n",
    "    [0.73, 0.88, 0.95, 0.49]\n",
    "]\n",
    "\n",
    "month_satisfaction = []\n",
    "for row in customer_satisfaction:\n",
    "    counter_elements = 0\n",
    "    sum_element = 0\n",
    "    mid_element = 0\n",
    "    for element in row:\n",
    "        sum_element += element\n",
    "        counter_elements += 1\n",
    "    mid_element = sum_element / counter_elements\n",
    "    month_satisfaction.append(round(mid_element, 2))\n",
    "print(month_satisfaction)\n",
    "max_satisfaction = 0\n",
    "\n",
    "for i in month_satisfaction:\n",
    "    if i > max_satisfaction:\n",
    "        max_satisfaction = i\n",
    "print(max_satisfaction)"
   ],
   "metadata": {
    "collapsed": false,
    "ExecuteTime": {
     "end_time": "2024-03-25T18:57:39.251803Z",
     "start_time": "2024-03-25T18:57:39.247094Z"
    }
   },
   "id": "b2f853deb97f7eee",
   "execution_count": 1
  },
  {
   "cell_type": "code",
   "outputs": [],
   "source": [],
   "metadata": {
    "collapsed": false
   },
   "id": "820c5f54e9875bff"
  }
 ],
 "metadata": {
  "kernelspec": {
   "display_name": "Python 3",
   "language": "python",
   "name": "python3"
  },
  "language_info": {
   "codemirror_mode": {
    "name": "ipython",
    "version": 2
   },
   "file_extension": ".py",
   "mimetype": "text/x-python",
   "name": "python",
   "nbconvert_exporter": "python",
   "pygments_lexer": "ipython2",
   "version": "2.7.6"
  }
 },
 "nbformat": 4,
 "nbformat_minor": 5
}
