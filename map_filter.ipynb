{
 "cells": [
  {
   "metadata": {},
   "cell_type": "markdown",
   "source": "# Ex 7.1",
   "id": "f45c368426537ee7"
  },
  {
   "metadata": {},
   "cell_type": "markdown",
   "source": "# Ex 7.2",
   "id": "ca02b837e14f5be7"
  },
  {
   "metadata": {},
   "cell_type": "markdown",
   "source": "# Ex 7.3",
   "id": "ffc3880231d8c7ea"
  },
  {
   "metadata": {},
   "cell_type": "markdown",
   "source": "# Ex 7.4",
   "id": "b47f2d85cbb15803"
  },
  {
   "metadata": {},
   "cell_type": "markdown",
   "source": "# Ex 7.5",
   "id": "ca9a77eb4d61c9b8"
  },
  {
   "metadata": {},
   "cell_type": "markdown",
   "source": "# Ex 7.6",
   "id": "d0b3a4f5b901943d"
  },
  {
   "metadata": {},
   "cell_type": "code",
   "outputs": [],
   "execution_count": null,
   "source": "",
   "id": "4b144792b30bf2da"
  },
  {
   "metadata": {},
   "cell_type": "markdown",
   "source": "# Ex 8.1",
   "id": "3f127b0275c00a2e"
  },
  {
   "metadata": {},
   "cell_type": "markdown",
   "source": "# Ex 8.2",
   "id": "38e988591273c827"
  },
  {
   "metadata": {},
   "cell_type": "markdown",
   "source": "# Ex 8.3",
   "id": "2312cbdfa4504ac9"
  },
  {
   "metadata": {},
   "cell_type": "markdown",
   "source": "# Ex 8.4",
   "id": "8244579c0ad5f189"
  },
  {
   "metadata": {},
   "cell_type": "code",
   "outputs": [],
   "execution_count": null,
   "source": "",
   "id": "bd68257a7126fd31"
  }
 ],
 "metadata": {
  "kernelspec": {
   "display_name": "Python 3",
   "language": "python",
   "name": "python3"
  },
  "language_info": {
   "codemirror_mode": {
    "name": "ipython",
    "version": 2
   },
   "file_extension": ".py",
   "mimetype": "text/x-python",
   "name": "python",
   "nbconvert_exporter": "python",
   "pygments_lexer": "ipython2",
   "version": "2.7.6"
  }
 },
 "nbformat": 4,
 "nbformat_minor": 5
}
