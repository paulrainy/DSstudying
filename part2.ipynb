{
 "cells": [
  {
   "cell_type": "markdown",
   "metadata": {},
   "source": [
    "Round moves"
   ]
  },
  {
   "cell_type": "code",
   "execution_count": null,
   "metadata": {
    "is_executing": true
   },
   "outputs": [],
   "source": [
    "print(2 / 3)\n",
    "print(round(2 / 3, 2))"
   ]
  },
  {
   "cell_type": "markdown",
   "metadata": {},
   "source": [
    "Ex 7.10"
   ]
  },
  {
   "cell_type": "code",
   "execution_count": null,
   "metadata": {
    "is_executing": true
   },
   "outputs": [],
   "source": [
    "import math\n",
    "\n",
    "print(math.pi)\n",
    "print(math.pi ** 2)\n",
    "print((math.pi ** 2) / 2)\n",
    "print(round((math.pi ** 2) / 2))"
   ]
  },
  {
   "cell_type": "markdown",
   "metadata": {},
   "source": [
    "Ex 7.11"
   ]
  },
  {
   "cell_type": "code",
   "execution_count": null,
   "metadata": {
    "is_executing": true
   },
   "outputs": [],
   "source": [
    "print(2 * 2 == 4)\n",
    "print(1.57 * 3 / 1.5 == 3.14)\n",
    "print(3 ** 3 - 3 * (6 * 3 - 4.5 * 2) == 1)"
   ]
  },
  {
   "cell_type": "markdown",
   "metadata": {},
   "source": [
    "Strings"
   ]
  },
  {
   "cell_type": "code",
   "execution_count": null,
   "metadata": {
    "is_executing": true
   },
   "outputs": [],
   "source": [
    "s1 = 'Hello'\n",
    "s2 = \"Hello world!\"\n",
    "s3 = '''Hello\n",
    "        have a nice day!'''\n",
    "\n",
    "print(s1)\n",
    "print(s2)\n",
    "print(s3)"
   ]
  },
  {
   "cell_type": "markdown",
   "metadata": {},
   "source": [
    "Ex 8.1"
   ]
  },
  {
   "cell_type": "code",
   "execution_count": null,
   "metadata": {
    "is_executing": true
   },
   "outputs": [],
   "source": [
    "newString = 'Perfect'\n",
    "print(newString[5], newString[6], newString[0], newString[2])"
   ]
  },
  {
   "cell_type": "markdown",
   "metadata": {},
   "source": [
    "String steps"
   ]
  },
  {
   "cell_type": "code",
   "execution_count": 2,
   "metadata": {
    "collapsed": false,
    "is_executing": true
   },
   "outputs": [
    {
     "name": "stdout",
     "output_type": "stream",
     "text": [
      "llo!\n",
      "Hell\n",
      "Hlo\n",
      "!olleH\n",
      "!\n",
      "lo\n"
     ]
    }
   ],
   "source": [
    "string = 'Hello!'\n",
    "print(string[2:])\n",
    "print(string[:4])\n",
    "print(string[::2])\n",
    "print(string[::-1])\n",
    "print(string[-1])\n",
    "print(string[-3:-1])"
   ]
  },
  {
   "cell_type": "markdown",
   "metadata": {},
   "source": [
    "Ex 8.2"
   ]
  },
  {
   "cell_type": "code",
   "execution_count": 1,
   "metadata": {
    "ExecuteTime": {
     "end_time": "2023-10-04T08:28:38.458422251Z",
     "start_time": "2023-10-04T08:28:38.452250438Z"
    }
   },
   "outputs": [
    {
     "name": "stdout",
     "output_type": "stream",
     "text": [
      "erfect\n",
      "Pret\n",
      "t\n"
     ]
    }
   ],
   "source": [
    "newString = 'Perfect'\n",
    "print(newString[1:])\n",
    "print(newString[::2])\n",
    "print(newString[-1])"
   ]
  },
  {
   "cell_type": "markdown",
   "metadata": {},
   "source": [
    "Func with strings"
   ]
  },
  {
   "cell_type": "code",
   "execution_count": 7,
   "metadata": {},
   "outputs": [
    {
     "name": "stdout",
     "output_type": "stream",
     "text": [
      "Hello!\n",
      "Hello!Hello!Hello!\n",
      "6\n"
     ]
    }
   ],
   "source": [
    "string = \"Hel\" + \"lo!\"\n",
    "print(string)\n",
    "print(string * 3)\n",
    "print(len(string))"
   ]
  },
  {
   "cell_type": "markdown",
   "metadata": {},
   "source": [
    "Ex 8.3 and 8.4"
   ]
  },
  {
   "cell_type": "code",
   "execution_count": 9,
   "metadata": {},
   "outputs": [
    {
     "name": "stdout",
     "output_type": "stream",
     "text": [
      "Perfect\n",
      "7\n"
     ]
    }
   ],
   "source": [
    "s1 = 'Per'\n",
    "s2 = 'fec'\n",
    "s3 = 'fe'\n",
    "s4 = 'ct'\n",
    "newString = s1 + s3 + s4\n",
    "print(newString)\n",
    "print(len(newString))"
   ]
  }
 ],
 "metadata": {
  "kernelspec": {
   "display_name": "Python 3 (ipykernel)",
   "language": "python",
   "name": "python3"
  },
  "language_info": {
   "codemirror_mode": {
    "name": "ipython",
    "version": 3
   },
   "file_extension": ".py",
   "mimetype": "text/x-python",
   "name": "python",
   "nbconvert_exporter": "python",
   "pygments_lexer": "ipython3",
   "version": "3.11.5"
  }
 },
 "nbformat": 4,
 "nbformat_minor": 4
}
