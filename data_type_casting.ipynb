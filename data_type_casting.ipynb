{
 "cells": [
  {
   "cell_type": "markdown",
   "source": [
    "Ex 5.1\n",
    "Создайте переменную a. Запишите в неё целое число 3. Сделайте преобразование типа в вещественный и сохраните результат в переменную b. "
   ],
   "metadata": {
    "collapsed": false
   },
   "id": "7710e2c1606123db"
  },
  {
   "cell_type": "code",
   "execution_count": 1,
   "outputs": [
    {
     "name": "stdout",
     "output_type": "stream",
     "text": [
      "3\n",
      "3.0\n"
     ]
    }
   ],
   "source": [
    "aInt = 3\n",
    "print(aInt)\n",
    "bFloat = float(aInt)\n",
    "print(bFloat)"
   ],
   "metadata": {
    "collapsed": false,
    "ExecuteTime": {
     "end_time": "2024-01-13T08:35:20.204074465Z",
     "start_time": "2024-01-13T08:35:20.193589725Z"
    }
   },
   "id": "ef9fdd4844e2c99f"
  },
  {
   "cell_type": "markdown",
   "source": [
    "Ex 5.2\n",
    "Создайте переменную num1, равную 3.\n",
    "Создайте переменную num2, равную 3.5.\n",
    "Сложите эти два числа и присвойте результат переменной sum1.\n",
    "Преобразуйте тип переменной num1 в вещественный и вновь произведите сложение с переменной num2.\n",
    "Сохраните результат в переменную sum2.\n",
    "Выведите результат переменных sum1 и sum2."
   ],
   "metadata": {
    "collapsed": false
   },
   "id": "c868f4f16e119d6"
  },
  {
   "cell_type": "code",
   "execution_count": 2,
   "outputs": [
    {
     "name": "stdout",
     "output_type": "stream",
     "text": [
      "6.5 6.5\n"
     ]
    }
   ],
   "source": [
    "num1Int = 3\n",
    "num2Float = 3.5\n",
    "sum1Float = num1Int + num2Float\n",
    "sum2Float = float(num1Int) + num2Float\n",
    "print(sum1Float, sum2Float)"
   ],
   "metadata": {
    "collapsed": false,
    "ExecuteTime": {
     "end_time": "2024-01-13T08:35:20.208499648Z",
     "start_time": "2024-01-13T08:35:20.196176230Z"
    }
   },
   "id": "274c6703cb6c1b5e"
  },
  {
   "cell_type": "markdown",
   "source": [
    "Ex 5.3\n",
    "Создайте переменную int_one, равную 1. Преобразуйте её в строку и сохраните результат в переменную str_one. Выведите переменную str_one. \n",
    "В качестве ответа запишите результат вывода."
   ],
   "metadata": {
    "collapsed": false
   },
   "id": "e8baf22de119e55"
  },
  {
   "cell_type": "code",
   "execution_count": 3,
   "outputs": [
    {
     "name": "stdout",
     "output_type": "stream",
     "text": [
      "1\n"
     ]
    }
   ],
   "source": [
    "intOne = 1\n",
    "strOne = str(intOne)\n",
    "print(strOne)"
   ],
   "metadata": {
    "collapsed": false,
    "ExecuteTime": {
     "end_time": "2024-01-13T08:35:20.209723359Z",
     "start_time": "2024-01-13T08:35:20.204855250Z"
    }
   },
   "id": "38770d5e42e02b1e"
  },
  {
   "cell_type": "markdown",
   "source": [
    "Ex 5.4\n",
    "Создайте переменную str_age_begin, равную 'my age is ' (в конце строки есть пробел).\n",
    "Создайте переменную int_age, равную 18.\n",
    "Сложите переменную str_age_begin с переменной int_age, преобразованной в строку.\n",
    "Сохраните результат в переменную result_string.\n",
    "Выведите полученную переменную.\n",
    "В качестве ответа запишите результат вывода."
   ],
   "metadata": {
    "collapsed": false
   },
   "id": "3719c31b0719074e"
  },
  {
   "cell_type": "code",
   "execution_count": 4,
   "outputs": [
    {
     "name": "stdout",
     "output_type": "stream",
     "text": [
      "my age is 18\n"
     ]
    }
   ],
   "source": [
    "strAgeBegin = \"my age is \"\n",
    "intAge = 18\n",
    "resultString = strAgeBegin + str(intAge)\n",
    "print(resultString)"
   ],
   "metadata": {
    "collapsed": false,
    "ExecuteTime": {
     "end_time": "2024-01-13T08:35:20.212749295Z",
     "start_time": "2024-01-13T08:35:20.208597244Z"
    }
   },
   "id": "b46e14f428d5d630"
  },
  {
   "cell_type": "markdown",
   "source": [
    "Ex 5.5\n",
    "Создайте переменную str_brothers_begin, равную 'I have ' (в конце строки есть пробел).\n",
    "Создайте переменную count, равную 5, и переменную str_brothers_end, равную ' brothers' (в начале строки есть пробел).\n",
    "Преобразуйте переменную count в строку и сложите с остальными переменными: str_brothers_begin + count + str_brothers_end.\n",
    "Сохраните результат в переменную result_sentence.\n",
    "Выведите полученную переменную.\n",
    "В качестве ответа запишите результат вывода."
   ],
   "metadata": {
    "collapsed": false
   },
   "id": "5f2ca55fabd02d14"
  },
  {
   "cell_type": "code",
   "execution_count": 5,
   "outputs": [
    {
     "name": "stdout",
     "output_type": "stream",
     "text": [
      "I have 5 brothers\n"
     ]
    }
   ],
   "source": [
    "strBrotherBegin = \"I have \"\n",
    "countInt = 5\n",
    "strBrothersEnd = \" brothers\"\n",
    "resultSentence = strBrotherBegin + str(countInt) + strBrothersEnd\n",
    "print(resultSentence)"
   ],
   "metadata": {
    "collapsed": false,
    "ExecuteTime": {
     "end_time": "2024-01-13T08:35:20.298836152Z",
     "start_time": "2024-01-13T08:35:20.211848486Z"
    }
   },
   "id": "4d3ae317faf47f28"
  },
  {
   "cell_type": "markdown",
   "source": [
    "Ex 5.6\n",
    "Создайте переменную s, равную 'hello world'. Попробуйте преобразовать её к целому типу. Возникнет ли ошибка?"
   ],
   "metadata": {
    "collapsed": false
   },
   "id": "3df488d014579944"
  },
  {
   "cell_type": "code",
   "execution_count": 6,
   "outputs": [
    {
     "ename": "ValueError",
     "evalue": "invalid literal for int() with base 10: 'hello world'",
     "output_type": "error",
     "traceback": [
      "\u001B[0;31m---------------------------------------------------------------------------\u001B[0m",
      "\u001B[0;31mValueError\u001B[0m                                Traceback (most recent call last)",
      "Cell \u001B[0;32mIn[6], line 2\u001B[0m\n\u001B[1;32m      1\u001B[0m sStr \u001B[38;5;241m=\u001B[39m \u001B[38;5;124m\"\u001B[39m\u001B[38;5;124mhello world\u001B[39m\u001B[38;5;124m\"\u001B[39m\n\u001B[0;32m----> 2\u001B[0m \u001B[38;5;28mprint\u001B[39m(\u001B[38;5;28;43mint\u001B[39;49m\u001B[43m(\u001B[49m\u001B[43msStr\u001B[49m\u001B[43m)\u001B[49m)\n",
      "\u001B[0;31mValueError\u001B[0m: invalid literal for int() with base 10: 'hello world'"
     ]
    }
   ],
   "source": [
    "sStr = \"hello world\"\n",
    "print(int(sStr))"
   ],
   "metadata": {
    "collapsed": false,
    "ExecuteTime": {
     "end_time": "2024-01-13T08:35:20.366448263Z",
     "start_time": "2024-01-13T08:35:20.220647153Z"
    }
   },
   "id": "a2322066f2b467ed"
  },
  {
   "cell_type": "markdown",
   "source": [
    "Ответ: да"
   ],
   "metadata": {
    "collapsed": false
   },
   "id": "85ec90bfd008f578"
  },
  {
   "cell_type": "markdown",
   "source": [
    "Ex 5.7\n",
    "Создайте переменную s, равную '10'. Преобразуйте её к целому типу и выведите результат. В качестве ответа запишите результат вывода."
   ],
   "metadata": {
    "collapsed": false
   },
   "id": "3c5ddbbda18f04d5"
  },
  {
   "cell_type": "code",
   "execution_count": null,
   "outputs": [],
   "source": [
    "sStr = '10'\n",
    "print(int(sStr))"
   ],
   "metadata": {
    "collapsed": false,
    "ExecuteTime": {
     "start_time": "2024-01-13T08:35:20.339143623Z"
    }
   },
   "id": "f11752bd0883ccdf"
  },
  {
   "cell_type": "markdown",
   "source": [
    "Ex 5.8\n",
    "Создайте переменную s, равную '11'. Преобразуйте её к вещественному типу и выведите результат. В качестве ответа запишите результат вывода. \n",
    "Результат вывода должен иметь вид, например 5.0."
   ],
   "metadata": {
    "collapsed": false
   },
   "id": "b24f9e198d938a0c"
  },
  {
   "cell_type": "code",
   "execution_count": null,
   "outputs": [],
   "source": [
    "sStr = '11'\n",
    "print(float(sStr))"
   ],
   "metadata": {
    "collapsed": false,
    "ExecuteTime": {
     "start_time": "2024-01-13T08:35:20.341393729Z"
    }
   },
   "id": "8ebb1df3db08ce33"
  },
  {
   "cell_type": "markdown",
   "source": [
    "Ex 5.9\n",
    "Создайте переменную s, равную '50.4'. Попробуйте преобразовать её к целому типу. Возникнет ли ошибка?"
   ],
   "metadata": {
    "collapsed": false
   },
   "id": "ee98cf55f36ebf8a"
  },
  {
   "cell_type": "code",
   "execution_count": null,
   "outputs": [],
   "source": [
    "sStr = '50.4'\n",
    "print(int(sStr))"
   ],
   "metadata": {
    "collapsed": false,
    "ExecuteTime": {
     "start_time": "2024-01-13T08:35:20.343809216Z"
    }
   },
   "id": "4d9a3dd6a9abd4a5"
  },
  {
   "cell_type": "markdown",
   "source": [
    "Ответ - да"
   ],
   "metadata": {
    "collapsed": false
   },
   "id": "3ab57d89cf2cd997"
  },
  {
   "cell_type": "markdown",
   "source": [
    "Ex 5.10\n",
    "Создайте список list1 из цифр от 1 до 5 (включительно). Преобразуйте список в кортеж tpl1 с помощью конструктора типов tuple(). \n",
    "Выведите результат. В качестве ответа запишите результат вывода."
   ],
   "metadata": {
    "collapsed": false
   },
   "id": "d8871903d6c2d748"
  },
  {
   "cell_type": "code",
   "execution_count": 7,
   "outputs": [
    {
     "name": "stdout",
     "output_type": "stream",
     "text": [
      "(1, 2, 3, 4, 5)\n"
     ]
    }
   ],
   "source": [
    "list1List = list(range(1, 6))\n",
    "tpl1Tuple = tuple(list1List)\n",
    "print(tpl1Tuple)"
   ],
   "metadata": {
    "collapsed": false,
    "ExecuteTime": {
     "end_time": "2024-01-13T08:35:20.476253611Z",
     "start_time": "2024-01-13T08:35:20.390883688Z"
    }
   },
   "id": "b459f5ba8dd8b85a"
  },
  {
   "cell_type": "markdown",
   "source": [
    "Ex 5.11\n",
    "Создайте кортеж tpl1 из первых пяти букв английского языка. Преобразуйте кортеж в список list2 с помощью конструктора типов list(). \n",
    "Выведите результат. В качестве ответа запишите результат вывода."
   ],
   "metadata": {
    "collapsed": false
   },
   "id": "dc69e0e4df8faed8"
  },
  {
   "cell_type": "code",
   "execution_count": 8,
   "outputs": [
    {
     "name": "stdout",
     "output_type": "stream",
     "text": [
      "['a', 'b', 'c', 'd', 'e']\n"
     ]
    }
   ],
   "source": [
    "tpl1Tuple = ('a', 'b', 'c', 'd', 'e')\n",
    "list2List = list(tpl1Tuple)\n",
    "print(list2List)"
   ],
   "metadata": {
    "collapsed": false,
    "ExecuteTime": {
     "end_time": "2024-01-13T08:35:20.512244603Z",
     "start_time": "2024-01-13T08:35:20.399238557Z"
    }
   },
   "id": "f9f965eabfa45829"
  },
  {
   "cell_type": "markdown",
   "source": [
    "Ex 6.1\n",
    "Создайте пустой список list1. Добавьте в него последовательно числа 1, 2, 3 с помощью метода .append(). Выведите результат. \n",
    "В качестве ответа запишите результат вывода."
   ],
   "metadata": {
    "collapsed": false
   },
   "id": "e83ecacdee19b33b"
  },
  {
   "cell_type": "code",
   "execution_count": 9,
   "outputs": [
    {
     "name": "stdout",
     "output_type": "stream",
     "text": [
      "[1, 2, 3]\n"
     ]
    }
   ],
   "source": [
    "list1List = []\n",
    "list1List.append(1)\n",
    "list1List.append(2)\n",
    "list1List.append(3)\n",
    "print(list1List)"
   ],
   "metadata": {
    "collapsed": false,
    "ExecuteTime": {
     "end_time": "2024-01-13T08:35:20.551863841Z",
     "start_time": "2024-01-13T08:35:20.483428045Z"
    }
   },
   "id": "65072826dad694ee"
  },
  {
   "cell_type": "markdown",
   "source": [
    "Ex 6.2\n",
    "Создайте список list2, используя метод range().\n",
    "В качестве левой границы списка установите число -5 (минус пять), в качестве правой — число 15.\n",
    "Задайте шаг, равный 2.\n",
    "Создайте переменную list3, в которой будут числа 1,2,3,4.\n",
    "Используя метод .extend() у списка list3, добавьте list2.\n",
    "Выведите список list3.\n",
    "В качестве ответа запишите результат вывода."
   ],
   "metadata": {
    "collapsed": false
   },
   "id": "1c54f357f3fce094"
  },
  {
   "cell_type": "code",
   "execution_count": 10,
   "outputs": [
    {
     "name": "stdout",
     "output_type": "stream",
     "text": [
      "[-5, -3, -1, 1, 3, 5, 7, 9, 11, 13]\n",
      "[1, 2, 3, 4]\n",
      "[1, 2, 3, 4, -5, -3, -1, 1, 3, 5, 7, 9, 11, 13]\n"
     ]
    }
   ],
   "source": [
    "list2List = list(range(-5, 15, 2))\n",
    "print(list2List)\n",
    "list3List = list(range(1, 5))\n",
    "print(list3List)\n",
    "list3List.extend(list2List)\n",
    "print(list3List)"
   ],
   "metadata": {
    "collapsed": false,
    "ExecuteTime": {
     "end_time": "2024-01-13T08:35:20.562680111Z",
     "start_time": "2024-01-13T08:35:20.552570217Z"
    }
   },
   "id": "72a0401b77d6d7c3"
  },
  {
   "cell_type": "markdown",
   "source": [
    "Ex 6.3\n",
    "Создайте список list6. В этом списке должны быть цифры в следующем порядке: 3, 1, -10, 5, 11, 20, 1, -10.\n",
    "Скопируйте содержимое списка в переменную list7.\n",
    "Произведите сортировку списка list6, а затем инвертируйте полученный список.\n",
    "Сохраните результат в переменную list_result.\n",
    "Выведите списки в переменных list7 и list_result.\n",
    "В качестве ответа запишите результат вывода."
   ],
   "metadata": {
    "collapsed": false
   },
   "id": "9ddd484ab7590e5a"
  },
  {
   "cell_type": "code",
   "execution_count": 11,
   "outputs": [
    {
     "name": "stdout",
     "output_type": "stream",
     "text": [
      "[20, 11, 5, 3, 1, 1, -10, -10] [3, 1, -10, 5, 11, 20, 1, -10]\n"
     ]
    }
   ],
   "source": [
    "list6List = [3, 1, -10, 5, 11, 20, 1, -10]\n",
    "list7List = list6List.copy()\n",
    "#print(list7List)\n",
    "list6List.sort()\n",
    "#print(list6List)\n",
    "list6List.reverse()\n",
    "print(list6List, list7List)"
   ],
   "metadata": {
    "collapsed": false,
    "ExecuteTime": {
     "end_time": "2024-01-13T08:35:20.565746594Z",
     "start_time": "2024-01-13T08:35:20.562829720Z"
    }
   },
   "id": "3afd8c5ec8a8f481"
  },
  {
   "cell_type": "markdown",
   "source": [
    "Ex 6.4\n",
    "Создайте список list1. Положите в него два значения: 10, 15.\n",
    "Преобразуйте список в кортеж и сохраните результат в tpl1.\n",
    "Создайте словарь dict1.\n",
    "По ключу, который соответствует кортежу tpl1, положите значение 'hello'.\n",
    "Выведите полученный словарь dict1.\n",
    "В качестве ответа запишите результат вывода."
   ],
   "metadata": {
    "collapsed": false
   },
   "id": "6d01f13fcf0518ae"
  },
  {
   "cell_type": "code",
   "execution_count": 12,
   "outputs": [
    {
     "name": "stdout",
     "output_type": "stream",
     "text": [
      "{(10, 15): 'hello'}\n"
     ]
    }
   ],
   "source": [
    "list1List = [10, 15]\n",
    "tpl1Tuple = tuple(list1List)\n",
    "dict1Dict = {tpl1Tuple: 'hello'}\n",
    "print(dict1Dict)"
   ],
   "metadata": {
    "collapsed": false,
    "ExecuteTime": {
     "end_time": "2024-01-13T08:35:20.632130131Z",
     "start_time": "2024-01-13T08:35:20.564806258Z"
    }
   },
   "id": "dfe23056b960def6"
  },
  {
   "cell_type": "markdown",
   "source": [
    "Ex 6.5\n",
    "Создайте два словаря: dict1 и dict2. Положите в первый словарь по ключу 'name' значение 'unknown', \n",
    "а во второй по ключу 'name' положите значение 'Tom'.\n",
    "Выведите dict1 и dict2.\n",
    "Выведите ключи и значения из dict1. Для этого используйте методы dict.keys() и dict.values().\n",
    "В качестве ответа запишите общий результат двух выводов."
   ],
   "metadata": {
    "collapsed": false
   },
   "id": "b8267713d227e9aa"
  },
  {
   "cell_type": "code",
   "execution_count": 13,
   "outputs": [
    {
     "name": "stdout",
     "output_type": "stream",
     "text": [
      "{'name': 'unknown'} {'name': 'Tom'}\n",
      "dict_keys(['name']) dict_values(['unknown'])\n"
     ]
    }
   ],
   "source": [
    "dict1Dict, dict2Dict = {'name': 'unknown'}, {'name': 'Tom'}\n",
    "print(dict1Dict, dict2Dict)\n",
    "print(dict1Dict.keys(), dict1Dict.values())"
   ],
   "metadata": {
    "collapsed": false,
    "ExecuteTime": {
     "end_time": "2024-01-13T08:35:20.632885458Z",
     "start_time": "2024-01-13T08:35:20.573951979Z"
    }
   },
   "id": "d2679b2807245793"
  },
  {
   "cell_type": "markdown",
   "source": [
    "Ex 6.6\n",
    "Создайте два множества: s1 и s2, положив в первое множество значения из строки 'hello', а во второе множество - \n",
    "значения из списка ['w', 'o', 'w']. Выведите результаты объединения, пересечения, вычитания этих двух множеств.\n",
    "В качестве ответа запишите результат вывода (обязательно соблюдайте порядок вывода). \n",
    "Результат вывода нужно записать в одну строку через один пробел."
   ],
   "metadata": {
    "collapsed": false
   },
   "id": "90fa69266976cc0"
  },
  {
   "cell_type": "code",
   "execution_count": 14,
   "outputs": [
    {
     "name": "stdout",
     "output_type": "stream",
     "text": [
      "{'l', 'o', 'e', 'h'} {'w', 'o'}\n",
      "{'w', 'l', 'e', 'o', 'h'} {'o'} {'l', 'e', 'h'}\n"
     ]
    }
   ],
   "source": [
    "s1Set = set('hello')\n",
    "testList = ['w', 'o', 'w']\n",
    "s2Set = set(testList)\n",
    "print(s1Set, s2Set)\n",
    "firstOutputSet = s1Set.union(s2Set)\n",
    "secondOutputSet = s1Set.intersection(s2Set)\n",
    "thirdOutputSet = s1Set.difference(s2Set)\n",
    "print(firstOutputSet, secondOutputSet, thirdOutputSet)"
   ],
   "metadata": {
    "collapsed": false,
    "ExecuteTime": {
     "end_time": "2024-01-13T08:35:20.683406937Z",
     "start_time": "2024-01-13T08:35:20.613761630Z"
    }
   },
   "id": "13bf88a212feaaca"
  },
  {
   "cell_type": "markdown",
   "source": [
    "Ex 6.7\n",
    "Выведите переменную result, которая является сложением строки 'age is ' (в конце строки есть пробел) и числа 15. Воспользуйтесь \n",
    "преобразованием типов. В качестве ответа запишите результат вывода."
   ],
   "metadata": {
    "collapsed": false
   },
   "id": "fd28d4cbc36715c1"
  },
  {
   "cell_type": "code",
   "execution_count": 15,
   "outputs": [
    {
     "name": "stdout",
     "output_type": "stream",
     "text": [
      "age is 15\n"
     ]
    }
   ],
   "source": [
    "result = 'age is ' + str(15)\n",
    "print(result)"
   ],
   "metadata": {
    "collapsed": false,
    "ExecuteTime": {
     "end_time": "2024-01-13T08:35:20.720308064Z",
     "start_time": "2024-01-13T08:35:20.635710573Z"
    }
   },
   "id": "c57e7f710e26a206"
  }
 ],
 "metadata": {
  "kernelspec": {
   "display_name": "Python 3",
   "language": "python",
   "name": "python3"
  },
  "language_info": {
   "codemirror_mode": {
    "name": "ipython",
    "version": 2
   },
   "file_extension": ".py",
   "mimetype": "text/x-python",
   "name": "python",
   "nbconvert_exporter": "python",
   "pygments_lexer": "ipython2",
   "version": "2.7.6"
  }
 },
 "nbformat": 4,
 "nbformat_minor": 5
}
