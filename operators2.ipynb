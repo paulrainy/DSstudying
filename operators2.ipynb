{
 "cells": [
  {
   "cell_type": "markdown",
   "source": [
    "# Задача №1\n",
    "Написать программу, определяющую, является ли данное время суток утром, и вывести соответствующее сообщение.\n",
    "Утром считается временной промежуток с 6 (включительно) и до 12 часов (невключительно).\n",
    "Текущее время (в часах) находится в переменной now и представлено в формате 'hour:minute:second'.\n",
    "Например:\n",
    "```python\n",
    "now = '11:24:39'\n",
    "```"
   ],
   "metadata": {
    "collapsed": false
   },
   "id": "7d8de224b84f9fec"
  },
  {
   "cell_type": "code",
   "outputs": [
    {
     "name": "stdout",
     "output_type": "stream",
     "text": [
      "its morning dude\n"
     ]
    }
   ],
   "source": [
    "now = '10:54:32'\n",
    "hours, minutes, seconds = now.split(':')\n",
    "if 6 <= int(hours) < 12:\n",
    "    print(\"its morning dude\")\n",
    "else:\n",
    "    print(\"its probably not morning dude\")"
   ],
   "metadata": {
    "collapsed": false,
    "ExecuteTime": {
     "end_time": "2024-03-09T20:59:28.202368Z",
     "start_time": "2024-03-09T20:59:28.198139Z"
    }
   },
   "id": "e051c710b612f6bd",
   "execution_count": 1
  },
  {
   "cell_type": "markdown",
   "source": [
    "# Задача №2\n"
   ],
   "metadata": {
    "collapsed": false
   },
   "id": "fa5ca90b71f7de59"
  }
 ],
 "metadata": {
  "kernelspec": {
   "display_name": "Python 3",
   "language": "python",
   "name": "python3"
  },
  "language_info": {
   "codemirror_mode": {
    "name": "ipython",
    "version": 2
   },
   "file_extension": ".py",
   "mimetype": "text/x-python",
   "name": "python",
   "nbconvert_exporter": "python",
   "pygments_lexer": "ipython2",
   "version": "2.7.6"
  }
 },
 "nbformat": 4,
 "nbformat_minor": 5
}
