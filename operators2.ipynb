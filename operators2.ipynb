{
 "cells": [
  {
   "cell_type": "markdown",
   "source": [
    "# Задача №1\n",
    "Написать программу, определяющую, является ли данное время суток утром, и вывести соответствующее сообщение.\n",
    "Утром считается временной промежуток с 6 (включительно) и до 12 часов (не включительно).\n",
    "Текущее время (в часах) находится в переменной now и представлено в формате 'hour:minute:second'.\n",
    "Например:\n",
    "```python\n",
    "now = '11:24:39'\n",
    "```"
   ],
   "metadata": {
    "collapsed": false
   },
   "id": "7d8de224b84f9fec"
  },
  {
   "cell_type": "code",
   "outputs": [
    {
     "name": "stdout",
     "output_type": "stream",
     "text": [
      "its morning dude\n"
     ]
    }
   ],
   "source": [
    "now = '10:54:32'\n",
    "hours, minutes, seconds = now.split(':')\n",
    "if 6 <= int(hours) < 12:\n",
    "    print(\"its morning dude\")\n",
    "else:\n",
    "    print(\"its probably not morning dude\")"
   ],
   "metadata": {
    "collapsed": false,
    "ExecuteTime": {
     "end_time": "2024-03-09T20:59:28.202368Z",
     "start_time": "2024-03-09T20:59:28.198139Z"
    }
   },
   "id": "e051c710b612f6bd",
   "execution_count": 1
  },
  {
   "cell_type": "markdown",
   "source": [
    "# Задача №2\n",
    "В математике координатную плоскость условно разделяют на 4 четверти (обычно они обозначаются римскими цифрами):\n",
    "(картинка)\n",
    "Нам необходимо написать программу, которая определяет, к какой четверти принадлежит точка."
   ],
   "metadata": {
    "collapsed": false
   },
   "id": "fa5ca90b71f7de59"
  },
  {
   "cell_type": "code",
   "outputs": [],
   "source": [
    "x, y = 5.2, 6\n",
    "if x > 0:\n",
    "    if y > 0:\n",
    "        print(\"first\")\n",
    "    else:\n",
    "        print(\"fourth\")\n",
    "else:\n",
    "    if y > 0:\n",
    "        print(\"second\")\n",
    "    else:\n",
    "        print(\"third\")"
   ],
   "metadata": {
    "collapsed": false
   },
   "id": "408a52f779bd208e"
  },
  {
   "cell_type": "markdown",
   "source": [
    "# Ex 5.1\n",
    "Пользователь вводит целое число — текущее время в часах, значение которого хранится в переменной time.\n",
    "Если количество часов находится между 7 и 10 (включая обе границы),\n",
    "то программа должна вывести строку «Пора вставать!», иначе выведется строка «Ты проспал!».\n",
    "Примечание: В рамках данной задачи условимся, что пользователь считается проспавшим в любое время, отличное от указанного интервала.\n",
    "```python\n",
    "time = 8\n",
    "# Пора вставать!\n",
    "\n",
    "time = 12\n",
    "# Ты проспал!\n",
    "```"
   ],
   "metadata": {
    "collapsed": false
   },
   "id": "2321c6031d047d61"
  },
  {
   "cell_type": "code",
   "outputs": [
    {
     "name": "stdout",
     "output_type": "stream",
     "text": [
      "oversleep!\n"
     ]
    }
   ],
   "source": [
    "time = input(\"input ur time\")\n",
    "if 7 <= int(time) <= 10:\n",
    "    print(\"wake up!\")\n",
    "else:\n",
    "    print(\"oversleep!\")"
   ],
   "metadata": {
    "collapsed": false,
    "ExecuteTime": {
     "end_time": "2024-03-10T18:15:01.180991Z",
     "start_time": "2024-03-10T18:15:00.146864Z"
    }
   },
   "id": "fdc0e7d6741afaac",
   "execution_count": 4
  },
  {
   "cell_type": "markdown",
   "source": [
    "# Ex 5.2\n",
    "Считается, что буквы q и z встречается в английском языке реже остальных букв. \n",
    "Вы решили написать программу, которая позволяет пользователям вводить слова и проверяет, можно считать это слово редким или нет. \n",
    "Интересующее вас слово содержится в переменной target_word.\n",
    "Пусть эта программа выводит на экран одну из двух фраз: \n",
    "«Ух ты! Вы ввели редкое слово!», если в слове есть буква q или букву z, или «Это не очень редкое слово...», если в нём этих букв нет.\n",
    "```python\n",
    "target_word = \"quantity\"\n",
    "# Ух ты! Вы ввели редкое слово!\n",
    "\n",
    "target_word = \"apply\"\n",
    "# Это не очень редкое слово...\n",
    "```"
   ],
   "metadata": {
    "collapsed": false
   },
   "id": "68a9a207330235bf"
  },
  {
   "cell_type": "code",
   "outputs": [
    {
     "name": "stdout",
     "output_type": "stream",
     "text": [
      "rare word dude\n"
     ]
    }
   ],
   "source": [
    "target_word = input(\"input a word\")\n",
    "if target_word.find('q') != -1 or target_word.find('z') != -1:\n",
    "    print(\"rare word dude\")\n",
    "else:\n",
    "    print(\"just regular one :)\")"
   ],
   "metadata": {
    "collapsed": false,
    "ExecuteTime": {
     "end_time": "2024-03-10T18:55:28.562031Z",
     "start_time": "2024-03-10T18:55:26.042665Z"
    }
   },
   "id": "70a40bcae086e37d",
   "execution_count": 14
  },
  {
   "cell_type": "markdown",
   "source": [
    "# Ex 5.3\n",
    "Вы работаете в агентстве знакомств.\n",
    "К вам обратилась некая Алла, которая ищет мужчину ростом строго выше 180 см, весом строго менее 80 кг.\n",
    "Также Алла верит в гороскопы и согласно гороскопу ей подходят только весы, дева, овен и козерог.\n",
    "Напишите условие, которое позволит определить, подходит ли Алле тот или иной кандидат. \n",
    "В результате работы программы на экран должно быть введено:\n",
    "    1. «Ваша половинка нашлась!» — если кандидат подходит Алле по параметрам.\n",
    "    2. «Попробуем поискать еще!» — если кандидат не подходит Алле по параметрам.\n",
    "Примеры работы программы:\n",
    "```python\n",
    "height = 183\n",
    "weight = 78\n",
    "zodiac_sign = 'козерог'\n",
    "# \"Ваша половинка нашлась!\"\n",
    "\n",
    "height = 171\n",
    "weight = 75\n",
    "zodiac_sign = 'весы'\n",
    "# \"Попробуем поискать еще!\"\n",
    "```\n",
    "Подсказка: Для проверки того, что знак зодиака подходит Алле, создайте дополнительный список\n",
    "из нужных знаков зодиака и проверяйте, содержится ли в нём знак, соответствующий переменной zodiac_sign."
   ],
   "metadata": {
    "collapsed": false
   },
   "id": "7038b8ca0b45054a"
  },
  {
   "cell_type": "code",
   "outputs": [
    {
     "name": "stdout",
     "output_type": "stream",
     "text": [
      "bitch, u found him!\n"
     ]
    }
   ],
   "source": [
    "zodiac_acceptable_list = ['весы', 'дева', 'овен', 'козерог']\n",
    "height_acceptable = 180\n",
    "weight_acceptable = 80\n",
    "\n",
    "#candidate_first = ['рак', 175, 80]\n",
    "#candidate_second = ['дева', 190, 75]\n",
    "candidate = ['дева', 190, 75]\n",
    "\n",
    "if candidate[0] in zodiac_acceptable_list and candidate[1] > height_acceptable and candidate[2] < weight_acceptable:\n",
    "    print(\"bitch, u found him!\")\n",
    "else:\n",
    "    print(\"fat bitch, u need to make ur expectations a little bit lower\")"
   ],
   "metadata": {
    "collapsed": false,
    "ExecuteTime": {
     "end_time": "2024-03-14T13:13:17.588217Z",
     "start_time": "2024-03-14T13:13:17.585441Z"
    }
   },
   "id": "f5bdcc79c9178cbb",
   "execution_count": 2
  },
  {
   "cell_type": "markdown",
   "source": [
    "# Ex 5.4\n",
    "Необходимо реализовать условный оператор, который печатает на экран характеристику ветра и его класс (от 1 до 4) в зависимости от его характера:\n",
    "    \"weak[1]\" — от 1 до 4 м/с\n",
    "    \"moderate[2]\" — от 5 до 10 м/c\n",
    "    \"strong[3]\" — от 11 до 18 м/c\n",
    "    \"hurricane[4]\" — от 19 м/c\n",
    "Скорость ветра хранится в переменной speed.\n",
    "Примеры работы программы:\n",
    "```python\n",
    "speed = 4\n",
    "# \"weak [1]\"\n",
    "\n",
    "speed = 10\n",
    "#  \"moderate [2]\" \n",
    "\n",
    "speed = 14\n",
    "# \"strong [3]\"\n",
    "\n",
    "speed = 25\n",
    "# \"hurricane [4]\" \n",
    "```"
   ],
   "metadata": {
    "collapsed": false
   },
   "id": "55b54d23d598c75b"
  },
  {
   "cell_type": "code",
   "outputs": [
    {
     "name": "stdout",
     "output_type": "stream",
     "text": [
      "its not a wind dude\n"
     ]
    }
   ],
   "source": [
    "speed = int(input(\"input a speed of the wind\"))\n",
    "wind_types = [\"weak [1]\", \"moderate [2]\", \"strong [3]\", \"hurricane [4]\"]\n",
    "if 1 <= speed <= 4 :\n",
    "    print(wind_types[0])\n",
    "elif 5 <= speed <= 10:\n",
    "    print(wind_types[1])\n",
    "elif 11 <= speed <= 18:\n",
    "    print(wind_types[2])\n",
    "elif speed >= 19:\n",
    "    print(wind_types[3])\n",
    "else:\n",
    "    print(\"its not a wind dude\")"
   ],
   "metadata": {
    "collapsed": false,
    "ExecuteTime": {
     "end_time": "2024-03-14T13:24:08.141743Z",
     "start_time": "2024-03-14T13:24:06.911208Z"
    }
   },
   "id": "958d2356940ebd90",
   "execution_count": 9
  },
  {
   "cell_type": "markdown",
   "source": [
    "# Ex 5.5\n",
    "Друг, зная, что вы отличный программист, попросил вас запрограммировать игру «Камень, ножницы, бумага» для своего младшего брата.\n",
    "Правила игры всем известны: камень побеждает ножницы; ножницы — бумагу; бумага — камень.\n",
    "Жесты, выполняемые первым и вторым игроками находятся в переменных player_1 и player_2 соответственно.\n",
    "Обратите внимание, что названия жестов должны быть написаны строчными буквами.\n",
    "Напишите программу, которая определяет победителя. Если побеждает первый игрок, то выводится сообщение «Первый игрок — победитель!».\n",
    "Если второй — «Второй игрок — победитель!». Если ничья — выводится «Ничья!».\n",
    "Примеры работы программы:\n",
    "```python\n",
    "player_1 = 'камень'\n",
    "player_2 = 'камень'\n",
    "# Ничья!\n",
    "\n",
    "player_1 = 'ножницы'\n",
    "player_2 = 'бумага'\n",
    "# Первый игрок — победитель!\n",
    "\n",
    "player_1 = 'камень'\n",
    "player_2 = 'бумага'\n",
    "# Второй игрок — победитель!\n",
    "```\n",
    "Подсказка: Воспользуйтесь оператором if-elif-else. Для того чтобы определить победителя,\n",
    "достаточно проверить все возможные комбинации жестов для победы одного из игроков, например, для первого,\n",
    "если ни одна из комбинаций не была выполнена, то автоматически побеждает второй игрок."
   ],
   "metadata": {
    "collapsed": false
   },
   "id": "f211aa9347ffba69"
  },
  {
   "cell_type": "code",
   "outputs": [
    {
     "name": "stdout",
     "output_type": "stream",
     "text": [
      "Второй игрок — победитель!\n"
     ]
    }
   ],
   "source": [
    "figure_list = ['камень', 'ножницы', 'бумага']\n",
    "player_1 = figure_list[0]\n",
    "player_2 = figure_list[2]\n",
    "if player_1 == player_2:\n",
    "    print('Ничья!')\n",
    "elif (player_1 == figure_list[0] and player_2 == figure_list[1]) or (player_1 == figure_list[1] and player_2 == figure_list[2]) or (player_1 == figure_list[2] and player_2 == figure_list[0]):\n",
    "    print(\"Первый игрок — победитель!\")\n",
    "else:\n",
    "    print(\"Второй игрок — победитель!\")"
   ],
   "metadata": {
    "collapsed": false,
    "ExecuteTime": {
     "end_time": "2024-03-14T13:48:35.194590Z",
     "start_time": "2024-03-14T13:48:35.192060Z"
    }
   },
   "id": "fe128f9918ffd435",
   "execution_count": 12
  },
  {
   "cell_type": "markdown",
   "source": [
    "# Ex 5.6\n",
    "Обдумывая акцию для распродажи, владелец компании пришёл к выводу, что продавать все кроссовки по акции на сайте компании невыгодно.\n",
    "Поэтому была придумана новая схема: если клиент покупает одновременно кроссовки двух разных брендов,\n",
    "то его общая скидка составит 5 %, если две пары от одного бренда — то 10 %.\n",
    "Для упрощения задачи будем считать, что покупатель в любом случае купит не более двух пар кроссовок.\n",
    "Список товаров в корзине хранится в переменной purchases и может быть пустым.\n",
    "Также будем считать, что для всех товаров бренда действует одна и та же цена.\n",
    "Расценки товаров хранятся в словаре prices:\n",
    "```python\n",
    "prices = {'Adidas': 4298, 'Nike': 6550, 'Puma': 4490, 'Asics': 3879}\n",
    "```\n",
    "Напишите программу, которая:\n",
    "    1. Выводит на экран информацию об ошибке, если список покупок пуст в виде строки: Ваша корзина пуста\n",
    "    2. Выводит на экран информацию об общей стоимости товара, если куплен только один товар Стоимость заказа составила: <стоимость заказа>\n",
    "    3. Выводит на экран информацию о полученной скидке, сумме оплаты без скидки и сумму со скидкой в следующем формате:\n",
    "```\n",
    "Стоимость заказа составила: <стоимость заказа без скидки>. С учетом скидки в <размер скидки>% — <стоимость заказа со скидкой>\n",
    "```\n",
    "Примеры работы программы:\n",
    "```python\n",
    "purchases = [\"Adidas\", \"Nike\"]\n",
    "# Стоимость заказа составила: 10848. С учетом скидки в 5% — 10305.6\n",
    "\n",
    "purchases = [\"Nike\", \"Nike\"]\n",
    "# Стоимость заказа составила: 13100. С учетом скидки в 10% — 11790.0\n",
    "\n",
    "purchases = []\n",
    "# Ваша корзина пуста\n",
    "```"
   ],
   "metadata": {
    "collapsed": false
   },
   "id": "651e67db4f288a69"
  },
  {
   "cell_type": "code",
   "outputs": [
    {
     "name": "stdout",
     "output_type": "stream",
     "text": [
      "Стоимость заказа составила: 13100. С учетом скидки в 10% — 11790.0\n"
     ]
    }
   ],
   "source": [
    "prices = {'Adidas': 4298, 'Nike': 6550, 'Puma': 4490, 'Asics': 3879}\n",
    "purchases = ['Nike', 'Nike']\n",
    "\n",
    "if not purchases:\n",
    "    print(\"Ваша корзина пуста\")\n",
    "elif len(purchases) == 1:\n",
    "    print(\"Стоимость заказа составила: \" + str(prices[purchases[0]]) + \". С учетом скидки в \" + '0' + \"% — \" + str(prices[purchases[0]]))\n",
    "elif len(purchases) == 2:\n",
    "    final_price_full = prices[purchases[0]] + prices[purchases[1]]\n",
    "    if purchases[0] == purchases[1]:\n",
    "        final_price_discount = float(final_price_full) - (float(final_price_full) / 10)\n",
    "        print(\"Стоимость заказа составила: \" + str(final_price_full) + \". С учетом скидки в \" + '10' + \"% — \" + str(final_price_discount))\n",
    "    else:\n",
    "        final_price_discount = float(final_price_full) - (float(final_price_full) / 20)\n",
    "        print(\"Стоимость заказа составила: \" + str(final_price_full) + \". С учетом скидки в \" + '5' + \"% — \" + str(final_price_discount))\n",
    "else:\n",
    "    print(\"Акция не применена\")"
   ],
   "metadata": {
    "collapsed": false,
    "ExecuteTime": {
     "end_time": "2024-03-14T17:37:40.597359Z",
     "start_time": "2024-03-14T17:37:40.594214Z"
    }
   },
   "id": "577647b8c4289eaa",
   "execution_count": 60
  },
  {
   "cell_type": "markdown",
   "source": [
    "# Ex 5.7\n",
    "При составлении резюме на платформе поиска работы автоматически указывается дата обновления этого резюме.\n",
    "Дата содержится в поле date.\n",
    "```python\n",
    "date = '16.04.2019 15:59'\n",
    "date = '12.05.2019 08:42'\n",
    "date = '05.07.2018 20:15'\n",
    "```\n",
    "Мы распределяем резюме по категориям:\n",
    "    1. Категория 1 — резюме, обновленные в мае 2019\n",
    "    2. Категория 2 — резюме, обновленные в период с января по май (не включая май) 2019 года\n",
    "    3. Категория 3 — резюме, составленные раньше, чем 1 января 2019 года\n",
    "Напишите программу, которая определяет категорию резюме. Категорию занесите целым числом в переменную category.\n",
    "Известно, что в базе нет резюме, обновлённых после 1 июня 2019 года.\n",
    "Формат строки date одинаков для всех записей из базы данных, вы можете воспользоваться им.\n",
    "Примеры работы программы:\n",
    "```python\n",
    "date = '16.04.2019 15:59'\n",
    "# category = 2\n",
    "\n",
    "date = '12.05.2019 08:42'\n",
    "# category = 1\n",
    "\n",
    "date = '05.07.2018 20:15'\n",
    "# category = 3\n",
    "```"
   ],
   "metadata": {
    "collapsed": false
   },
   "id": "dc4679250a342502"
  },
  {
   "cell_type": "code",
   "outputs": [
    {
     "name": "stdout",
     "output_type": "stream",
     "text": [
      "3\n"
     ]
    }
   ],
   "source": [
    "date = '05.07.2018 20:15'\n",
    "date_refresh = date.split(\" \")\n",
    "data_refresh = str(date_refresh[0])\n",
    "data_split = data_refresh.split(\".\")\n",
    "data_day, data_month, data_year = int(data_split[0]), int(data_split[1]), int(data_split[2])\n",
    "if data_year < 2019:\n",
    "    category = 3\n",
    "    print(category)\n",
    "elif data_year == 2019:\n",
    "    if 0 < data_month < 5:\n",
    "        category = 2\n",
    "        print(category)\n",
    "    elif data_month == 5:\n",
    "        category = 1\n",
    "        print(category)\n",
    "    else:\n",
    "        print(\"we dont have these cvs\")\n",
    "else:\n",
    "    print(\"we dont have these cvs\")"
   ],
   "metadata": {
    "collapsed": false,
    "ExecuteTime": {
     "end_time": "2024-03-14T17:55:21.125661Z",
     "start_time": "2024-03-14T17:55:21.122855Z"
    }
   },
   "id": "78c37eccb2e73fd1",
   "execution_count": 66
  },
  {
   "cell_type": "markdown",
   "source": [
    "# Ex 5.8\n",
    "Мы занимаемся обработкой и анализом базы данных, содержащей резюме соискателей.\n",
    "Напишем скрипт для автоматического извлечение информации о городе, в котором проживает соискатель.\n",
    "В поле city_info содержится информация о городе, а также о готовности соискателя к переезду и командировкам.\n",
    "Примеры переменной city_info:\n",
    "```python\n",
    "city_info = \"Москва , не готов к переезду , готов к командировкам\"\n",
    "city_info = \"Москва , м. Беломорская , не готов к переезду, не готов к командировкам\"\n",
    "city_info = \"Санкт-Петербург , готов к переезду (Сочи, Москва) , готов к командировкам\"\n",
    "city_info = \"Новосибирск , готов к переезду, не готов к командировкам\"\n",
    "```\n",
    "Нас интересует только город. Причём мы не хотим учитывать все города. Разделим их на 4 категории:\n",
    "    \"Москва\"\n",
    "    \"Санкт-Петербург\"\n",
    "    \"Город миллионник\"\n",
    "    \"Другое\"\n",
    "Напишите программу, которая в переменную city записывает одну из четырёх категорий городов,\n",
    "приведённых выше (в точности как указано в задании) на основе информации, содержащейся в переменной city_info.\n",
    "Чтобы отделить город от ненужной информации, обратите внимание на структуру строки:\n",
    "город, готовность к командировкам и переезду разделены последовательностью символов ```' , '```.\n",
    "Также вам понадобится список городов-миллионников:\n",
    "```python\n",
    "million_cities = ['Новосибирск', 'Екатеринбург', 'Нижний Новгород', 'Казань', 'Челябинск', 'Омск', 'Самара', 'Ростов-на-Дону', 'Уфа', 'Красноярск', 'Пермь', 'Воронеж', 'Волгоград']\n",
    "```\n",
    "Примеры работы программы:\n",
    "```python\n",
    "city_info = \"Москва , не готов к переезду , готов к командировкам\"\n",
    "# city = 'Москва'\n",
    "\n",
    "city_info = \"Иваново , готов к переезду (Сочи, Москва, Санкт-Петербург) , готов к командировкам\"\n",
    "# city = 'Другое'\n",
    "\n",
    "city_info = \"Санкт-Петербург , готов к переезду (Сочи, Москва) , готов к командировкам\"\n",
    "# city = 'Санкт-Петербург'\n",
    "\n",
    "city_info = \"Новосибирск , готов к переезду, не готов к командировкам\"\n",
    "# city = 'Город миллионник'\n",
    "```"
   ],
   "metadata": {
    "collapsed": false
   },
   "id": "b58bc9e38deaa30b"
  },
  {
   "cell_type": "code",
   "outputs": [
    {
     "name": "stdout",
     "output_type": "stream",
     "text": [
      "Город миллионник\n"
     ]
    }
   ],
   "source": [
    "million_cities = ['Новосибирск', 'Екатеринбург', 'Нижний Новгород', 'Казань', 'Челябинск', 'Омск', 'Самара', 'Ростов-на-Дону', 'Уфа', 'Красноярск', 'Пермь', 'Воронеж', 'Волгоград']\n",
    "target_naming = ['Москва', 'Санкт-Петербург', \"Город миллионник\", 'Другое']\n",
    "\n",
    "city_info = \"Новосибирск , готов к переезду, не готов к командировкам\"\n",
    "city_info_split = city_info.split(' , ')\n",
    "city_possible = city_info_split[0]\n",
    "\n",
    "if city_possible in target_naming:\n",
    "    city = city_possible\n",
    "elif city_possible in million_cities:\n",
    "    city = target_naming[2]\n",
    "else:\n",
    "    city = target_naming[3]\n",
    "print(city)"
   ],
   "metadata": {
    "collapsed": false,
    "ExecuteTime": {
     "end_time": "2024-03-14T18:11:52.882323Z",
     "start_time": "2024-03-14T18:11:52.879719Z"
    }
   },
   "id": "e7d612f4c0ae6014",
   "execution_count": 72
  },
  {
   "cell_type": "code",
   "outputs": [],
   "source": [],
   "metadata": {
    "collapsed": false
   },
   "id": "2473548ae67c7bfb"
  }
 ],
 "metadata": {
  "kernelspec": {
   "display_name": "Python 3",
   "language": "python",
   "name": "python3"
  },
  "language_info": {
   "codemirror_mode": {
    "name": "ipython",
    "version": 2
   },
   "file_extension": ".py",
   "mimetype": "text/x-python",
   "name": "python",
   "nbconvert_exporter": "python",
   "pygments_lexer": "ipython2",
   "version": "2.7.6"
  }
 },
 "nbformat": 4,
 "nbformat_minor": 5
}
